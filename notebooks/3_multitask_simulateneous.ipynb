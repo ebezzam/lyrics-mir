{
 "cells": [
  {
   "cell_type": "markdown",
   "metadata": {},
   "source": [
    "# Multi-task training"
   ]
  },
  {
   "cell_type": "code",
   "execution_count": 1,
   "metadata": {},
   "outputs": [
    {
     "name": "stdout",
     "output_type": "stream",
     "text": [
      "Sat Jan 15 21:59:08 2022       \r\n",
      "+-----------------------------------------------------------------------------+\r\n",
      "| NVIDIA-SMI 495.29.05    Driver Version: 495.29.05    CUDA Version: 11.5     |\r\n",
      "|-------------------------------+----------------------+----------------------+\r\n",
      "| GPU  Name        Persistence-M| Bus-Id        Disp.A | Volatile Uncorr. ECC |\r\n",
      "| Fan  Temp  Perf  Pwr:Usage/Cap|         Memory-Usage | GPU-Util  Compute M. |\r\n",
      "|                               |                      |               MIG M. |\r\n",
      "|===============================+======================+======================|\r\n",
      "|   0  Tesla V100-SXM2...  On   | 00000000:3B:00.0 Off |                    0 |\r\n",
      "| N/A   31C    P0    40W / 300W |      3MiB / 32510MiB |      0%      Default |\r\n",
      "|                               |                      |                  N/A |\r\n",
      "+-------------------------------+----------------------+----------------------+\r\n",
      "                                                                               \r\n",
      "+-----------------------------------------------------------------------------+\r\n",
      "| Processes:                                                                  |\r\n",
      "|  GPU   GI   CI        PID   Type   Process name                  GPU Memory |\r\n",
      "|        ID   ID                                                   Usage      |\r\n",
      "|=============================================================================|\r\n",
      "|  No running processes found                                                 |\r\n",
      "+-----------------------------------------------------------------------------+\r\n"
     ]
    }
   ],
   "source": [
    "!nvidia-smi"
   ]
  },
  {
   "cell_type": "code",
   "execution_count": 2,
   "metadata": {},
   "outputs": [
    {
     "data": {
      "text/plain": [
       "0"
      ]
     },
     "execution_count": 2,
     "metadata": {},
     "output_type": "execute_result"
    }
   ],
   "source": [
    "import torch\n",
    "torch.cuda.empty_cache()\n",
    "\n",
    "import gc\n",
    "gc.collect()"
   ]
  },
  {
   "cell_type": "markdown",
   "metadata": {},
   "source": [
    "Inspired by this notebook: https://colab.research.google.com/github/zphang/zphang.github.io/blob/master/files/notebooks/Multi_task_Training_with_Transformers_NLP.ipynb\n",
    "\n",
    "Training works although we had a few problems:\n",
    "- Quickly ran out of memory\n",
    "- Couldn't load a model from the checkpoint"
   ]
  },
  {
   "cell_type": "code",
   "execution_count": 3,
   "metadata": {},
   "outputs": [],
   "source": [
    "# import tensorflow as tf\n",
    "# import torch\n",
    "# print(tf.__version__)\n",
    "# print(torch.__version__)\n",
    "# !pip install pandas==1.1.4\n",
    "# !pip install tensorflow==2.4.1\n",
    "# !pip install torch==1.8.1"
   ]
  },
  {
   "cell_type": "code",
   "execution_count": 4,
   "metadata": {},
   "outputs": [],
   "source": [
    "# import libraries and define utility functions\n",
    "import pandas as pd\n",
    "import seaborn as sns\n",
    "import matplotlib.pyplot as plt\n",
    "import numpy as np\n",
    "import os\n",
    "from sklearn.model_selection import train_test_split\n",
    "from datasets import Dataset, DatasetDict, ClassLabel, load_metric\n",
    "import transformers\n",
    "import torch.nn as nn\n",
    "from transformers import AutoModelForSequenceClassification, AutoTokenizer, TrainingArguments, Trainer\n",
    "import torch\n",
    "import dataclasses\n",
    "from torch.utils.data.dataloader import DataLoader\n",
    "from transformers.data.data_collator import DataCollator, InputDataClass, DefaultDataCollator\n",
    "from torch.utils.data.distributed import DistributedSampler\n",
    "from torch.utils.data.sampler import RandomSampler\n",
    "from typing import List, Union, Dict\n",
    "from sklearn.metrics import confusion_matrix\n",
    "\n",
    "\n",
    "\n",
    "def create_datasets(tokenized_lyrics, feature, n=None, verbose=True, n_class=1, max_val=1):\n",
    "    \"\"\"\n",
    "    n_class : if provided, quantize to this many classes with equal amount of per class\n",
    "    n : to subset for testing purposes\n",
    "    \"\"\"\n",
    "    lyrics_lab = tokenized_lyrics.copy()\n",
    "    \n",
    "    if feature == \"genre\":\n",
    "        # already multiclass so different preparation\n",
    "        labels_lst = sorted(list(set(df_clean[\"genre\"])))\n",
    "        labels = ClassLabel(names=labels_lst)\n",
    "        lyrics_lab[\"train\"] = lyrics_lab[\"train\"].add_column(\"labels\", labels.str2int(train[\"genre\"]))\n",
    "        lyrics_lab[\"validation\"] = lyrics_lab[\"validation\"].add_column(\"labels\", labels.str2int(val[\"genre\"]))\n",
    "        lyrics_lab[\"test\"] = lyrics_lab[\"test\"].add_column(\"labels\", labels.str2int(test[\"genre\"]))\n",
    "\n",
    "        # cast to ClassLabel\n",
    "        for _key in lyrics_lab.keys():\n",
    "            new_features = lyrics_lab[_key].features.copy()\n",
    "            new_features[\"labels\"] = labels\n",
    "            lyrics_lab[_key] = lyrics_lab[_key].cast(new_features)\n",
    "        \n",
    "    else:\n",
    "    \n",
    "        if n_class > 1:\n",
    "            edges = histedges_equalN(train[feature].values, n_class, max_val=max_val)\n",
    "            if verbose:\n",
    "                print(edges)\n",
    "            lyrics_lab[\"train\"] = lyrics_lab[\"train\"].add_column(\"labels\", quantize_feature(train[feature], edges))\n",
    "            lyrics_lab[\"validation\"] = lyrics_lab[\"validation\"].add_column(\"labels\", quantize_feature(val[feature], edges))\n",
    "            lyrics_lab[\"test\"] = lyrics_lab[\"test\"].add_column(\"labels\", quantize_feature(test[feature], edges))\n",
    "        else:\n",
    "            lyrics_lab[\"train\"] = lyrics_lab[\"train\"].add_column(\"labels\", train[feature])\n",
    "            lyrics_lab[\"validation\"] = lyrics_lab[\"validation\"].add_column(\"labels\", val[feature])\n",
    "            lyrics_lab[\"test\"] = lyrics_lab[\"test\"].add_column(\"labels\", test[feature])\n",
    "    \n",
    "    if verbose:\n",
    "        print(lyrics_lab)\n",
    "    \n",
    "    if n is not None:\n",
    "        lyrics_lab[\"train\"] = lyrics_lab[\"train\"].shuffle(seed=seed).select(range(n)) \n",
    "        lyrics_lab[\"validation\"] = lyrics_lab[\"validation\"].shuffle(seed=seed).select(range(n)) \n",
    "        lyrics_lab[\"test\"] = lyrics_lab[\"test\"].shuffle(seed=seed).select(range(n)) \n",
    "    \n",
    "    if verbose:\n",
    "        print(lyrics_lab[\"train\"])\n",
    "        print(lyrics_lab[\"validation\"])\n",
    "        print(lyrics_lab[\"test\"])\n",
    "            \n",
    "    return lyrics_lab\n",
    "\n",
    "\n",
    "def quantize_feature(values, edges):\n",
    "    labels = values.copy().astype(np.int)\n",
    "    for i, _edge in enumerate(edges[:-1]):\n",
    "        if i == 0:\n",
    "            mask = values < edges[i+1]\n",
    "        else:\n",
    "            mask = np.logical_and(values >= edges[i], values < edges[i+1])\n",
    "        labels[mask] = i\n",
    "    return labels\n",
    "\n",
    "\n",
    "def histedges_equalN(x, nbin, max_val=None):\n",
    "    # https://stackoverflow.com/a/39419049\n",
    "    npt = len(x)\n",
    "    edges = np.interp(np.linspace(0, npt, nbin + 1), np.arange(npt), np.sort(x))\n",
    "    if max_val:\n",
    "        edges[-1] = max_val\n",
    "    return edges"
   ]
  },
  {
   "cell_type": "markdown",
   "metadata": {},
   "source": [
    "Our base model for fine-tuning."
   ]
  },
  {
   "cell_type": "code",
   "execution_count": 5,
   "metadata": {},
   "outputs": [],
   "source": [
    "# model_str = \"sentence-transformers/all-mpnet-base-v2\"    # 418 MB, 384 max length\n",
    "model_str = \"sentence-transformers/all-distilroberta-v1\"   # 292 MB, 512 max length\n",
    "# model_str = \"sentence-transformers/all-MiniLM-L6-v2\"       # 80 MB, 256 max length\n",
    "# model_str = \"sentence-transformers/all-MiniLM-L12-v2\"       # 118 MB, 256 max length"
   ]
  },
  {
   "cell_type": "markdown",
   "metadata": {},
   "source": [
    "tasks to fine-tune on and other parameters"
   ]
  },
  {
   "cell_type": "code",
   "execution_count": 8,
   "metadata": {},
   "outputs": [],
   "source": [
    "tasks = [\"genre\", \"valence\"]\n",
    "tasks = [\"genre\", \"valence\", \"danceability\"]\n",
    "# tasks = [\"genre\", \"valence\", \"danceability\", \"energy\"]\n",
    "freeze_base_model = False\n",
    "n_class = 2\n",
    "batch_size = 16\n",
    "n_epochs = 5\n",
    "n_example = None    # None to use everything\n",
    "learning_rate = 1e-5   # default is 1e-3 for frozen base and 1e-5 otherwise"
   ]
  },
  {
   "cell_type": "markdown",
   "metadata": {},
   "source": [
    "# 1) load and create datasets"
   ]
  },
  {
   "cell_type": "code",
   "execution_count": 9,
   "metadata": {},
   "outputs": [
    {
     "name": "stdout",
     "output_type": "stream",
     "text": [
      "(15863, 17)\n"
     ]
    },
    {
     "data": {
      "text/html": [
       "<div>\n",
       "<style scoped>\n",
       "    .dataframe tbody tr th:only-of-type {\n",
       "        vertical-align: middle;\n",
       "    }\n",
       "\n",
       "    .dataframe tbody tr th {\n",
       "        vertical-align: top;\n",
       "    }\n",
       "\n",
       "    .dataframe thead th {\n",
       "        text-align: right;\n",
       "    }\n",
       "</style>\n",
       "<table border=\"1\" class=\"dataframe\">\n",
       "  <thead>\n",
       "    <tr style=\"text-align: right;\">\n",
       "      <th></th>\n",
       "      <th>lyrics</th>\n",
       "      <th>explicit</th>\n",
       "      <th>song_name</th>\n",
       "      <th>song_popularity</th>\n",
       "      <th>mode</th>\n",
       "      <th>acousticness</th>\n",
       "      <th>danceability</th>\n",
       "      <th>energy</th>\n",
       "      <th>instrumentalness</th>\n",
       "      <th>liveness</th>\n",
       "      <th>loudness</th>\n",
       "      <th>speechiness</th>\n",
       "      <th>valence</th>\n",
       "      <th>tempo</th>\n",
       "      <th>release_year</th>\n",
       "      <th>artist</th>\n",
       "      <th>genre</th>\n",
       "    </tr>\n",
       "    <tr>\n",
       "      <th>song_id</th>\n",
       "      <th></th>\n",
       "      <th></th>\n",
       "      <th></th>\n",
       "      <th></th>\n",
       "      <th></th>\n",
       "      <th></th>\n",
       "      <th></th>\n",
       "      <th></th>\n",
       "      <th></th>\n",
       "      <th></th>\n",
       "      <th></th>\n",
       "      <th></th>\n",
       "      <th></th>\n",
       "      <th></th>\n",
       "      <th></th>\n",
       "      <th></th>\n",
       "      <th></th>\n",
       "    </tr>\n",
       "  </thead>\n",
       "  <tbody>\n",
       "    <tr>\n",
       "      <th>3e9HZxeyfWwjeyPAMmWSSQ</th>\n",
       "      <td>Thought I'd end up with Sean. But he wasn't a ...</td>\n",
       "      <td>1</td>\n",
       "      <td>thank u, next</td>\n",
       "      <td>86</td>\n",
       "      <td>1</td>\n",
       "      <td>0.22900</td>\n",
       "      <td>0.717</td>\n",
       "      <td>0.653</td>\n",
       "      <td>0.000000</td>\n",
       "      <td>0.1010</td>\n",
       "      <td>-5.634</td>\n",
       "      <td>0.0658</td>\n",
       "      <td>0.412</td>\n",
       "      <td>106.966</td>\n",
       "      <td>2019</td>\n",
       "      <td>Ariana Grande</td>\n",
       "      <td>dance pop</td>\n",
       "    </tr>\n",
       "    <tr>\n",
       "      <th>5p7ujcrUXASCNwRaWNHR1C</th>\n",
       "      <td>Found you when your heart was broke. I filled ...</td>\n",
       "      <td>1</td>\n",
       "      <td>Without Me</td>\n",
       "      <td>87</td>\n",
       "      <td>1</td>\n",
       "      <td>0.29700</td>\n",
       "      <td>0.752</td>\n",
       "      <td>0.488</td>\n",
       "      <td>0.000009</td>\n",
       "      <td>0.0936</td>\n",
       "      <td>-7.050</td>\n",
       "      <td>0.0705</td>\n",
       "      <td>0.533</td>\n",
       "      <td>136.041</td>\n",
       "      <td>2018</td>\n",
       "      <td>Halsey</td>\n",
       "      <td>dance pop</td>\n",
       "    </tr>\n",
       "    <tr>\n",
       "      <th>2xLMifQCjDGFmkHkpNLD9h</th>\n",
       "      <td>Astro, yeah. Sun is down, freezin' cold. That'...</td>\n",
       "      <td>1</td>\n",
       "      <td>SICKO MODE</td>\n",
       "      <td>85</td>\n",
       "      <td>1</td>\n",
       "      <td>0.00513</td>\n",
       "      <td>0.834</td>\n",
       "      <td>0.730</td>\n",
       "      <td>0.000000</td>\n",
       "      <td>0.1240</td>\n",
       "      <td>-3.714</td>\n",
       "      <td>0.2220</td>\n",
       "      <td>0.446</td>\n",
       "      <td>155.008</td>\n",
       "      <td>2018</td>\n",
       "      <td>Travis Scott</td>\n",
       "      <td>hip-hop/rap</td>\n",
       "    </tr>\n",
       "    <tr>\n",
       "      <th>1rqqCSm0Qe4I9rUvWncaom</th>\n",
       "      <td>High, high hopes. Had to have high, high hopes...</td>\n",
       "      <td>0</td>\n",
       "      <td>High Hopes</td>\n",
       "      <td>86</td>\n",
       "      <td>1</td>\n",
       "      <td>0.19300</td>\n",
       "      <td>0.579</td>\n",
       "      <td>0.904</td>\n",
       "      <td>0.000000</td>\n",
       "      <td>0.0640</td>\n",
       "      <td>-2.729</td>\n",
       "      <td>0.0618</td>\n",
       "      <td>0.681</td>\n",
       "      <td>82.014</td>\n",
       "      <td>2018</td>\n",
       "      <td>Panic! At The Disco</td>\n",
       "      <td>rock</td>\n",
       "    </tr>\n",
       "    <tr>\n",
       "      <th>0bYg9bo50gSsH3LtXe2SQn</th>\n",
       "      <td>I-I-I don't want a lot for Christmas. There is...</td>\n",
       "      <td>0</td>\n",
       "      <td>All I Want for Christmas Is You</td>\n",
       "      <td>63</td>\n",
       "      <td>1</td>\n",
       "      <td>0.16400</td>\n",
       "      <td>0.335</td>\n",
       "      <td>0.625</td>\n",
       "      <td>0.000000</td>\n",
       "      <td>0.0708</td>\n",
       "      <td>-7.462</td>\n",
       "      <td>0.0386</td>\n",
       "      <td>0.346</td>\n",
       "      <td>150.277</td>\n",
       "      <td>1994</td>\n",
       "      <td>Mariah Carey</td>\n",
       "      <td>dance pop</td>\n",
       "    </tr>\n",
       "  </tbody>\n",
       "</table>\n",
       "</div>"
      ],
      "text/plain": [
       "                                                                   lyrics  \\\n",
       "song_id                                                                     \n",
       "3e9HZxeyfWwjeyPAMmWSSQ  Thought I'd end up with Sean. But he wasn't a ...   \n",
       "5p7ujcrUXASCNwRaWNHR1C  Found you when your heart was broke. I filled ...   \n",
       "2xLMifQCjDGFmkHkpNLD9h  Astro, yeah. Sun is down, freezin' cold. That'...   \n",
       "1rqqCSm0Qe4I9rUvWncaom  High, high hopes. Had to have high, high hopes...   \n",
       "0bYg9bo50gSsH3LtXe2SQn  I-I-I don't want a lot for Christmas. There is...   \n",
       "\n",
       "                        explicit                        song_name  \\\n",
       "song_id                                                             \n",
       "3e9HZxeyfWwjeyPAMmWSSQ         1                    thank u, next   \n",
       "5p7ujcrUXASCNwRaWNHR1C         1                       Without Me   \n",
       "2xLMifQCjDGFmkHkpNLD9h         1                       SICKO MODE   \n",
       "1rqqCSm0Qe4I9rUvWncaom         0                       High Hopes   \n",
       "0bYg9bo50gSsH3LtXe2SQn         0  All I Want for Christmas Is You   \n",
       "\n",
       "                        song_popularity  mode  acousticness  danceability  \\\n",
       "song_id                                                                     \n",
       "3e9HZxeyfWwjeyPAMmWSSQ               86     1       0.22900         0.717   \n",
       "5p7ujcrUXASCNwRaWNHR1C               87     1       0.29700         0.752   \n",
       "2xLMifQCjDGFmkHkpNLD9h               85     1       0.00513         0.834   \n",
       "1rqqCSm0Qe4I9rUvWncaom               86     1       0.19300         0.579   \n",
       "0bYg9bo50gSsH3LtXe2SQn               63     1       0.16400         0.335   \n",
       "\n",
       "                        energy  instrumentalness  liveness  loudness  \\\n",
       "song_id                                                                \n",
       "3e9HZxeyfWwjeyPAMmWSSQ   0.653          0.000000    0.1010    -5.634   \n",
       "5p7ujcrUXASCNwRaWNHR1C   0.488          0.000009    0.0936    -7.050   \n",
       "2xLMifQCjDGFmkHkpNLD9h   0.730          0.000000    0.1240    -3.714   \n",
       "1rqqCSm0Qe4I9rUvWncaom   0.904          0.000000    0.0640    -2.729   \n",
       "0bYg9bo50gSsH3LtXe2SQn   0.625          0.000000    0.0708    -7.462   \n",
       "\n",
       "                        speechiness  valence    tempo  release_year  \\\n",
       "song_id                                                               \n",
       "3e9HZxeyfWwjeyPAMmWSSQ       0.0658    0.412  106.966          2019   \n",
       "5p7ujcrUXASCNwRaWNHR1C       0.0705    0.533  136.041          2018   \n",
       "2xLMifQCjDGFmkHkpNLD9h       0.2220    0.446  155.008          2018   \n",
       "1rqqCSm0Qe4I9rUvWncaom       0.0618    0.681   82.014          2018   \n",
       "0bYg9bo50gSsH3LtXe2SQn       0.0386    0.346  150.277          1994   \n",
       "\n",
       "                                     artist        genre  \n",
       "song_id                                                   \n",
       "3e9HZxeyfWwjeyPAMmWSSQ        Ariana Grande    dance pop  \n",
       "5p7ujcrUXASCNwRaWNHR1C               Halsey    dance pop  \n",
       "2xLMifQCjDGFmkHkpNLD9h         Travis Scott  hip-hop/rap  \n",
       "1rqqCSm0Qe4I9rUvWncaom  Panic! At The Disco         rock  \n",
       "0bYg9bo50gSsH3LtXe2SQn         Mariah Carey    dance pop  "
      ]
     },
     "execution_count": 9,
     "metadata": {},
     "output_type": "execute_result"
    }
   ],
   "source": [
    "# load original dataframe\n",
    "df_clean = pd.read_pickle('df_clean_v4_14122021_py35.pkl')\n",
    "print(df_clean.shape)\n",
    "df_clean.head()"
   ]
  },
  {
   "cell_type": "code",
   "execution_count": 10,
   "metadata": {},
   "outputs": [
    {
     "name": "stdout",
     "output_type": "stream",
     "text": [
      "(11104, 17)\n",
      "(2379, 17)\n",
      "(2380, 17)\n"
     ]
    }
   ],
   "source": [
    "# train, validation, test split\n",
    "seed = 11\n",
    "val_size = 0.15\n",
    "test_size = 0.15\n",
    "train, _eval = train_test_split(\n",
    "    df_clean, test_size=val_size + test_size, random_state=seed, stratify=df_clean['genre']\n",
    ")\n",
    "val, test = train_test_split(\n",
    "    _eval, test_size=test_size / (val_size + test_size), random_state=seed, stratify=_eval['genre']\n",
    ")\n",
    "print(train.shape)\n",
    "print(val.shape)\n",
    "print(test.shape)"
   ]
  },
  {
   "cell_type": "code",
   "execution_count": 11,
   "metadata": {},
   "outputs": [
    {
     "name": "stdout",
     "output_type": "stream",
     "text": [
      "DatasetDict({\n",
      "    train: Dataset({\n",
      "        features: ['text'],\n",
      "        num_rows: 11104\n",
      "    })\n",
      "    validation: Dataset({\n",
      "        features: ['text'],\n",
      "        num_rows: 2379\n",
      "    })\n",
      "    test: Dataset({\n",
      "        features: ['text'],\n",
      "        num_rows: 2380\n",
      "    })\n",
      "})\n"
     ]
    }
   ],
   "source": [
    "# create a DatasetDict as expected by Hugging Face\n",
    "lyrics = DatasetDict()\n",
    "\n",
    "# arguments expected by forward: https://github.com/huggingface/transformers/blob/9aeacb58bab321bc21c24bbdf7a24efdccb1d426/src/transformers/modeling_bert.py#L1313\n",
    "lyrics[\"train\"] = Dataset.from_dict({\"text\": list(train[\"lyrics\"])})\n",
    "lyrics[\"validation\"] = Dataset.from_dict({\"text\": list(val[\"lyrics\"])})\n",
    "lyrics[\"test\"] = Dataset.from_dict({\"text\": list(test[\"lyrics\"])})\n",
    "\n",
    "print(lyrics)"
   ]
  },
  {
   "cell_type": "code",
   "execution_count": 12,
   "metadata": {},
   "outputs": [
    {
     "data": {
      "application/vnd.jupyter.widget-view+json": {
       "model_id": "17f3eec24c1e4910bfea294005e41933",
       "version_major": 2,
       "version_minor": 0
      },
      "text/plain": [
       "  0%|          | 0/12 [00:00<?, ?ba/s]"
      ]
     },
     "metadata": {},
     "output_type": "display_data"
    },
    {
     "data": {
      "application/vnd.jupyter.widget-view+json": {
       "model_id": "12dd657bc69d459a8240b6a339a95c80",
       "version_major": 2,
       "version_minor": 0
      },
      "text/plain": [
       "  0%|          | 0/3 [00:00<?, ?ba/s]"
      ]
     },
     "metadata": {},
     "output_type": "display_data"
    },
    {
     "data": {
      "application/vnd.jupyter.widget-view+json": {
       "model_id": "95a4a95d48264613b1c49d1e42d7f7d7",
       "version_major": 2,
       "version_minor": 0
      },
      "text/plain": [
       "  0%|          | 0/3 [00:00<?, ?ba/s]"
      ]
     },
     "metadata": {},
     "output_type": "display_data"
    }
   ],
   "source": [
    "# tokenize\n",
    "tokenizer = AutoTokenizer.from_pretrained(model_str, use_fast=True)\n",
    "    \n",
    "def preprocess_function(examples):\n",
    "    return tokenizer(examples[\"text\"], padding=True, truncation=True)\n",
    "\n",
    "tokenized_lyrics = lyrics.map(preprocess_function, batched=True)"
   ]
  },
  {
   "cell_type": "code",
   "execution_count": 13,
   "metadata": {},
   "outputs": [
    {
     "data": {
      "application/vnd.jupyter.widget-view+json": {
       "model_id": "e066ac6dab8a46dab299230e9e425f6a",
       "version_major": 2,
       "version_minor": 0
      },
      "text/plain": [
       "Casting the dataset:   0%|          | 0/2 [00:00<?, ?ba/s]"
      ]
     },
     "metadata": {},
     "output_type": "display_data"
    },
    {
     "data": {
      "application/vnd.jupyter.widget-view+json": {
       "model_id": "0ff41af548f147cbbb72c35281b62503",
       "version_major": 2,
       "version_minor": 0
      },
      "text/plain": [
       "Casting the dataset:   0%|          | 0/1 [00:00<?, ?ba/s]"
      ]
     },
     "metadata": {},
     "output_type": "display_data"
    },
    {
     "data": {
      "application/vnd.jupyter.widget-view+json": {
       "model_id": "dffbe1978f114fa881e1668e0d02fc5e",
       "version_major": 2,
       "version_minor": 0
      },
      "text/plain": [
       "Casting the dataset:   0%|          | 0/1 [00:00<?, ?ba/s]"
      ]
     },
     "metadata": {},
     "output_type": "display_data"
    },
    {
     "name": "stdout",
     "output_type": "stream",
     "text": [
      "I Could Never Be Happy by The Emotions\n",
      "\n",
      "Lyrics : Yeah, hey. Ahh, mmm. You're my life when shadows fall. You're my hope when faith is lost. You're my shelter from the storms. When winter's cold, you keep me warm. (Keep me warm). Life was just an empty dream. Until your love captured me. (Captured me). And if I should lose your tender touch. I would\n",
      "Genre : r&b\n",
      "Valence : 0\n",
      "Danceability : 0\n",
      "Energy : 0\n"
     ]
    }
   ],
   "source": [
    "# create dataset for different metadata\n",
    "genre_dataset = create_datasets(tokenized_lyrics, feature=\"genre\", verbose=False)\n",
    "valence_dataset = create_datasets(tokenized_lyrics, feature=\"valence\", n_class=n_class, verbose=False)\n",
    "danceability_dataset = create_datasets(tokenized_lyrics, feature=\"danceability\", n_class=n_class, verbose=False)\n",
    "energy_dataset = create_datasets(tokenized_lyrics, feature=\"energy\", n_class=n_class, verbose=False)\n",
    "\n",
    "labels_lst = sorted(list(set(df_clean[\"genre\"])))\n",
    "labels = ClassLabel(names=labels_lst)\n",
    "\n",
    "# print one example and its outputs\n",
    "_id = 1\n",
    "print(f\"{train.iloc[_id]['song_name']} by {train.iloc[_id]['artist']}\\n\")\n",
    "print(f\"Lyrics : {valence_dataset['train'][_id]['text'][:300]}\")\n",
    "print(f\"Genre : {labels.int2str(genre_dataset['train'][_id]['labels'])}\")\n",
    "print(f\"Valence : {valence_dataset['train'][_id]['labels']}\")\n",
    "print(f\"Danceability : {danceability_dataset['train'][_id]['labels']}\")\n",
    "print(f\"Energy : {energy_dataset['train'][_id]['labels']}\")\n"
   ]
  },
  {
   "cell_type": "markdown",
   "metadata": {},
   "source": [
    "create dataset and prepare features for the tasks we are interested in"
   ]
  },
  {
   "cell_type": "code",
   "execution_count": 14,
   "metadata": {},
   "outputs": [
    {
     "data": {
      "application/vnd.jupyter.widget-view+json": {
       "model_id": "289f8fca93ac4f6cbd191946f5ea8676",
       "version_major": 2,
       "version_minor": 0
      },
      "text/plain": [
       "Casting the dataset:   0%|          | 0/2 [00:00<?, ?ba/s]"
      ]
     },
     "metadata": {},
     "output_type": "display_data"
    },
    {
     "data": {
      "application/vnd.jupyter.widget-view+json": {
       "model_id": "1f8e9b2aad2a4f91a468ac4ae1705e2d",
       "version_major": 2,
       "version_minor": 0
      },
      "text/plain": [
       "Casting the dataset:   0%|          | 0/1 [00:00<?, ?ba/s]"
      ]
     },
     "metadata": {},
     "output_type": "display_data"
    },
    {
     "data": {
      "application/vnd.jupyter.widget-view+json": {
       "model_id": "01591fca554041b986e1478d355bb5a0",
       "version_major": 2,
       "version_minor": 0
      },
      "text/plain": [
       "Casting the dataset:   0%|          | 0/1 [00:00<?, ?ba/s]"
      ]
     },
     "metadata": {},
     "output_type": "display_data"
    },
    {
     "name": "stdout",
     "output_type": "stream",
     "text": [
      "genre train 11104 11104\n",
      "genre train 11104 11104\n",
      "genre validation 2379 2379\n",
      "genre validation 2379 2379\n",
      "genre test 2380 2380\n",
      "genre test 2380 2380\n",
      "valence train 11104 11104\n",
      "valence train 11104 11104\n",
      "valence validation 2379 2379\n",
      "valence validation 2379 2379\n",
      "valence test 2380 2380\n",
      "valence test 2380 2380\n",
      "danceability train 11104 11104\n",
      "danceability train 11104 11104\n",
      "danceability validation 2379 2379\n",
      "danceability validation 2379 2379\n",
      "danceability test 2380 2380\n",
      "danceability test 2380 2380\n"
     ]
    }
   ],
   "source": [
    "dataset_dict = dict()\n",
    "columns_dict = dict()\n",
    "for _task in tasks:\n",
    "    dataset_dict[_task] = create_datasets(\n",
    "        tokenized_lyrics, feature=_task, n_class=n_class, n=n_example, verbose=False)\n",
    "    columns_dict[_task] = ['input_ids', 'attention_mask', 'labels']\n",
    "    \n",
    "    \n",
    "features_dict = {}\n",
    "for task_name, dataset in dataset_dict.items():\n",
    "    features_dict[task_name] = {}\n",
    "    for phase, phase_dataset in dataset.items():\n",
    "        features_dict[task_name][phase] = phase_dataset\n",
    "        print(task_name, phase, len(phase_dataset), len(features_dict[task_name][phase]))\n",
    "        features_dict[task_name][phase].set_format(\n",
    "            type=\"torch\", \n",
    "            columns=columns_dict[task_name],\n",
    "        )\n",
    "        print(task_name, phase, len(phase_dataset), len(features_dict[task_name][phase]))"
   ]
  },
  {
   "cell_type": "markdown",
   "metadata": {},
   "source": [
    "# 2) create multitask model"
   ]
  },
  {
   "cell_type": "code",
   "execution_count": 15,
   "metadata": {
    "scrolled": false
   },
   "outputs": [
    {
     "name": "stderr",
     "output_type": "stream",
     "text": [
      "Some weights of the model checkpoint at sentence-transformers/all-distilroberta-v1 were not used when initializing RobertaForSequenceClassification: ['pooler.dense.weight', 'pooler.dense.bias']\n",
      "- This IS expected if you are initializing RobertaForSequenceClassification from the checkpoint of a model trained on another task or with another architecture (e.g. initializing a BertForSequenceClassification model from a BertForPreTraining model).\n",
      "- This IS NOT expected if you are initializing RobertaForSequenceClassification from the checkpoint of a model that you expect to be exactly identical (initializing a BertForSequenceClassification model from a BertForSequenceClassification model).\n",
      "Some weights of RobertaForSequenceClassification were not initialized from the model checkpoint at sentence-transformers/all-distilroberta-v1 and are newly initialized: ['classifier.dense.weight', 'classifier.out_proj.bias', 'classifier.out_proj.weight', 'classifier.dense.bias']\n",
      "You should probably TRAIN this model on a down-stream task to be able to use it for predictions and inference.\n"
     ]
    },
    {
     "name": "stdout",
     "output_type": "stream",
     "text": [
      "RobertaForSequenceClassification\n"
     ]
    },
    {
     "name": "stderr",
     "output_type": "stream",
     "text": [
      "Some weights of the model checkpoint at sentence-transformers/all-distilroberta-v1 were not used when initializing RobertaForSequenceClassification: ['pooler.dense.weight', 'pooler.dense.bias']\n",
      "- This IS expected if you are initializing RobertaForSequenceClassification from the checkpoint of a model trained on another task or with another architecture (e.g. initializing a BertForSequenceClassification model from a BertForPreTraining model).\n",
      "- This IS NOT expected if you are initializing RobertaForSequenceClassification from the checkpoint of a model that you expect to be exactly identical (initializing a BertForSequenceClassification model from a BertForSequenceClassification model).\n",
      "Some weights of RobertaForSequenceClassification were not initialized from the model checkpoint at sentence-transformers/all-distilroberta-v1 and are newly initialized: ['classifier.dense.weight', 'classifier.out_proj.bias', 'classifier.out_proj.weight', 'classifier.dense.bias']\n",
      "You should probably TRAIN this model on a down-stream task to be able to use it for predictions and inference.\n"
     ]
    },
    {
     "name": "stdout",
     "output_type": "stream",
     "text": [
      "RobertaForSequenceClassification\n"
     ]
    },
    {
     "name": "stderr",
     "output_type": "stream",
     "text": [
      "Some weights of the model checkpoint at sentence-transformers/all-distilroberta-v1 were not used when initializing RobertaForSequenceClassification: ['pooler.dense.weight', 'pooler.dense.bias']\n",
      "- This IS expected if you are initializing RobertaForSequenceClassification from the checkpoint of a model trained on another task or with another architecture (e.g. initializing a BertForSequenceClassification model from a BertForPreTraining model).\n",
      "- This IS NOT expected if you are initializing RobertaForSequenceClassification from the checkpoint of a model that you expect to be exactly identical (initializing a BertForSequenceClassification model from a BertForSequenceClassification model).\n",
      "Some weights of RobertaForSequenceClassification were not initialized from the model checkpoint at sentence-transformers/all-distilroberta-v1 and are newly initialized: ['classifier.dense.weight', 'classifier.out_proj.bias', 'classifier.out_proj.weight', 'classifier.dense.bias']\n",
      "You should probably TRAIN this model on a down-stream task to be able to use it for predictions and inference.\n"
     ]
    },
    {
     "name": "stdout",
     "output_type": "stream",
     "text": [
      "RobertaForSequenceClassification\n"
     ]
    }
   ],
   "source": [
    "class MultitaskModel(transformers.PreTrainedModel):\n",
    "    def __init__(self, encoder, taskmodels_dict, freeze_base_model=False):\n",
    "        \"\"\"\n",
    "        Setting MultitaskModel up as a PretrainedModel allows us\n",
    "        to take better advantage of Trainer features\n",
    "        \"\"\"\n",
    "        super().__init__(transformers.PretrainedConfig())\n",
    "\n",
    "        self.encoder = encoder\n",
    "#         if freeze_base_model:\n",
    "#             self.freeze_encoder()\n",
    "        if freeze_base_model:\n",
    "            for name, param in encoder.named_parameters():\n",
    "                if 'classifier' not in name: # classifier layer\n",
    "                    param.requires_grad = False\n",
    "        self.taskmodels_dict = nn.ModuleDict(taskmodels_dict)\n",
    "\n",
    "    @classmethod\n",
    "    def create(cls, model_name, model_type_dict, model_config_dict, freeze_base_model=False):\n",
    "        \"\"\"\n",
    "        This creates a MultitaskModel using the model class and config objects\n",
    "        from single-task models. \n",
    "\n",
    "        We do this by creating each single-task model, and having them share\n",
    "        the same encoder transformer.\n",
    "        \"\"\"\n",
    "        shared_encoder = None\n",
    "        taskmodels_dict = {}\n",
    "        for task_name, model_type in model_type_dict.items():\n",
    "            model = model_type.from_pretrained(\n",
    "                model_name, \n",
    "                config=model_config_dict[task_name],\n",
    "            )\n",
    "            if shared_encoder is None:\n",
    "                shared_encoder = getattr(model, cls.get_encoder_attr_name(model))\n",
    "            else:\n",
    "                setattr(model, cls.get_encoder_attr_name(model), shared_encoder)\n",
    "            taskmodels_dict[task_name] = model\n",
    "        return cls(encoder=shared_encoder, taskmodels_dict=taskmodels_dict, freeze_base_model=freeze_base_model)\n",
    "\n",
    "    @classmethod\n",
    "    def get_encoder_attr_name(cls, model):\n",
    "        \"\"\"\n",
    "        The encoder transformer is named differently in each model \"architecture\".\n",
    "        This method lets us get the name of the encoder attribute\n",
    "        \"\"\"\n",
    "        model_class_name = model.__class__.__name__\n",
    "        print(model_class_name)\n",
    "        if model_class_name.startswith(\"Bert\"):\n",
    "            return \"bert\"\n",
    "        elif model_class_name.startswith(\"Roberta\"):\n",
    "            return \"roberta\"\n",
    "        elif model_class_name.startswith(\"Albert\"):\n",
    "            return \"albert\"\n",
    "        elif model_class_name.startswith(\"MPNet\"):\n",
    "            return \"mpnet\"\n",
    "        else:\n",
    "            raise KeyError(f\"Add support for new model {model_class_name}\")\n",
    "\n",
    "    def forward(self, task_name, **kwargs):\n",
    "        return self.taskmodels_dict[task_name](**kwargs)\n",
    "    \n",
    "    def unfreeze_encoder(self):\n",
    "        for name, param in self.encoder.named_parameters():\n",
    "            if 'classifier' not in name:\n",
    "                param.requires_grad = True\n",
    "        \n",
    "    def freeze_encoder(self):\n",
    "        for name, param in self.encoder.named_parameters():\n",
    "            if 'classifier' not in name:\n",
    "                param.requires_grad = False\n",
    "        \n",
    "    \n",
    "    \n",
    "model_type_dict = dict()\n",
    "model_config_dict = dict()\n",
    "for _task in tasks:\n",
    "    model_type_dict[_task] = transformers.AutoModelForSequenceClassification\n",
    "    model_config_dict[_task] = transformers.AutoConfig.from_pretrained(\n",
    "        model_str, num_labels=n_class if _task != \"genre\" else len(list(set(df_clean[\"genre\"])))\n",
    "    )\n",
    "multitask_model = MultitaskModel.create(\n",
    "    model_name=model_str,\n",
    "    model_type_dict=model_type_dict,\n",
    "    model_config_dict=model_config_dict,\n",
    "    freeze_base_model=freeze_base_model\n",
    ")"
   ]
  },
  {
   "cell_type": "code",
   "execution_count": 16,
   "metadata": {},
   "outputs": [
    {
     "name": "stdout",
     "output_type": "stream",
     "text": [
      "139934366117952\n",
      "139934366117952\n",
      "139934366117952\n",
      "139934366117952\n"
     ]
    }
   ],
   "source": [
    "# check use same encoder\n",
    "if \"mpnet\" in model_str:\n",
    "    print(multitask_model.encoder.embeddings.word_embeddings.weight.data_ptr())\n",
    "    for _key in multitask_model.taskmodels_dict.keys():\n",
    "        print(multitask_model.taskmodels_dict[_key].mpnet.embeddings.word_embeddings.weight.data_ptr())\n",
    "elif \"roberta\" in model_str:\n",
    "    print(multitask_model.encoder.embeddings.word_embeddings.weight.data_ptr())\n",
    "    for _key in multitask_model.taskmodels_dict.keys():\n",
    "        print(multitask_model.taskmodels_dict[_key].roberta.embeddings.word_embeddings.weight.data_ptr())\n",
    "else:\n",
    "    print(\"no model\")"
   ]
  },
  {
   "cell_type": "code",
   "execution_count": 17,
   "metadata": {},
   "outputs": [
    {
     "name": "stdout",
     "output_type": "stream",
     "text": [
      "embeddings.word_embeddings.weight True\n",
      "embeddings.position_embeddings.weight True\n",
      "embeddings.token_type_embeddings.weight True\n",
      "embeddings.LayerNorm.weight True\n",
      "embeddings.LayerNorm.bias True\n",
      "encoder.layer.0.attention.self.query.weight True\n",
      "encoder.layer.0.attention.self.query.bias True\n",
      "encoder.layer.0.attention.self.key.weight True\n",
      "encoder.layer.0.attention.self.key.bias True\n",
      "encoder.layer.0.attention.self.value.weight True\n",
      "encoder.layer.0.attention.self.value.bias True\n",
      "encoder.layer.0.attention.output.dense.weight True\n",
      "encoder.layer.0.attention.output.dense.bias True\n",
      "encoder.layer.0.attention.output.LayerNorm.weight True\n",
      "encoder.layer.0.attention.output.LayerNorm.bias True\n",
      "encoder.layer.0.intermediate.dense.weight True\n",
      "encoder.layer.0.intermediate.dense.bias True\n",
      "encoder.layer.0.output.dense.weight True\n",
      "encoder.layer.0.output.dense.bias True\n",
      "encoder.layer.0.output.LayerNorm.weight True\n",
      "encoder.layer.0.output.LayerNorm.bias True\n",
      "encoder.layer.1.attention.self.query.weight True\n",
      "encoder.layer.1.attention.self.query.bias True\n",
      "encoder.layer.1.attention.self.key.weight True\n",
      "encoder.layer.1.attention.self.key.bias True\n",
      "encoder.layer.1.attention.self.value.weight True\n",
      "encoder.layer.1.attention.self.value.bias True\n",
      "encoder.layer.1.attention.output.dense.weight True\n",
      "encoder.layer.1.attention.output.dense.bias True\n",
      "encoder.layer.1.attention.output.LayerNorm.weight True\n",
      "encoder.layer.1.attention.output.LayerNorm.bias True\n",
      "encoder.layer.1.intermediate.dense.weight True\n",
      "encoder.layer.1.intermediate.dense.bias True\n",
      "encoder.layer.1.output.dense.weight True\n",
      "encoder.layer.1.output.dense.bias True\n",
      "encoder.layer.1.output.LayerNorm.weight True\n",
      "encoder.layer.1.output.LayerNorm.bias True\n",
      "encoder.layer.2.attention.self.query.weight True\n",
      "encoder.layer.2.attention.self.query.bias True\n",
      "encoder.layer.2.attention.self.key.weight True\n",
      "encoder.layer.2.attention.self.key.bias True\n",
      "encoder.layer.2.attention.self.value.weight True\n",
      "encoder.layer.2.attention.self.value.bias True\n",
      "encoder.layer.2.attention.output.dense.weight True\n",
      "encoder.layer.2.attention.output.dense.bias True\n",
      "encoder.layer.2.attention.output.LayerNorm.weight True\n",
      "encoder.layer.2.attention.output.LayerNorm.bias True\n",
      "encoder.layer.2.intermediate.dense.weight True\n",
      "encoder.layer.2.intermediate.dense.bias True\n",
      "encoder.layer.2.output.dense.weight True\n",
      "encoder.layer.2.output.dense.bias True\n",
      "encoder.layer.2.output.LayerNorm.weight True\n",
      "encoder.layer.2.output.LayerNorm.bias True\n",
      "encoder.layer.3.attention.self.query.weight True\n",
      "encoder.layer.3.attention.self.query.bias True\n",
      "encoder.layer.3.attention.self.key.weight True\n",
      "encoder.layer.3.attention.self.key.bias True\n",
      "encoder.layer.3.attention.self.value.weight True\n",
      "encoder.layer.3.attention.self.value.bias True\n",
      "encoder.layer.3.attention.output.dense.weight True\n",
      "encoder.layer.3.attention.output.dense.bias True\n",
      "encoder.layer.3.attention.output.LayerNorm.weight True\n",
      "encoder.layer.3.attention.output.LayerNorm.bias True\n",
      "encoder.layer.3.intermediate.dense.weight True\n",
      "encoder.layer.3.intermediate.dense.bias True\n",
      "encoder.layer.3.output.dense.weight True\n",
      "encoder.layer.3.output.dense.bias True\n",
      "encoder.layer.3.output.LayerNorm.weight True\n",
      "encoder.layer.3.output.LayerNorm.bias True\n",
      "encoder.layer.4.attention.self.query.weight True\n",
      "encoder.layer.4.attention.self.query.bias True\n",
      "encoder.layer.4.attention.self.key.weight True\n",
      "encoder.layer.4.attention.self.key.bias True\n",
      "encoder.layer.4.attention.self.value.weight True\n",
      "encoder.layer.4.attention.self.value.bias True\n",
      "encoder.layer.4.attention.output.dense.weight True\n",
      "encoder.layer.4.attention.output.dense.bias True\n",
      "encoder.layer.4.attention.output.LayerNorm.weight True\n",
      "encoder.layer.4.attention.output.LayerNorm.bias True\n",
      "encoder.layer.4.intermediate.dense.weight True\n",
      "encoder.layer.4.intermediate.dense.bias True\n",
      "encoder.layer.4.output.dense.weight True\n",
      "encoder.layer.4.output.dense.bias True\n",
      "encoder.layer.4.output.LayerNorm.weight True\n",
      "encoder.layer.4.output.LayerNorm.bias True\n",
      "encoder.layer.5.attention.self.query.weight True\n",
      "encoder.layer.5.attention.self.query.bias True\n",
      "encoder.layer.5.attention.self.key.weight True\n",
      "encoder.layer.5.attention.self.key.bias True\n",
      "encoder.layer.5.attention.self.value.weight True\n",
      "encoder.layer.5.attention.self.value.bias True\n",
      "encoder.layer.5.attention.output.dense.weight True\n",
      "encoder.layer.5.attention.output.dense.bias True\n",
      "encoder.layer.5.attention.output.LayerNorm.weight True\n",
      "encoder.layer.5.attention.output.LayerNorm.bias True\n",
      "encoder.layer.5.intermediate.dense.weight True\n",
      "encoder.layer.5.intermediate.dense.bias True\n",
      "encoder.layer.5.output.dense.weight True\n",
      "encoder.layer.5.output.dense.bias True\n",
      "encoder.layer.5.output.LayerNorm.weight True\n",
      "encoder.layer.5.output.LayerNorm.bias True\n"
     ]
    }
   ],
   "source": [
    "# check frozen/unfrozen\n",
    "for name, param in multitask_model.encoder.named_parameters():\n",
    "    print(name, param.requires_grad)"
   ]
  },
  {
   "cell_type": "markdown",
   "metadata": {},
   "source": [
    "# 3) preparing multi-task data loader\n",
    "https://github.com/huggingface/transformers/blob/master/src/transformers/data/data_collator.py"
   ]
  },
  {
   "cell_type": "code",
   "execution_count": 18,
   "metadata": {},
   "outputs": [],
   "source": [
    "class NLPDataCollator(DefaultDataCollator):\n",
    "    \"\"\"\n",
    "    Extending the existing DataCollator to work with NLP dataset batches\n",
    "    \"\"\"\n",
    "    def collate_batch(self, features):\n",
    "        first = features[0]\n",
    "        if isinstance(first, dict):\n",
    "            # NLP data sets current works presents features as lists of dictionary\n",
    "            # (one per example), so we  will adapt the collate_batch logic for that\n",
    "            if \"labels\" in first and first[\"labels\"] is not None:\n",
    "                if first[\"labels\"].dtype == torch.int64:\n",
    "                    labels = torch.tensor([f[\"labels\"] for f in features], dtype=torch.long)\n",
    "                else:\n",
    "                    labels = torch.tensor([f[\"labels\"] for f in features], dtype=torch.float)\n",
    "                batch = {\"labels\": labels}\n",
    "            for k, v in first.items():\n",
    "                if k != \"labels\" and v is not None and not isinstance(v, str):\n",
    "                    batch[k] = torch.stack([f[k] for f in features])\n",
    "            return batch\n",
    "        else:\n",
    "            # otherwise, revert to using the default collate_batch\n",
    "            return DefaultDataCollator().collate_batch(features)\n",
    "\n",
    "\n",
    "class StrIgnoreDevice(str):\n",
    "    \"\"\"\n",
    "    This is a hack. The Trainer is going call .to(device) on every input\n",
    "    value, but we need to pass in an additional `task_name` string.\n",
    "    This prevents it from throwing an error\n",
    "    \"\"\"\n",
    "    def to(self, device):\n",
    "        return self\n",
    "\n",
    "\n",
    "class DataLoaderWithTaskname:\n",
    "    \"\"\"\n",
    "    Wrapper around a DataLoader to also yield a task name\n",
    "    \"\"\"\n",
    "    def __init__(self, task_name, data_loader):\n",
    "        self.task_name = task_name\n",
    "        self.data_loader = data_loader\n",
    "\n",
    "        self.batch_size = data_loader.batch_size\n",
    "        self.dataset = data_loader.dataset\n",
    "\n",
    "    def __len__(self):\n",
    "        return len(self.data_loader)\n",
    "    \n",
    "    def __iter__(self):\n",
    "        for batch in self.data_loader:\n",
    "            batch[\"task_name\"] = StrIgnoreDevice(self.task_name)\n",
    "            yield batch\n",
    "\n",
    "\n",
    "class MultitaskDataloader:\n",
    "    \"\"\"\n",
    "    Data loader that combines and samples from multiple single-task\n",
    "    data loaders.\n",
    "    \"\"\"\n",
    "    def __init__(self, dataloader_dict, batch_size=None):\n",
    "        self.dataloader_dict = dataloader_dict\n",
    "        self.num_batches_dict = {\n",
    "            task_name: len(dataloader) \n",
    "            for task_name, dataloader in self.dataloader_dict.items()\n",
    "        }\n",
    "        self.task_name_list = list(self.dataloader_dict)\n",
    "        self.dataset = [None] * sum(\n",
    "            len(dataloader.dataset) \n",
    "            for dataloader in self.dataloader_dict.values()\n",
    "        )\n",
    "        self.batch_size = batch_size\n",
    "\n",
    "    def __len__(self):\n",
    "        return sum(self.num_batches_dict.values())\n",
    "\n",
    "    def __iter__(self):\n",
    "        \"\"\"\n",
    "        For each batch, sample a task, and yield a batch from the respective\n",
    "        task Dataloader.\n",
    "\n",
    "        We use size-proportional sampling, but you could easily modify this\n",
    "        to sample from some-other distribution.\n",
    "        \"\"\"\n",
    "        task_choice_list = []\n",
    "        for i, task_name in enumerate(self.task_name_list):\n",
    "            task_choice_list += [i] * self.num_batches_dict[task_name]\n",
    "        task_choice_list = np.array(task_choice_list)\n",
    "        np.random.shuffle(task_choice_list)\n",
    "        dataloader_iter_dict = {\n",
    "            task_name: iter(dataloader) \n",
    "            for task_name, dataloader in self.dataloader_dict.items()\n",
    "        }\n",
    "        for task_choice in task_choice_list:\n",
    "            task_name = self.task_name_list[task_choice]\n",
    "            yield next(dataloader_iter_dict[task_name])  "
   ]
  },
  {
   "cell_type": "markdown",
   "metadata": {},
   "source": [
    "# 4) preparing multi-task Trainer\n",
    "\n",
    "remove TPU code snippets"
   ]
  },
  {
   "cell_type": "code",
   "execution_count": 19,
   "metadata": {},
   "outputs": [],
   "source": [
    "class MultitaskTrainer(transformers.Trainer):\n",
    "\n",
    "    def get_single_train_dataloader(self, task_name, train_dataset):\n",
    "        \"\"\"\n",
    "        Create a single-task data loader that also yields task names\n",
    "        \"\"\"\n",
    "        if self.train_dataset is None:\n",
    "            raise ValueError(\"Trainer: training requires a train_dataset.\")\n",
    "#         train_sampler = self._get_train_sampler()\n",
    "        train_sampler = (\n",
    "            RandomSampler(train_dataset)\n",
    "            if self.args.local_rank == -1\n",
    "            else DistributedSampler(train_dataset)\n",
    "        )\n",
    "\n",
    "        data_loader = DataLoaderWithTaskname(\n",
    "            task_name=task_name,\n",
    "            data_loader=DataLoader(\n",
    "              train_dataset,\n",
    "              batch_size=self.args.train_batch_size,\n",
    "              sampler=train_sampler,\n",
    "              collate_fn=self.data_collator.collate_batch,\n",
    "            ),\n",
    "        )\n",
    "        return data_loader\n",
    "\n",
    "    def get_train_dataloader(self):\n",
    "        \"\"\"\n",
    "        Returns a MultitaskDataloader, which is not actually a Dataloader\n",
    "        but an iterable that returns a generator that samples from each \n",
    "        task Dataloader\n",
    "        \"\"\"\n",
    "        return MultitaskDataloader({\n",
    "            task_name: self.get_single_train_dataloader(task_name, task_dataset)\n",
    "            for task_name, task_dataset in self.train_dataset.items()\n",
    "        }, batch_size=self.args.train_batch_size)\n",
    "    \n",
    "    \n",
    "    def get_single_eval_dataloader(self, task_name, eval_dataset):\n",
    "        \"\"\"\n",
    "        Create a single-task data loader that also yields task names\n",
    "        \"\"\"\n",
    "        if self.eval_dataset is None:\n",
    "            raise ValueError(\"Trainer: validation requires a eval_dataset.\")\n",
    "        eval_sampler = self._get_eval_sampler(eval_dataset)\n",
    "\n",
    "        data_loader = DataLoaderWithTaskname(\n",
    "            task_name=task_name,\n",
    "            data_loader=DataLoader(\n",
    "              eval_dataset,\n",
    "              batch_size=self.args.eval_batch_size,\n",
    "              sampler=eval_sampler,\n",
    "              collate_fn=self.data_collator.collate_batch,\n",
    "            ),\n",
    "        )\n",
    "        return data_loader\n",
    "\n",
    "    def get_eval_dataloader(self, eval_dataset=None):\n",
    "        \"\"\"\n",
    "        Returns a MultitaskDataloader, which is not actually a Dataloader\n",
    "        but an iterable that returns a generator that samples from each \n",
    "        task Dataloader\n",
    "        \"\"\"\n",
    "        return MultitaskDataloader({\n",
    "            task_name: self.get_single_eval_dataloader(task_name, task_dataset)\n",
    "            for task_name, task_dataset in self.eval_dataset.items()\n",
    "        }, batch_size=self.args.eval_batch_size)"
   ]
  },
  {
   "cell_type": "markdown",
   "metadata": {},
   "source": [
    "# 5) Train!"
   ]
  },
  {
   "cell_type": "code",
   "execution_count": 20,
   "metadata": {},
   "outputs": [
    {
     "name": "stdout",
     "output_type": "stream",
     "text": [
      "1e-05\n",
      "all-distilroberta-v1_finetuned_multitask_genre_valence_danceability_1e-05\n"
     ]
    }
   ],
   "source": [
    "# learning_rate = 1e-3\n",
    "output_dir = os.path.basename(model_str) + \"_finetuned_multitask_\" + \"_\".join(tasks)\n",
    "if freeze_base_model:\n",
    "    if learning_rate is None:\n",
    "        learning_rate = 1e-3\n",
    "    output_dir += \"_frozen_base\"\n",
    "#     multitask_model.freeze_encoder()\n",
    "else:\n",
    "    if learning_rate is None:\n",
    "        learning_rate = 1e-5\n",
    "#     multitask_model.unfreeze_encoder()\n",
    "if n_example:\n",
    "    output_dir += f\"_{n_example}\"\n",
    "lr_str = str(learning_rate).replace(\".\", \"p\")\n",
    "output_dir += f\"_{lr_str}\"\n",
    "\n",
    "print(learning_rate)\n",
    "print(output_dir)"
   ]
  },
  {
   "cell_type": "markdown",
   "metadata": {},
   "source": [
    "fine-tuning just classification heads to first learn some good classifiers and then fine-tune everything with small learning rate"
   ]
  },
  {
   "cell_type": "code",
   "execution_count": 21,
   "metadata": {},
   "outputs": [],
   "source": [
    "train_dataset = {\n",
    "    task_name: dataset[\"train\"] \n",
    "    for task_name, dataset in dataset_dict.items()\n",
    "}\n",
    "eval_dataset = {\n",
    "    task_name: dataset[\"validation\"] \n",
    "    for task_name, dataset in dataset_dict.items()\n",
    "}\n",
    "metric = load_metric(\"accuracy\")\n",
    "def compute_metrics(eval_pred):\n",
    "    logits, labels = eval_pred\n",
    "    predictions = np.argmax(logits, axis=-1)\n",
    "    return metric.compute(predictions=predictions, references=labels)\n",
    "\n",
    "trainer = MultitaskTrainer(\n",
    "    model=multitask_model,\n",
    "    args=transformers.TrainingArguments(\n",
    "        output_dir=output_dir,\n",
    "        overwrite_output_dir=True,\n",
    "        learning_rate=learning_rate,\n",
    "        do_train=True,\n",
    "        num_train_epochs=n_epochs,\n",
    "        per_device_train_batch_size=batch_size,  \n",
    "        per_device_eval_batch_size=batch_size,\n",
    "        save_steps=3000,\n",
    "        # from fine-tuning notebook\n",
    "        weight_decay=0.01,\n",
    "        evaluation_strategy = \"epoch\",\n",
    "        save_strategy = \"epoch\",\n",
    "        load_best_model_at_end=True,\n",
    "        metric_for_best_model=\"accuracy\"\n",
    "    ),\n",
    "    data_collator=NLPDataCollator(),\n",
    "    train_dataset=train_dataset,\n",
    "    eval_dataset=eval_dataset,\n",
    "    compute_metrics=compute_metrics\n",
    ")"
   ]
  },
  {
   "cell_type": "code",
   "execution_count": null,
   "metadata": {},
   "outputs": [
    {
     "name": "stderr",
     "output_type": "stream",
     "text": [
      "***** Running training *****\n",
      "  Num examples = 33312\n",
      "  Num Epochs = 5\n",
      "  Instantaneous batch size per device = 16\n",
      "  Total train batch size (w. parallel, distributed & accumulation) = 16\n",
      "  Gradient Accumulation steps = 1\n",
      "  Total optimization steps = 10410\n"
     ]
    },
    {
     "data": {
      "text/html": [
       "\n",
       "    <div>\n",
       "      \n",
       "      <progress value='4165' max='10410' style='width:300px; height:20px; vertical-align: middle;'></progress>\n",
       "      [ 4165/10410 19:29 < 29:15, 3.56 it/s, Epoch 2/5]\n",
       "    </div>\n",
       "    <table border=\"1\" class=\"dataframe\">\n",
       "  <thead>\n",
       "    <tr style=\"text-align: left;\">\n",
       "      <th>Epoch</th>\n",
       "      <th>Training Loss</th>\n",
       "      <th>Validation Loss</th>\n",
       "      <th>Accuracy</th>\n",
       "    </tr>\n",
       "  </thead>\n",
       "  <tbody>\n",
       "    <tr>\n",
       "      <td>1</td>\n",
       "      <td>0.907100</td>\n",
       "      <td>0.914085</td>\n",
       "      <td>0.581197</td>\n",
       "    </tr>\n",
       "  </tbody>\n",
       "</table><p>\n",
       "    <div>\n",
       "      \n",
       "      <progress value='346' max='447' style='width:300px; height:20px; vertical-align: middle;'></progress>\n",
       "      [346/447 00:29 < 00:08, 11.83 it/s]\n",
       "    </div>\n",
       "    "
      ],
      "text/plain": [
       "<IPython.core.display.HTML object>"
      ]
     },
     "metadata": {},
     "output_type": "display_data"
    },
    {
     "name": "stderr",
     "output_type": "stream",
     "text": [
      "***** Running Evaluation *****\n",
      "  Num examples = 7137\n",
      "  Batch size = 16\n",
      "Saving model checkpoint to all-distilroberta-v1_finetuned_multitask_genre_valence_danceability_1e-05/checkpoint-2082\n",
      "Configuration saved in all-distilroberta-v1_finetuned_multitask_genre_valence_danceability_1e-05/checkpoint-2082/config.json\n",
      "Model weights saved in all-distilroberta-v1_finetuned_multitask_genre_valence_danceability_1e-05/checkpoint-2082/pytorch_model.bin\n",
      "***** Running Evaluation *****\n",
      "  Num examples = 7137\n",
      "  Batch size = 16\n"
     ]
    }
   ],
   "source": [
    "trainer.train()\n",
    "# trainer.train(resume_from_checkpoint=True)   # reload model"
   ]
  },
  {
   "cell_type": "code",
   "execution_count": 87,
   "metadata": {},
   "outputs": [
    {
     "name": "stderr",
     "output_type": "stream",
     "text": [
      "***** Running Test: genre *****\n",
      "  Num examples = 7932\n",
      "  Batch size = 32\n",
      "/usr/local/lib/python3.6/dist-packages/transformers/trainer_pt_utils.py:382: FutureWarning: DistributedTensorGatherer is deprecated and will be removed in v5 of Transformers.\n",
      "  FutureWarning,\n"
     ]
    },
    {
     "data": {
      "text/html": [
       "\n",
       "    <div>\n",
       "      \n",
       "      <progress value='496' max='248' style='width:300px; height:20px; vertical-align: middle;'></progress>\n",
       "      [248/248 02:47]\n",
       "    </div>\n",
       "    "
      ],
      "text/plain": [
       "<IPython.core.display.HTML object>"
      ]
     },
     "metadata": {},
     "output_type": "display_data"
    },
    {
     "name": "stderr",
     "output_type": "stream",
     "text": [
      "***** Running Test: valence *****\n",
      "  Num examples = 7932\n",
      "  Batch size = 32\n"
     ]
    }
   ],
   "source": [
    "preds_dict = {}\n",
    "for _task in tasks:\n",
    "    test_dataloader = trainer.get_single_eval_dataloader(\n",
    "        _task,\n",
    "        eval_dataset=features_dict[_task][\"test\"]\n",
    "    )\n",
    "    preds_dict[_task] = trainer.prediction_loop(\n",
    "        test_dataloader, \n",
    "        description=f\"Test: {_task}\",\n",
    "    )"
   ]
  },
  {
   "cell_type": "code",
   "execution_count": 88,
   "metadata": {},
   "outputs": [
    {
     "name": "stdout",
     "output_type": "stream",
     "text": [
      "\n",
      "genre\n",
      "['0 - acoustic/folk', '1 - country', '2 - dance pop', '3 - hip-hop/rap', '4 - pop', '5 - r&b', '6 - rock', '7 - soul/disco']\n",
      "\n",
      "valence\n"
     ]
    },
    {
     "data": {
      "image/png": "[encoded data removed]",
      "text/plain": [
       "<Figure size 1440x720 with 2 Axes>"
      ]
     },
     "metadata": {
      "needs_background": "light"
     },
     "output_type": "display_data"
    },
    {
     "data": {
      "image/png": "[encoded data removed]",
      "text/plain": [
       "<Figure size 1440x720 with 2 Axes>"
      ]
     },
     "metadata": {
      "needs_background": "light"
     },
     "output_type": "display_data"
    }
   ],
   "source": [
    "normalize = True\n",
    "\n",
    "for _task in tasks:\n",
    "    \n",
    "    print(f\"\\n{_task}\")\n",
    "\n",
    "    predictions = np.argmax(preds_dict[_task].predictions, axis=-1)\n",
    "    true_vals = preds_dict[_task].label_ids\n",
    "    cf_matrix = confusion_matrix(true_vals, predictions, normalize=\"true\" if normalize else None)\n",
    "    fig, ax = plt.subplots(figsize=(20,10)) \n",
    "    if normalize:\n",
    "        sns.heatmap(cf_matrix, linewidths=1, annot=True, ax=ax, fmt='g', vmin=0, vmax=1)\n",
    "    else:\n",
    "        sns.heatmap(cf_matrix, linewidths=1, annot=True, ax=ax, fmt='g')\n",
    "    if _task == \"genre\":\n",
    "        print([f\"{i} - {lab}\" for i, lab in enumerate(labels.names)])"
   ]
  }
 ],
 "metadata": {
  "kernelspec": {
   "display_name": "Python 3",
   "language": "python",
   "name": "python3"
  },
  "language_info": {
   "codemirror_mode": {
    "name": "ipython",
    "version": 3
   },
   "file_extension": ".py",
   "mimetype": "text/x-python",
   "name": "python",
   "nbconvert_exporter": "python",
   "pygments_lexer": "ipython3",
   "version": "3.6.9"
  }
 },
 "nbformat": 4,
 "nbformat_minor": 4
}
