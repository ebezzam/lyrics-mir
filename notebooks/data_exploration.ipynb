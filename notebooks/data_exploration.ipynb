{
 "cells": [
  {
   "cell_type": "code",
   "execution_count": null,
   "id": "24ed3d39",
   "metadata": {},
   "outputs": [],
   "source": [
    "import pandas as pd"
   ]
  },
  {
   "cell_type": "code",
   "execution_count": null,
   "id": "b04bdd0e",
   "metadata": {},
   "outputs": [],
   "source": [
    "\"\"\" MusicOSet \"\"\"\n",
    "\n",
    "fp = \"../data/musicoset_metadata/songs.csv\"\n",
    "df_songs_meta = pd.read_csv(fp, sep='\\t')\n",
    "print(\"SONGS\")\n",
    "print(df_songs_meta.head())\n",
    "\n",
    "fp = \"../data/musicoset_metadata/artists.csv\"\n",
    "df_artists_meta = pd.read_csv(fp, sep='\\t')\n",
    "print(\"\\n---------------------\\n\")\n",
    "print(\"ARTISTS\")\n",
    "print(df_artists_meta.head())\n",
    "\n",
    "fp = \"../data/musicoset_metadata/tracks.csv\"\n",
    "df_tracks_meta = pd.read_csv(fp, sep='\\t')\n",
    "print(\"\\n---------------------\\n\")\n",
    "print(\"TRACKS\")\n",
    "print(df_tracks_meta.head())\n",
    "\n",
    "fp = \"../data/musicoset_songfeatures/lyrics.csv\"\n",
    "df_lyrics = pd.read_csv(fp, sep='\\t')\n",
    "print(\"\\n---------------------\\n\")\n",
    "print(\"LYRICS\")\n",
    "print(df_lyrics.head())\n",
    "\n",
    "fp = \"../data/musicoset_songfeatures/acoustic_features.csv\"\n",
    "df_acoustic_features = pd.read_csv(fp, sep='\\t')\n",
    "print(\"\\n---------------------\\n\")\n",
    "print(\"ACOUSTIC FEATURES\")\n",
    "print(df_acoustic_features.head())\n"
   ]
  },
  {
   "cell_type": "code",
   "execution_count": null,
   "id": "98b26cfb",
   "metadata": {},
   "outputs": [],
   "source": [
    "# print a few lyrics\n",
    "for i in range(5):\n",
    "    print()\n",
    "    print(df_lyrics['lyrics'].iloc[i])"
   ]
  },
  {
   "cell_type": "code",
   "execution_count": null,
   "id": "ffedde12",
   "metadata": {},
   "outputs": [],
   "source": [
    "# have some nan, lets remove\n",
    "print(f\"number of songs : {len(df_lyrics)}\")\n",
    "df_lyrics = df_lyrics.dropna()\n",
    "print(f\"number of songs with lyrics : {len(df_lyrics)}\")\n",
    "\n",
    "# set song ID as index\n",
    "df_lyrics = df_lyrics.set_index('song_id')\n",
    "df_lyrics.head()"
   ]
  },
  {
   "cell_type": "code",
   "execution_count": null,
   "id": "7b6e1bc9",
   "metadata": {},
   "outputs": [],
   "source": [
    "import numpy as np\n",
    "\n",
    "def standardize_lyrics(lyrics, i, verbose=False):\n",
    "    if verbose:\n",
    "        print(i)\n",
    "    if lyrics is np.nan:\n",
    "        return\n",
    "    \n",
    "#     clean = lyrics[2:-2].strip(\"\\\\n\").replace(\"\\\\n\", \" \").replace(\"\\\\\", \"\")   # remove square brackets around lyrics\n",
    "    clean = lyrics.strip(\"\\\\n\").replace(\"\\\\n\", \" \").replace(\"\\\\\", \"\")   # remove square brackets around lyrics\n",
    "    x = clean.split(\"[\")\n",
    "    clean_verses = []\n",
    "    for sub in x:\n",
    "        if len(sub) > 1:\n",
    "            if verbose:\n",
    "                print(sub)\n",
    "            sub = sub.split(\"]\")\n",
    "            if len(sub) > 1:\n",
    "#                 sub = sub[1]\n",
    "                sub = sub[1][1:]\n",
    "            else:\n",
    "                sub = sub[0]  \n",
    "            if verbose:\n",
    "                print()\n",
    "                print(sub)\n",
    "            clean_verses.append(sub)\n",
    "    clean = ' '.join(clean_verses)\n",
    "    return clean.replace(\"  \", \"\")\n",
    "\n",
    "# n_songs = len(df_lyrics)\n",
    "# stand_lyrics = [standardize_lyrics(df_lyrics['lyrics'].iloc[i], i) for i in range(n_songs)]\n",
    "# print(stand_lyrics[5555])\n",
    "\n",
    "df_lyrics['lyrics'] = df_lyrics['lyrics'].apply(standardize_lyrics, args=(0, False))\n",
    "df_lyrics.head()"
   ]
  },
  {
   "cell_type": "code",
   "execution_count": null,
   "id": "72ec5b80",
   "metadata": {},
   "outputs": [],
   "source": [
    "print(df_lyrics.iloc[4][\"lyrics\"])"
   ]
  },
  {
   "cell_type": "code",
   "execution_count": null,
   "id": "504d8c60",
   "metadata": {},
   "outputs": [],
   "source": [
    "# TODO : create dataframe with all interesting metadata, index by song ID\n",
    "# release year, acoustic features, popularity, explicit, song type, artist type, popularity, main genre/ genres, \n",
    "# then visualize breakdown of each\n",
    "# word cloud"
   ]
  },
  {
   "cell_type": "code",
   "execution_count": null,
   "id": "70a07ece",
   "metadata": {},
   "outputs": [],
   "source": []
  }
 ],
 "metadata": {
  "kernelspec": {
   "display_name": "dlnlp",
   "language": "python",
   "name": "dlnlp"
  },
  "language_info": {
   "codemirror_mode": {
    "name": "ipython",
    "version": 3
   },
   "file_extension": ".py",
   "mimetype": "text/x-python",
   "name": "python",
   "nbconvert_exporter": "python",
   "pygments_lexer": "ipython3",
   "version": "3.9.7"
  }
 },
 "nbformat": 4,
 "nbformat_minor": 5
}
