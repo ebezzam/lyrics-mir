{
 "cells": [
  {
   "cell_type": "markdown",
   "metadata": {},
   "source": [
    "# Multitask Sequential\n",
    "\n",
    "Train on multiple tasks one at a time. Follow order from clustering scores, namely start with task which had best clustering scores.\n",
    "\n",
    "First some imports."
   ]
  },
  {
   "cell_type": "code",
   "execution_count": 1,
   "metadata": {},
   "outputs": [
    {
     "name": "stdout",
     "output_type": "stream",
     "text": [
      "Sat Jan 15 21:58:38 2022       \n",
      "+-----------------------------------------------------------------------------+\n",
      "| NVIDIA-SMI 495.29.05    Driver Version: 495.29.05    CUDA Version: 11.5     |\n",
      "|-------------------------------+----------------------+----------------------+\n",
      "| GPU  Name        Persistence-M| Bus-Id        Disp.A | Volatile Uncorr. ECC |\n",
      "| Fan  Temp  Perf  Pwr:Usage/Cap|         Memory-Usage | GPU-Util  Compute M. |\n",
      "|                               |                      |               MIG M. |\n",
      "|===============================+======================+======================|\n",
      "|   0  Tesla V100-SXM2...  On   | 00000000:3B:00.0 Off |                    0 |\n",
      "| N/A   30C    P0    40W / 300W |      3MiB / 32510MiB |      0%      Default |\n",
      "|                               |                      |                  N/A |\n",
      "+-------------------------------+----------------------+----------------------+\n",
      "                                                                               \n",
      "+-----------------------------------------------------------------------------+\n",
      "| Processes:                                                                  |\n",
      "|  GPU   GI   CI        PID   Type   Process name                  GPU Memory |\n",
      "|        ID   ID                                                   Usage      |\n",
      "|=============================================================================|\n",
      "|  No running processes found                                                 |\n",
      "+-----------------------------------------------------------------------------+\n"
     ]
    }
   ],
   "source": [
    "!nvidia-smi"
   ]
  },
  {
   "cell_type": "code",
   "execution_count": 2,
   "metadata": {},
   "outputs": [
    {
     "data": {
      "text/plain": [
       "0"
      ]
     },
     "execution_count": 2,
     "metadata": {},
     "output_type": "execute_result"
    }
   ],
   "source": [
    "import torch\n",
    "torch.cuda.empty_cache()\n",
    "\n",
    "import gc\n",
    "gc.collect()"
   ]
  },
  {
   "cell_type": "code",
   "execution_count": 3,
   "metadata": {},
   "outputs": [
    {
     "name": "stderr",
     "output_type": "stream",
     "text": [
      "/usr/local/lib/python3.6/dist-packages/requests/__init__.py:91: RequestsDependencyWarning: urllib3 (1.26.8) or chardet (3.0.4) doesn't match a supported version!\n",
      "  RequestsDependencyWarning)\n"
     ]
    },
    {
     "name": "stdout",
     "output_type": "stream",
     "text": [
      "(15863, 17)\n"
     ]
    },
    {
     "data": {
      "text/html": [
       "<div>\n",
       "<style scoped>\n",
       "    .dataframe tbody tr th:only-of-type {\n",
       "        vertical-align: middle;\n",
       "    }\n",
       "\n",
       "    .dataframe tbody tr th {\n",
       "        vertical-align: top;\n",
       "    }\n",
       "\n",
       "    .dataframe thead th {\n",
       "        text-align: right;\n",
       "    }\n",
       "</style>\n",
       "<table border=\"1\" class=\"dataframe\">\n",
       "  <thead>\n",
       "    <tr style=\"text-align: right;\">\n",
       "      <th></th>\n",
       "      <th>lyrics</th>\n",
       "      <th>explicit</th>\n",
       "      <th>song_name</th>\n",
       "      <th>song_popularity</th>\n",
       "      <th>mode</th>\n",
       "      <th>acousticness</th>\n",
       "      <th>danceability</th>\n",
       "      <th>energy</th>\n",
       "      <th>instrumentalness</th>\n",
       "      <th>liveness</th>\n",
       "      <th>loudness</th>\n",
       "      <th>speechiness</th>\n",
       "      <th>valence</th>\n",
       "      <th>tempo</th>\n",
       "      <th>release_year</th>\n",
       "      <th>artist</th>\n",
       "      <th>genre</th>\n",
       "    </tr>\n",
       "    <tr>\n",
       "      <th>song_id</th>\n",
       "      <th></th>\n",
       "      <th></th>\n",
       "      <th></th>\n",
       "      <th></th>\n",
       "      <th></th>\n",
       "      <th></th>\n",
       "      <th></th>\n",
       "      <th></th>\n",
       "      <th></th>\n",
       "      <th></th>\n",
       "      <th></th>\n",
       "      <th></th>\n",
       "      <th></th>\n",
       "      <th></th>\n",
       "      <th></th>\n",
       "      <th></th>\n",
       "      <th></th>\n",
       "    </tr>\n",
       "  </thead>\n",
       "  <tbody>\n",
       "    <tr>\n",
       "      <th>3e9HZxeyfWwjeyPAMmWSSQ</th>\n",
       "      <td>Thought I'd end up with Sean. But he wasn't a ...</td>\n",
       "      <td>1</td>\n",
       "      <td>thank u, next</td>\n",
       "      <td>86</td>\n",
       "      <td>1</td>\n",
       "      <td>0.22900</td>\n",
       "      <td>0.717</td>\n",
       "      <td>0.653</td>\n",
       "      <td>0.000000</td>\n",
       "      <td>0.1010</td>\n",
       "      <td>-5.634</td>\n",
       "      <td>0.0658</td>\n",
       "      <td>0.412</td>\n",
       "      <td>106.966</td>\n",
       "      <td>2019</td>\n",
       "      <td>Ariana Grande</td>\n",
       "      <td>dance pop</td>\n",
       "    </tr>\n",
       "    <tr>\n",
       "      <th>5p7ujcrUXASCNwRaWNHR1C</th>\n",
       "      <td>Found you when your heart was broke. I filled ...</td>\n",
       "      <td>1</td>\n",
       "      <td>Without Me</td>\n",
       "      <td>87</td>\n",
       "      <td>1</td>\n",
       "      <td>0.29700</td>\n",
       "      <td>0.752</td>\n",
       "      <td>0.488</td>\n",
       "      <td>0.000009</td>\n",
       "      <td>0.0936</td>\n",
       "      <td>-7.050</td>\n",
       "      <td>0.0705</td>\n",
       "      <td>0.533</td>\n",
       "      <td>136.041</td>\n",
       "      <td>2018</td>\n",
       "      <td>Halsey</td>\n",
       "      <td>dance pop</td>\n",
       "    </tr>\n",
       "    <tr>\n",
       "      <th>2xLMifQCjDGFmkHkpNLD9h</th>\n",
       "      <td>Astro, yeah. Sun is down, freezin' cold. That'...</td>\n",
       "      <td>1</td>\n",
       "      <td>SICKO MODE</td>\n",
       "      <td>85</td>\n",
       "      <td>1</td>\n",
       "      <td>0.00513</td>\n",
       "      <td>0.834</td>\n",
       "      <td>0.730</td>\n",
       "      <td>0.000000</td>\n",
       "      <td>0.1240</td>\n",
       "      <td>-3.714</td>\n",
       "      <td>0.2220</td>\n",
       "      <td>0.446</td>\n",
       "      <td>155.008</td>\n",
       "      <td>2018</td>\n",
       "      <td>Travis Scott</td>\n",
       "      <td>hip-hop/rap</td>\n",
       "    </tr>\n",
       "    <tr>\n",
       "      <th>1rqqCSm0Qe4I9rUvWncaom</th>\n",
       "      <td>High, high hopes. Had to have high, high hopes...</td>\n",
       "      <td>0</td>\n",
       "      <td>High Hopes</td>\n",
       "      <td>86</td>\n",
       "      <td>1</td>\n",
       "      <td>0.19300</td>\n",
       "      <td>0.579</td>\n",
       "      <td>0.904</td>\n",
       "      <td>0.000000</td>\n",
       "      <td>0.0640</td>\n",
       "      <td>-2.729</td>\n",
       "      <td>0.0618</td>\n",
       "      <td>0.681</td>\n",
       "      <td>82.014</td>\n",
       "      <td>2018</td>\n",
       "      <td>Panic! At The Disco</td>\n",
       "      <td>rock</td>\n",
       "    </tr>\n",
       "    <tr>\n",
       "      <th>0bYg9bo50gSsH3LtXe2SQn</th>\n",
       "      <td>I-I-I don't want a lot for Christmas. There is...</td>\n",
       "      <td>0</td>\n",
       "      <td>All I Want for Christmas Is You</td>\n",
       "      <td>63</td>\n",
       "      <td>1</td>\n",
       "      <td>0.16400</td>\n",
       "      <td>0.335</td>\n",
       "      <td>0.625</td>\n",
       "      <td>0.000000</td>\n",
       "      <td>0.0708</td>\n",
       "      <td>-7.462</td>\n",
       "      <td>0.0386</td>\n",
       "      <td>0.346</td>\n",
       "      <td>150.277</td>\n",
       "      <td>1994</td>\n",
       "      <td>Mariah Carey</td>\n",
       "      <td>dance pop</td>\n",
       "    </tr>\n",
       "  </tbody>\n",
       "</table>\n",
       "</div>"
      ],
      "text/plain": [
       "                                                                   lyrics  \\\n",
       "song_id                                                                     \n",
       "3e9HZxeyfWwjeyPAMmWSSQ  Thought I'd end up with Sean. But he wasn't a ...   \n",
       "5p7ujcrUXASCNwRaWNHR1C  Found you when your heart was broke. I filled ...   \n",
       "2xLMifQCjDGFmkHkpNLD9h  Astro, yeah. Sun is down, freezin' cold. That'...   \n",
       "1rqqCSm0Qe4I9rUvWncaom  High, high hopes. Had to have high, high hopes...   \n",
       "0bYg9bo50gSsH3LtXe2SQn  I-I-I don't want a lot for Christmas. There is...   \n",
       "\n",
       "                        explicit                        song_name  \\\n",
       "song_id                                                             \n",
       "3e9HZxeyfWwjeyPAMmWSSQ         1                    thank u, next   \n",
       "5p7ujcrUXASCNwRaWNHR1C         1                       Without Me   \n",
       "2xLMifQCjDGFmkHkpNLD9h         1                       SICKO MODE   \n",
       "1rqqCSm0Qe4I9rUvWncaom         0                       High Hopes   \n",
       "0bYg9bo50gSsH3LtXe2SQn         0  All I Want for Christmas Is You   \n",
       "\n",
       "                        song_popularity  mode  acousticness  danceability  \\\n",
       "song_id                                                                     \n",
       "3e9HZxeyfWwjeyPAMmWSSQ               86     1       0.22900         0.717   \n",
       "5p7ujcrUXASCNwRaWNHR1C               87     1       0.29700         0.752   \n",
       "2xLMifQCjDGFmkHkpNLD9h               85     1       0.00513         0.834   \n",
       "1rqqCSm0Qe4I9rUvWncaom               86     1       0.19300         0.579   \n",
       "0bYg9bo50gSsH3LtXe2SQn               63     1       0.16400         0.335   \n",
       "\n",
       "                        energy  instrumentalness  liveness  loudness  \\\n",
       "song_id                                                                \n",
       "3e9HZxeyfWwjeyPAMmWSSQ   0.653          0.000000    0.1010    -5.634   \n",
       "5p7ujcrUXASCNwRaWNHR1C   0.488          0.000009    0.0936    -7.050   \n",
       "2xLMifQCjDGFmkHkpNLD9h   0.730          0.000000    0.1240    -3.714   \n",
       "1rqqCSm0Qe4I9rUvWncaom   0.904          0.000000    0.0640    -2.729   \n",
       "0bYg9bo50gSsH3LtXe2SQn   0.625          0.000000    0.0708    -7.462   \n",
       "\n",
       "                        speechiness  valence    tempo  release_year  \\\n",
       "song_id                                                               \n",
       "3e9HZxeyfWwjeyPAMmWSSQ       0.0658    0.412  106.966          2019   \n",
       "5p7ujcrUXASCNwRaWNHR1C       0.0705    0.533  136.041          2018   \n",
       "2xLMifQCjDGFmkHkpNLD9h       0.2220    0.446  155.008          2018   \n",
       "1rqqCSm0Qe4I9rUvWncaom       0.0618    0.681   82.014          2018   \n",
       "0bYg9bo50gSsH3LtXe2SQn       0.0386    0.346  150.277          1994   \n",
       "\n",
       "                                     artist        genre  \n",
       "song_id                                                   \n",
       "3e9HZxeyfWwjeyPAMmWSSQ        Ariana Grande    dance pop  \n",
       "5p7ujcrUXASCNwRaWNHR1C               Halsey    dance pop  \n",
       "2xLMifQCjDGFmkHkpNLD9h         Travis Scott  hip-hop/rap  \n",
       "1rqqCSm0Qe4I9rUvWncaom  Panic! At The Disco         rock  \n",
       "0bYg9bo50gSsH3LtXe2SQn         Mariah Carey    dance pop  "
      ]
     },
     "execution_count": 3,
     "metadata": {},
     "output_type": "execute_result"
    }
   ],
   "source": [
    "import pandas as pd\n",
    "import os\n",
    "import copy\n",
    "import matplotlib.pyplot as plt\n",
    "from datasets import load_metric\n",
    "from sklearn.metrics import confusion_matrix\n",
    "import seaborn as sns\n",
    "import numpy as np\n",
    "from transformers import AutoModelForSequenceClassification, AutoTokenizer, TrainingArguments, Trainer, AutoModel\n",
    "from datasets import Dataset, DatasetDict, ClassLabel, load_metric\n",
    "from sklearn.model_selection import train_test_split\n",
    "\n",
    "\n",
    "def quantize_feature(values, edges):\n",
    "    labels = values.copy().astype(np.int)\n",
    "    for i, _edge in enumerate(edges[:-1]):\n",
    "        if i == 0:\n",
    "            mask = values < edges[i+1]\n",
    "        else:\n",
    "            mask = np.logical_and(values >= edges[i], values < edges[i+1])\n",
    "        labels[mask] = i\n",
    "    return labels\n",
    "\n",
    "\n",
    "def plot_confusion(predictions, true_vals, normalize=True):\n",
    "    cf_matrix = confusion_matrix(true_vals, predictions, normalize=\"true\" if normalize else None)\n",
    "    fig, ax = plt.subplots(figsize=(8, 5)) \n",
    "    sns.heatmap(cf_matrix, linewidths=1, annot=True, ax=ax, fmt='.2g', vmin=0, vmax=1);\n",
    "    ax.set_ylabel(\"GROUND TRUTH\")\n",
    "    ax.set_xlabel(\"PREDICTION\");\n",
    "\n",
    "\n",
    "def histedges_equalN(x, nbin, max_val=None):\n",
    "    # https://stackoverflow.com/a/39419049\n",
    "    npt = len(x)\n",
    "    edges = np.interp(np.linspace(0, npt, nbin + 1), np.arange(npt), np.sort(x))\n",
    "    if max_val:\n",
    "        edges[-1] = max_val\n",
    "    return edges\n",
    "\n",
    "\n",
    "def create_datasets(tokenized_lyrics, feature, n=None, verbose=True, n_class=1, max_val=1):\n",
    "    \"\"\"\n",
    "    n_class : if provided, quantize to this many classes with equal amount of per class\n",
    "    n : to subset for testing purposes\n",
    "    \"\"\"\n",
    "    lyrics_lab = tokenized_lyrics.copy()\n",
    "    \n",
    "    if feature == \"genre\":\n",
    "        # already multiclass so different preparation\n",
    "        labels_lst = sorted(list(set(df_clean[\"genre\"])))\n",
    "        labels = ClassLabel(names=labels_lst)\n",
    "        lyrics_lab[\"train\"] = lyrics_lab[\"train\"].add_column(\"labels\", labels.str2int(train[\"genre\"]))\n",
    "        lyrics_lab[\"validation\"] = lyrics_lab[\"validation\"].add_column(\"labels\", labels.str2int(val[\"genre\"]))\n",
    "        lyrics_lab[\"test\"] = lyrics_lab[\"test\"].add_column(\"labels\", labels.str2int(test[\"genre\"]))\n",
    "\n",
    "        # cast to ClassLabel\n",
    "        for _key in lyrics_lab.keys():\n",
    "            new_features = lyrics_lab[_key].features.copy()\n",
    "            new_features[\"labels\"] = labels\n",
    "            lyrics_lab[_key] = lyrics_lab[_key].cast(new_features)\n",
    "            \n",
    "    else:\n",
    "    \n",
    "        if n_class > 1:\n",
    "            edges = histedges_equalN(train[feature].values, n_class, max_val=max_val)\n",
    "            if verbose:\n",
    "                print(edges)\n",
    "            lyrics_lab[\"train\"] = lyrics_lab[\"train\"].add_column(\"labels\", quantize_feature(train[feature], edges))\n",
    "            lyrics_lab[\"validation\"] = lyrics_lab[\"validation\"].add_column(\"labels\", quantize_feature(val[feature], edges))\n",
    "            lyrics_lab[\"test\"] = lyrics_lab[\"test\"].add_column(\"labels\", quantize_feature(test[feature], edges))\n",
    "        else:\n",
    "            lyrics_lab[\"train\"] = lyrics_lab[\"train\"].add_column(\"labels\", train[feature])\n",
    "            lyrics_lab[\"validation\"] = lyrics_lab[\"validation\"].add_column(\"labels\", val[feature])\n",
    "            lyrics_lab[\"test\"] = lyrics_lab[\"test\"].add_column(\"labels\", test[feature])\n",
    "            \n",
    "    if verbose:\n",
    "        print(lyrics_lab)\n",
    "    \n",
    "    if n is not None:\n",
    "        lyrics_lab[\"train\"] = lyrics_lab[\"train\"].shuffle(seed=seed).select(range(n)) \n",
    "        lyrics_lab[\"validation\"] = lyrics_lab[\"validation\"].shuffle(seed=seed).select(range(n)) \n",
    "        lyrics_lab[\"test\"] = lyrics_lab[\"test\"].shuffle(seed=seed).select(range(n)) \n",
    "    \n",
    "    if verbose:\n",
    "        print(lyrics_lab[\"train\"])\n",
    "        print(lyrics_lab[\"validation\"])\n",
    "        print(lyrics_lab[\"test\"])\n",
    "            \n",
    "    return lyrics_lab\n",
    "\n",
    "\n",
    "def create_trainer(\n",
    "    model_str,\n",
    "    lyrics, \n",
    "    freeze_base_model, \n",
    "    feature, \n",
    "    batch_size, \n",
    "    n_epochs, \n",
    "    n_class=1,\n",
    "    learning_rate=None, \n",
    "    n=None,\n",
    "    verbose=True,\n",
    "    max_val=1,\n",
    "    output_dir=None,\n",
    "    base_model_str=None\n",
    "):\n",
    "    \"\"\"\n",
    "    lyrics : DatasetDict object with \"train\", \"validation\", and \"test\" keys\n",
    "    n_class : if provided, quantize to this many classes with equal amount of per class\n",
    "    n : to subset for testing purposes\n",
    "    \"\"\"\n",
    "    \n",
    "    # tokenize lyrics\n",
    "    tokenizer = AutoTokenizer.from_pretrained(model_str, use_fast=True)\n",
    "    if model_str == \"gpt2\":\n",
    "        tokenizer.pad_token = tokenizer.eos_token\n",
    "    def preprocess_function(examples):\n",
    "        return tokenizer(examples[\"text\"], padding=True, truncation=True)\n",
    "    tokenized_lyrics = lyrics.map(preprocess_function, batched=True)\n",
    "    if verbose:\n",
    "        print(\"tokenized lyrics\", tokenized_lyrics)\n",
    "    \n",
    "    # label train, validation, test sets\n",
    "    lyrics_lab = create_datasets(tokenized_lyrics, feature, n, verbose, n_class, max_val)\n",
    "    if feature == \"genre\":\n",
    "        # already multiclass so different preparation\n",
    "        labels_lst = sorted(list(set(df_clean[\"genre\"])))\n",
    "        n_class = len(labels_lst)\n",
    "\n",
    "    # create model\n",
    "    print(\"LOADING MODEL\")\n",
    "    model = AutoModelForSequenceClassification.from_pretrained(model_str, num_labels=n_class)\n",
    "    if base_model_str:\n",
    "        # copy base model from provided model\n",
    "        other_model = AutoModelForSequenceClassification.from_pretrained(base_model_str)\n",
    "        # https://discuss.pytorch.org/t/copying-weights-from-one-net-to-another/1492/4\n",
    "#         model.base_model = copy.deepcopy(other_model.base_model)\n",
    "        # https://discuss.pytorch.org/t/does-deepcopying-optimizer-of-one-model-works-across-the-model-or-should-i-create-new-optimizer-every-time/14359/2\n",
    "        model.base_model.load_state_dict(other_model.base_model.state_dict())\n",
    "        \n",
    "    if freeze_base_model:\n",
    "        for name, param in model.named_parameters():\n",
    "            if 'classifier' not in name: # classifier layer\n",
    "                param.requires_grad = False\n",
    "        if learning_rate is None:\n",
    "            learning_rate = 2e-3\n",
    "    else:\n",
    "        if learning_rate is None:\n",
    "            learning_rate = 2e-5\n",
    "        for name, param in model.named_parameters():\n",
    "            param.requires_grad = True\n",
    "            \n",
    "    # set up training\n",
    "    if output_dir is None:\n",
    "        \n",
    "        if os.path.isdir(model_str):\n",
    "            output_dir = model_str.replace(\"/\", \"-\")\n",
    "            if not freeze_base_model:\n",
    "                output_dir = output_dir.replace(\"_frozen\", \"_unfrozen\")\n",
    "        else:\n",
    "            output_dir = f\"{os.path.basename(model_str)}-finetuned-{feature}\"\n",
    "            if n_class > 1 and feature != \"genre\":\n",
    "                output_dir += f\"_quant{n_class}\"\n",
    "            if freeze_base_model:\n",
    "                output_dir += \"_frozen_base\"\n",
    "            if n:\n",
    "                output_dir += f\"_TEST{n}\"\n",
    "    if verbose:\n",
    "        print(learning_rate)\n",
    "        print(output_dir)\n",
    "    training_args = TrainingArguments(\n",
    "        output_dir, \n",
    "        evaluation_strategy = \"epoch\",\n",
    "        save_strategy = \"epoch\",\n",
    "        learning_rate=learning_rate,\n",
    "        per_device_train_batch_size=batch_size,\n",
    "        per_device_eval_batch_size=batch_size,\n",
    "        num_train_epochs=n_epochs,\n",
    "        weight_decay=0.01,\n",
    "        load_best_model_at_end=True,\n",
    "        metric_for_best_model=\"accuracy\" if n_class > 1 else None,\n",
    "    )\n",
    "    \n",
    "    if n_class > 1:\n",
    "        metric = load_metric(\"accuracy\")\n",
    "        def compute_metrics(eval_pred):\n",
    "            logits, labels = eval_pred\n",
    "            predictions = np.argmax(logits, axis=-1)\n",
    "            return metric.compute(predictions=predictions, references=labels)\n",
    "    else:\n",
    "        compute_metrics = None\n",
    "\n",
    "    trainer = Trainer(\n",
    "        model=model,\n",
    "        args=training_args,\n",
    "        train_dataset=lyrics_lab[\"train\"],\n",
    "        eval_dataset=lyrics_lab[\"validation\"],\n",
    "        tokenizer=tokenizer,\n",
    "        compute_metrics=compute_metrics\n",
    "    )\n",
    "    \n",
    "    return trainer, lyrics_lab[\"train\"], lyrics_lab[\"validation\"], lyrics_lab[\"test\"]\n",
    "\n",
    "\n",
    "\n",
    "df_clean = pd.read_pickle('df_clean_v4_14122021_py35.pkl')\n",
    "print(df_clean.shape)\n",
    "df_clean.head()"
   ]
  },
  {
   "cell_type": "code",
   "execution_count": 4,
   "metadata": {},
   "outputs": [
    {
     "data": {
      "text/plain": [
       "rock             3476\n",
       "pop              2774\n",
       "country          2412\n",
       "soul/disco       2339\n",
       "dance pop        2082\n",
       "hip-hop/rap      1472\n",
       "r&b               972\n",
       "acoustic/folk     336\n",
       "Name: genre, dtype: int64"
      ]
     },
     "execution_count": 4,
     "metadata": {},
     "output_type": "execute_result"
    }
   ],
   "source": [
    "df_clean[\"genre\"].value_counts()"
   ]
  },
  {
   "cell_type": "markdown",
   "metadata": {},
   "source": [
    "# 1) split dataset"
   ]
  },
  {
   "cell_type": "code",
   "execution_count": 5,
   "metadata": {},
   "outputs": [
    {
     "name": "stdout",
     "output_type": "stream",
     "text": [
      "(11104, 17)\n",
      "(2379, 17)\n",
      "(2380, 17)\n"
     ]
    }
   ],
   "source": [
    "seed = 11\n",
    "val_size = 0.15\n",
    "test_size = 0.15\n",
    "train, _eval = train_test_split(\n",
    "    df_clean, test_size=val_size + test_size, random_state=seed, stratify=df_clean['genre']\n",
    ")\n",
    "val, test = train_test_split(\n",
    "    _eval, test_size=test_size / (val_size + test_size), random_state=seed, stratify=_eval['genre']\n",
    ")\n",
    "\n",
    "print(train.shape)\n",
    "print(val.shape)\n",
    "print(test.shape)"
   ]
  },
  {
   "cell_type": "code",
   "execution_count": 6,
   "metadata": {},
   "outputs": [
    {
     "name": "stdout",
     "output_type": "stream",
     "text": [
      "DatasetDict({\n",
      "    train: Dataset({\n",
      "        features: ['text'],\n",
      "        num_rows: 11104\n",
      "    })\n",
      "    validation: Dataset({\n",
      "        features: ['text'],\n",
      "        num_rows: 2379\n",
      "    })\n",
      "    test: Dataset({\n",
      "        features: ['text'],\n",
      "        num_rows: 2380\n",
      "    })\n",
      "})\n"
     ]
    }
   ],
   "source": [
    "lyrics = DatasetDict()\n",
    "\n",
    "# arguments expected by forward: https://github.com/huggingface/transformers/blob/9aeacb58bab321bc21c24bbdf7a24efdccb1d426/src/transformers/modeling_bert.py#L1313\n",
    "lyrics[\"train\"] = Dataset.from_dict({\"text\": list(train[\"lyrics\"])})\n",
    "lyrics[\"validation\"] = Dataset.from_dict({\"text\": list(val[\"lyrics\"])})\n",
    "lyrics[\"test\"] = Dataset.from_dict({\"text\": list(test[\"lyrics\"])})\n",
    "\n",
    "print(lyrics)"
   ]
  },
  {
   "cell_type": "markdown",
   "metadata": {},
   "source": [
    "# 2) Fine-tune genre model on valence\n",
    "\n",
    "first we freeze base layers to train classifier with larger learning rate"
   ]
  },
  {
   "cell_type": "code",
   "execution_count": 7,
   "metadata": {},
   "outputs": [
    {
     "data": {
      "application/vnd.jupyter.widget-view+json": {
       "model_id": "72f6207004b94d5bb15ef7a20ddebe56",
       "version_major": 2,
       "version_minor": 0
      },
      "text/plain": [
       "  0%|          | 0/12 [00:00<?, ?ba/s]"
      ]
     },
     "metadata": {},
     "output_type": "display_data"
    },
    {
     "data": {
      "application/vnd.jupyter.widget-view+json": {
       "model_id": "0b5b0dbeca5b4fba87a132efc81ab29e",
       "version_major": 2,
       "version_minor": 0
      },
      "text/plain": [
       "  0%|          | 0/3 [00:00<?, ?ba/s]"
      ]
     },
     "metadata": {},
     "output_type": "display_data"
    },
    {
     "data": {
      "application/vnd.jupyter.widget-view+json": {
       "model_id": "a74d7008e4dd483a830224e2ff1ec75f",
       "version_major": 2,
       "version_minor": 0
      },
      "text/plain": [
       "  0%|          | 0/3 [00:00<?, ?ba/s]"
      ]
     },
     "metadata": {},
     "output_type": "display_data"
    },
    {
     "name": "stdout",
     "output_type": "stream",
     "text": [
      "tokenized lyrics DatasetDict({\n",
      "    train: Dataset({\n",
      "        features: ['attention_mask', 'input_ids', 'text'],\n",
      "        num_rows: 11104\n",
      "    })\n",
      "    validation: Dataset({\n",
      "        features: ['attention_mask', 'input_ids', 'text'],\n",
      "        num_rows: 2379\n",
      "    })\n",
      "    test: Dataset({\n",
      "        features: ['attention_mask', 'input_ids', 'text'],\n",
      "        num_rows: 2380\n",
      "    })\n",
      "})\n",
      "[0.0349 0.625  1.    ]\n",
      "{'train': Dataset({\n",
      "    features: ['attention_mask', 'input_ids', 'text', 'labels'],\n",
      "    num_rows: 11104\n",
      "}), 'validation': Dataset({\n",
      "    features: ['attention_mask', 'input_ids', 'text', 'labels'],\n",
      "    num_rows: 2379\n",
      "}), 'test': Dataset({\n",
      "    features: ['attention_mask', 'input_ids', 'text', 'labels'],\n",
      "    num_rows: 2380\n",
      "})}\n",
      "Dataset({\n",
      "    features: ['attention_mask', 'input_ids', 'text', 'labels'],\n",
      "    num_rows: 11104\n",
      "})\n",
      "Dataset({\n",
      "    features: ['attention_mask', 'input_ids', 'text', 'labels'],\n",
      "    num_rows: 2379\n",
      "})\n",
      "Dataset({\n",
      "    features: ['attention_mask', 'input_ids', 'text', 'labels'],\n",
      "    num_rows: 2380\n",
      "})\n",
      "LOADING MODEL\n"
     ]
    },
    {
     "name": "stderr",
     "output_type": "stream",
     "text": [
      "Some weights of the model checkpoint at sentence-transformers/all-mpnet-base-v2 were not used when initializing MPNetForSequenceClassification: ['pooler.dense.weight', 'pooler.dense.bias']\n",
      "- This IS expected if you are initializing MPNetForSequenceClassification from the checkpoint of a model trained on another task or with another architecture (e.g. initializing a BertForSequenceClassification model from a BertForPreTraining model).\n",
      "- This IS NOT expected if you are initializing MPNetForSequenceClassification from the checkpoint of a model that you expect to be exactly identical (initializing a BertForSequenceClassification model from a BertForSequenceClassification model).\n",
      "Some weights of MPNetForSequenceClassification were not initialized from the model checkpoint at sentence-transformers/all-mpnet-base-v2 and are newly initialized: ['classifier.out_proj.bias', 'classifier.out_proj.weight', 'classifier.dense.bias', 'classifier.dense.weight']\n",
      "You should probably TRAIN this model on a down-stream task to be able to use it for predictions and inference.\n"
     ]
    },
    {
     "name": "stdout",
     "output_type": "stream",
     "text": [
      "0.002\n",
      "mpnet-genre-finetuned-frozen-valence\n"
     ]
    }
   ],
   "source": [
    "trainer, train_dataset, val_dataset, test_dataset = create_trainer(\n",
    "    model_str=\"sentence-transformers/all-mpnet-base-v2\",\n",
    "    lyrics=lyrics, \n",
    "    feature=\"valence\", \n",
    "    batch_size=32, \n",
    "    n_epochs=5,\n",
    "    freeze_base_model=True,\n",
    "    n_class=2,\n",
    "    output_dir=\"mpnet-genre-finetuned-frozen-valence\",\n",
    "    base_model_str=\"all-mpnet-base-v2-finetuned-genre_unfrozen_base-checkpoint-1735/checkpoint-1735\"\n",
    ")"
   ]
  },
  {
   "cell_type": "code",
   "execution_count": 8,
   "metadata": {},
   "outputs": [
    {
     "name": "stderr",
     "output_type": "stream",
     "text": [
      "The following columns in the training set  don't have a corresponding argument in `MPNetForSequenceClassification.forward` and have been ignored: text.\n",
      "***** Running training *****\n",
      "  Num examples = 11104\n",
      "  Num Epochs = 5\n",
      "  Instantaneous batch size per device = 32\n",
      "  Total train batch size (w. parallel, distributed & accumulation) = 32\n",
      "  Gradient Accumulation steps = 1\n",
      "  Total optimization steps = 1735\n"
     ]
    },
    {
     "data": {
      "text/html": [
       "\n",
       "    <div>\n",
       "      \n",
       "      <progress value='1735' max='1735' style='width:300px; height:20px; vertical-align: middle;'></progress>\n",
       "      [1735/1735 15:11, Epoch 5/5]\n",
       "    </div>\n",
       "    <table border=\"1\" class=\"dataframe\">\n",
       "  <thead>\n",
       "    <tr style=\"text-align: left;\">\n",
       "      <th>Epoch</th>\n",
       "      <th>Training Loss</th>\n",
       "      <th>Validation Loss</th>\n",
       "      <th>Accuracy</th>\n",
       "    </tr>\n",
       "  </thead>\n",
       "  <tbody>\n",
       "    <tr>\n",
       "      <td>1</td>\n",
       "      <td>No log</td>\n",
       "      <td>0.661667</td>\n",
       "      <td>0.630937</td>\n",
       "    </tr>\n",
       "    <tr>\n",
       "      <td>2</td>\n",
       "      <td>0.648300</td>\n",
       "      <td>0.651217</td>\n",
       "      <td>0.623792</td>\n",
       "    </tr>\n",
       "    <tr>\n",
       "      <td>3</td>\n",
       "      <td>0.636300</td>\n",
       "      <td>0.638338</td>\n",
       "      <td>0.633880</td>\n",
       "    </tr>\n",
       "    <tr>\n",
       "      <td>4</td>\n",
       "      <td>0.636300</td>\n",
       "      <td>0.635799</td>\n",
       "      <td>0.634720</td>\n",
       "    </tr>\n",
       "    <tr>\n",
       "      <td>5</td>\n",
       "      <td>0.630000</td>\n",
       "      <td>0.636737</td>\n",
       "      <td>0.635561</td>\n",
       "    </tr>\n",
       "  </tbody>\n",
       "</table><p>"
      ],
      "text/plain": [
       "<IPython.core.display.HTML object>"
      ]
     },
     "metadata": {},
     "output_type": "display_data"
    },
    {
     "name": "stderr",
     "output_type": "stream",
     "text": [
      "The following columns in the evaluation set  don't have a corresponding argument in `MPNetForSequenceClassification.forward` and have been ignored: text.\n",
      "***** Running Evaluation *****\n",
      "  Num examples = 2379\n",
      "  Batch size = 32\n",
      "Saving model checkpoint to mpnet-genre-finetuned-frozen-valence/checkpoint-347\n",
      "Configuration saved in mpnet-genre-finetuned-frozen-valence/checkpoint-347/config.json\n",
      "Model weights saved in mpnet-genre-finetuned-frozen-valence/checkpoint-347/pytorch_model.bin\n",
      "tokenizer config file saved in mpnet-genre-finetuned-frozen-valence/checkpoint-347/tokenizer_config.json\n",
      "Special tokens file saved in mpnet-genre-finetuned-frozen-valence/checkpoint-347/special_tokens_map.json\n",
      "The following columns in the evaluation set  don't have a corresponding argument in `MPNetForSequenceClassification.forward` and have been ignored: text.\n",
      "***** Running Evaluation *****\n",
      "  Num examples = 2379\n",
      "  Batch size = 32\n",
      "Saving model checkpoint to mpnet-genre-finetuned-frozen-valence/checkpoint-694\n",
      "Configuration saved in mpnet-genre-finetuned-frozen-valence/checkpoint-694/config.json\n",
      "Model weights saved in mpnet-genre-finetuned-frozen-valence/checkpoint-694/pytorch_model.bin\n",
      "tokenizer config file saved in mpnet-genre-finetuned-frozen-valence/checkpoint-694/tokenizer_config.json\n",
      "Special tokens file saved in mpnet-genre-finetuned-frozen-valence/checkpoint-694/special_tokens_map.json\n",
      "The following columns in the evaluation set  don't have a corresponding argument in `MPNetForSequenceClassification.forward` and have been ignored: text.\n",
      "***** Running Evaluation *****\n",
      "  Num examples = 2379\n",
      "  Batch size = 32\n",
      "Saving model checkpoint to mpnet-genre-finetuned-frozen-valence/checkpoint-1041\n",
      "Configuration saved in mpnet-genre-finetuned-frozen-valence/checkpoint-1041/config.json\n",
      "Model weights saved in mpnet-genre-finetuned-frozen-valence/checkpoint-1041/pytorch_model.bin\n",
      "tokenizer config file saved in mpnet-genre-finetuned-frozen-valence/checkpoint-1041/tokenizer_config.json\n",
      "Special tokens file saved in mpnet-genre-finetuned-frozen-valence/checkpoint-1041/special_tokens_map.json\n",
      "The following columns in the evaluation set  don't have a corresponding argument in `MPNetForSequenceClassification.forward` and have been ignored: text.\n",
      "***** Running Evaluation *****\n",
      "  Num examples = 2379\n",
      "  Batch size = 32\n",
      "Saving model checkpoint to mpnet-genre-finetuned-frozen-valence/checkpoint-1388\n",
      "Configuration saved in mpnet-genre-finetuned-frozen-valence/checkpoint-1388/config.json\n",
      "Model weights saved in mpnet-genre-finetuned-frozen-valence/checkpoint-1388/pytorch_model.bin\n",
      "tokenizer config file saved in mpnet-genre-finetuned-frozen-valence/checkpoint-1388/tokenizer_config.json\n",
      "Special tokens file saved in mpnet-genre-finetuned-frozen-valence/checkpoint-1388/special_tokens_map.json\n",
      "The following columns in the evaluation set  don't have a corresponding argument in `MPNetForSequenceClassification.forward` and have been ignored: text.\n",
      "***** Running Evaluation *****\n",
      "  Num examples = 2379\n",
      "  Batch size = 32\n",
      "Saving model checkpoint to mpnet-genre-finetuned-frozen-valence/checkpoint-1735\n",
      "Configuration saved in mpnet-genre-finetuned-frozen-valence/checkpoint-1735/config.json\n",
      "Model weights saved in mpnet-genre-finetuned-frozen-valence/checkpoint-1735/pytorch_model.bin\n",
      "tokenizer config file saved in mpnet-genre-finetuned-frozen-valence/checkpoint-1735/tokenizer_config.json\n",
      "Special tokens file saved in mpnet-genre-finetuned-frozen-valence/checkpoint-1735/special_tokens_map.json\n",
      "\n",
      "\n",
      "Training completed. Do not forget to share your model on huggingface.co/models =)\n",
      "\n",
      "\n",
      "Loading best model from mpnet-genre-finetuned-frozen-valence/checkpoint-1735 (score: 0.6355611601513241).\n"
     ]
    },
    {
     "data": {
      "text/plain": [
       "TrainOutput(global_step=1735, training_loss=0.636303798884411, metrics={'train_runtime': 911.5665, 'train_samples_per_second': 60.906, 'train_steps_per_second': 1.903, 'total_flos': 1.46079257935872e+16, 'train_loss': 0.636303798884411, 'epoch': 5.0})"
      ]
     },
     "execution_count": 8,
     "metadata": {},
     "output_type": "execute_result"
    }
   ],
   "source": [
    "trainer.train()\n",
    "# trainer.train(resume_from_checkpoint=True)"
   ]
  },
  {
   "cell_type": "code",
   "execution_count": 9,
   "metadata": {},
   "outputs": [
    {
     "name": "stderr",
     "output_type": "stream",
     "text": [
      "The following columns in the test set  don't have a corresponding argument in `MPNetForSequenceClassification.forward` and have been ignored: text.\n",
      "***** Running Prediction *****\n",
      "  Num examples = 2380\n",
      "  Batch size = 32\n"
     ]
    },
    {
     "data": {
      "text/html": [
       "\n",
       "    <div>\n",
       "      \n",
       "      <progress value='75' max='75' style='width:300px; height:20px; vertical-align: middle;'></progress>\n",
       "      [75/75 00:32]\n",
       "    </div>\n",
       "    "
      ],
      "text/plain": [
       "<IPython.core.display.HTML object>"
      ]
     },
     "metadata": {},
     "output_type": "display_data"
    }
   ],
   "source": [
    "h = trainer.predict(test_dataset)"
   ]
  },
  {
   "cell_type": "code",
   "execution_count": 10,
   "metadata": {},
   "outputs": [
    {
     "data": {
      "image/png": "[encoded data removed]",
      "text/plain": [
       "<Figure size 576x360 with 2 Axes>"
      ]
     },
     "metadata": {
      "needs_background": "light"
     },
     "output_type": "display_data"
    }
   ],
   "source": [
    "plot_confusion(predictions=np.argmax(h.predictions, axis=-1), true_vals=h.label_ids, normalize=True)"
   ]
  },
  {
   "cell_type": "markdown",
   "metadata": {},
   "source": [
    "### now unfreeze base layers and train with small learning rate\n",
    "\n",
    "regarding warning of layers not being used: https://discuss.huggingface.co/t/message-some-layers-from-the-model-were-not-used/1972/4"
   ]
  },
  {
   "cell_type": "code",
   "execution_count": 7,
   "metadata": {},
   "outputs": [
    {
     "data": {
      "application/vnd.jupyter.widget-view+json": {
       "model_id": "29f69231b2b3499a8a93dadcf8cf3c3f",
       "version_major": 2,
       "version_minor": 0
      },
      "text/plain": [
       "  0%|          | 0/12 [00:00<?, ?ba/s]"
      ]
     },
     "metadata": {},
     "output_type": "display_data"
    },
    {
     "data": {
      "application/vnd.jupyter.widget-view+json": {
       "model_id": "ac846cba35464b068fbfd901a08fc18e",
       "version_major": 2,
       "version_minor": 0
      },
      "text/plain": [
       "  0%|          | 0/3 [00:00<?, ?ba/s]"
      ]
     },
     "metadata": {},
     "output_type": "display_data"
    },
    {
     "data": {
      "application/vnd.jupyter.widget-view+json": {
       "model_id": "1351fe611f7d4c91ae1eb00dd9b4ca47",
       "version_major": 2,
       "version_minor": 0
      },
      "text/plain": [
       "  0%|          | 0/3 [00:00<?, ?ba/s]"
      ]
     },
     "metadata": {},
     "output_type": "display_data"
    },
    {
     "name": "stdout",
     "output_type": "stream",
     "text": [
      "tokenized lyrics DatasetDict({\n",
      "    train: Dataset({\n",
      "        features: ['attention_mask', 'input_ids', 'text'],\n",
      "        num_rows: 11104\n",
      "    })\n",
      "    validation: Dataset({\n",
      "        features: ['attention_mask', 'input_ids', 'text'],\n",
      "        num_rows: 2379\n",
      "    })\n",
      "    test: Dataset({\n",
      "        features: ['attention_mask', 'input_ids', 'text'],\n",
      "        num_rows: 2380\n",
      "    })\n",
      "})\n",
      "[0.0349 0.625  1.    ]\n",
      "{'train': Dataset({\n",
      "    features: ['attention_mask', 'input_ids', 'text', 'labels'],\n",
      "    num_rows: 11104\n",
      "}), 'validation': Dataset({\n",
      "    features: ['attention_mask', 'input_ids', 'text', 'labels'],\n",
      "    num_rows: 2379\n",
      "}), 'test': Dataset({\n",
      "    features: ['attention_mask', 'input_ids', 'text', 'labels'],\n",
      "    num_rows: 2380\n",
      "})}\n",
      "Dataset({\n",
      "    features: ['attention_mask', 'input_ids', 'text', 'labels'],\n",
      "    num_rows: 11104\n",
      "})\n",
      "Dataset({\n",
      "    features: ['attention_mask', 'input_ids', 'text', 'labels'],\n",
      "    num_rows: 2379\n",
      "})\n",
      "Dataset({\n",
      "    features: ['attention_mask', 'input_ids', 'text', 'labels'],\n",
      "    num_rows: 2380\n",
      "})\n",
      "LOADING MODEL\n",
      "2e-06\n",
      "mpnet-genre-valence-finetuned\n"
     ]
    }
   ],
   "source": [
    "trainer, train_dataset, val_dataset, test_dataset = create_trainer(\n",
    "    model_str=\"mpnet-genre-finetuned-frozen-valence/checkpoint-1735\",\n",
    "    lyrics=lyrics, \n",
    "    freeze_base_model=False, \n",
    "    feature=\"valence\", \n",
    "    batch_size=32, \n",
    "    n_epochs=3,\n",
    "    n_class=2,\n",
    "    learning_rate=2e-6,\n",
    "    output_dir=\"mpnet-genre-valence-finetuned\",\n",
    ")"
   ]
  },
  {
   "cell_type": "code",
   "execution_count": 8,
   "metadata": {},
   "outputs": [
    {
     "name": "stderr",
     "output_type": "stream",
     "text": [
      "The following columns in the training set  don't have a corresponding argument in `MPNetForSequenceClassification.forward` and have been ignored: text.\n",
      "***** Running training *****\n",
      "  Num examples = 11104\n",
      "  Num Epochs = 3\n",
      "  Instantaneous batch size per device = 32\n",
      "  Total train batch size (w. parallel, distributed & accumulation) = 32\n",
      "  Gradient Accumulation steps = 1\n",
      "  Total optimization steps = 1041\n"
     ]
    },
    {
     "data": {
      "text/html": [
       "\n",
       "    <div>\n",
       "      \n",
       "      <progress value='1041' max='1041' style='width:300px; height:20px; vertical-align: middle;'></progress>\n",
       "      [1041/1041 21:10, Epoch 3/3]\n",
       "    </div>\n",
       "    <table border=\"1\" class=\"dataframe\">\n",
       "  <thead>\n",
       "    <tr style=\"text-align: left;\">\n",
       "      <th>Epoch</th>\n",
       "      <th>Training Loss</th>\n",
       "      <th>Validation Loss</th>\n",
       "      <th>Accuracy</th>\n",
       "    </tr>\n",
       "  </thead>\n",
       "  <tbody>\n",
       "    <tr>\n",
       "      <td>1</td>\n",
       "      <td>No log</td>\n",
       "      <td>0.631546</td>\n",
       "      <td>0.645649</td>\n",
       "    </tr>\n",
       "    <tr>\n",
       "      <td>2</td>\n",
       "      <td>0.603700</td>\n",
       "      <td>0.631247</td>\n",
       "      <td>0.644388</td>\n",
       "    </tr>\n",
       "    <tr>\n",
       "      <td>3</td>\n",
       "      <td>0.589800</td>\n",
       "      <td>0.632524</td>\n",
       "      <td>0.647331</td>\n",
       "    </tr>\n",
       "  </tbody>\n",
       "</table><p>"
      ],
      "text/plain": [
       "<IPython.core.display.HTML object>"
      ]
     },
     "metadata": {},
     "output_type": "display_data"
    },
    {
     "name": "stderr",
     "output_type": "stream",
     "text": [
      "The following columns in the evaluation set  don't have a corresponding argument in `MPNetForSequenceClassification.forward` and have been ignored: text.\n",
      "***** Running Evaluation *****\n",
      "  Num examples = 2379\n",
      "  Batch size = 32\n",
      "Saving model checkpoint to mpnet-genre-valence-finetuned/checkpoint-347\n",
      "Configuration saved in mpnet-genre-valence-finetuned/checkpoint-347/config.json\n",
      "Model weights saved in mpnet-genre-valence-finetuned/checkpoint-347/pytorch_model.bin\n",
      "tokenizer config file saved in mpnet-genre-valence-finetuned/checkpoint-347/tokenizer_config.json\n",
      "Special tokens file saved in mpnet-genre-valence-finetuned/checkpoint-347/special_tokens_map.json\n",
      "The following columns in the evaluation set  don't have a corresponding argument in `MPNetForSequenceClassification.forward` and have been ignored: text.\n",
      "***** Running Evaluation *****\n",
      "  Num examples = 2379\n",
      "  Batch size = 32\n",
      "Saving model checkpoint to mpnet-genre-valence-finetuned/checkpoint-694\n",
      "Configuration saved in mpnet-genre-valence-finetuned/checkpoint-694/config.json\n",
      "Model weights saved in mpnet-genre-valence-finetuned/checkpoint-694/pytorch_model.bin\n",
      "tokenizer config file saved in mpnet-genre-valence-finetuned/checkpoint-694/tokenizer_config.json\n",
      "Special tokens file saved in mpnet-genre-valence-finetuned/checkpoint-694/special_tokens_map.json\n",
      "The following columns in the evaluation set  don't have a corresponding argument in `MPNetForSequenceClassification.forward` and have been ignored: text.\n",
      "***** Running Evaluation *****\n",
      "  Num examples = 2379\n",
      "  Batch size = 32\n",
      "Saving model checkpoint to mpnet-genre-valence-finetuned/checkpoint-1041\n",
      "Configuration saved in mpnet-genre-valence-finetuned/checkpoint-1041/config.json\n",
      "Model weights saved in mpnet-genre-valence-finetuned/checkpoint-1041/pytorch_model.bin\n",
      "tokenizer config file saved in mpnet-genre-valence-finetuned/checkpoint-1041/tokenizer_config.json\n",
      "Special tokens file saved in mpnet-genre-valence-finetuned/checkpoint-1041/special_tokens_map.json\n",
      "\n",
      "\n",
      "Training completed. Do not forget to share your model on huggingface.co/models =)\n",
      "\n",
      "\n",
      "Loading best model from mpnet-genre-valence-finetuned/checkpoint-1041 (score: 0.6473308112652375).\n"
     ]
    },
    {
     "data": {
      "text/plain": [
       "TrainOutput(global_step=1041, training_loss=0.5966088517598529, metrics={'train_runtime': 1272.3101, 'train_samples_per_second': 26.182, 'train_steps_per_second': 0.818, 'total_flos': 8764755476152320.0, 'train_loss': 0.5966088517598529, 'epoch': 3.0})"
      ]
     },
     "execution_count": 8,
     "metadata": {},
     "output_type": "execute_result"
    }
   ],
   "source": [
    "trainer.train()\n",
    "# trainer.train(resume_from_checkpoint=True)"
   ]
  },
  {
   "cell_type": "code",
   "execution_count": 9,
   "metadata": {},
   "outputs": [
    {
     "name": "stderr",
     "output_type": "stream",
     "text": [
      "The following columns in the test set  don't have a corresponding argument in `MPNetForSequenceClassification.forward` and have been ignored: text.\n",
      "***** Running Prediction *****\n",
      "  Num examples = 2380\n",
      "  Batch size = 32\n"
     ]
    },
    {
     "data": {
      "text/html": [
       "\n",
       "    <div>\n",
       "      \n",
       "      <progress value='75' max='75' style='width:300px; height:20px; vertical-align: middle;'></progress>\n",
       "      [75/75 00:28]\n",
       "    </div>\n",
       "    "
      ],
      "text/plain": [
       "<IPython.core.display.HTML object>"
      ]
     },
     "metadata": {},
     "output_type": "display_data"
    }
   ],
   "source": [
    "h = trainer.predict(test_dataset)"
   ]
  },
  {
   "cell_type": "code",
   "execution_count": 10,
   "metadata": {},
   "outputs": [
    {
     "data": {
      "image/png": "[encoded data removed]",
      "text/plain": [
       "<Figure size 576x360 with 2 Axes>"
      ]
     },
     "metadata": {
      "needs_background": "light"
     },
     "output_type": "display_data"
    }
   ],
   "source": [
    "plot_confusion(predictions=np.argmax(h.predictions, axis=-1), true_vals=h.label_ids, normalize=True)"
   ]
  },
  {
   "cell_type": "markdown",
   "metadata": {},
   "source": [
    "# 3) Fine-tune on energy"
   ]
  },
  {
   "cell_type": "code",
   "execution_count": 7,
   "metadata": {},
   "outputs": [
    {
     "data": {
      "application/vnd.jupyter.widget-view+json": {
       "model_id": "ef31440982194eba8f73e760c5faf571",
       "version_major": 2,
       "version_minor": 0
      },
      "text/plain": [
       "  0%|          | 0/12 [00:00<?, ?ba/s]"
      ]
     },
     "metadata": {},
     "output_type": "display_data"
    },
    {
     "data": {
      "application/vnd.jupyter.widget-view+json": {
       "model_id": "9add63e1826e4d8bb00851c4ab457291",
       "version_major": 2,
       "version_minor": 0
      },
      "text/plain": [
       "  0%|          | 0/3 [00:00<?, ?ba/s]"
      ]
     },
     "metadata": {},
     "output_type": "display_data"
    },
    {
     "data": {
      "application/vnd.jupyter.widget-view+json": {
       "model_id": "24d27aae54df4c189b0c7500ba740135",
       "version_major": 2,
       "version_minor": 0
      },
      "text/plain": [
       "  0%|          | 0/3 [00:00<?, ?ba/s]"
      ]
     },
     "metadata": {},
     "output_type": "display_data"
    },
    {
     "name": "stdout",
     "output_type": "stream",
     "text": [
      "tokenized lyrics DatasetDict({\n",
      "    train: Dataset({\n",
      "        features: ['attention_mask', 'input_ids', 'text'],\n",
      "        num_rows: 11104\n",
      "    })\n",
      "    validation: Dataset({\n",
      "        features: ['attention_mask', 'input_ids', 'text'],\n",
      "        num_rows: 2379\n",
      "    })\n",
      "    test: Dataset({\n",
      "        features: ['attention_mask', 'input_ids', 'text'],\n",
      "        num_rows: 2380\n",
      "    })\n",
      "})\n",
      "[0.0223 0.656  1.    ]\n",
      "{'train': Dataset({\n",
      "    features: ['attention_mask', 'input_ids', 'text', 'labels'],\n",
      "    num_rows: 11104\n",
      "}), 'validation': Dataset({\n",
      "    features: ['attention_mask', 'input_ids', 'text', 'labels'],\n",
      "    num_rows: 2379\n",
      "}), 'test': Dataset({\n",
      "    features: ['attention_mask', 'input_ids', 'text', 'labels'],\n",
      "    num_rows: 2380\n",
      "})}\n",
      "Dataset({\n",
      "    features: ['attention_mask', 'input_ids', 'text', 'labels'],\n",
      "    num_rows: 11104\n",
      "})\n",
      "Dataset({\n",
      "    features: ['attention_mask', 'input_ids', 'text', 'labels'],\n",
      "    num_rows: 2379\n",
      "})\n",
      "Dataset({\n",
      "    features: ['attention_mask', 'input_ids', 'text', 'labels'],\n",
      "    num_rows: 2380\n",
      "})\n",
      "LOADING MODEL\n",
      "0.002\n",
      "mpnet-genre-valence-finetuned-frozen-energy\n"
     ]
    }
   ],
   "source": [
    "trainer, train_dataset, val_dataset, test_dataset = create_trainer(\n",
    "    model_str=\"mpnet-genre-valence-finetuned/checkpoint-1041\",\n",
    "    lyrics=lyrics, \n",
    "    freeze_base_model=True, \n",
    "    feature=\"energy\", \n",
    "    batch_size=32, \n",
    "    n_epochs=5,\n",
    "    n_class=2,\n",
    "    output_dir=\"mpnet-genre-valence-finetuned-frozen-energy\"\n",
    ")"
   ]
  },
  {
   "cell_type": "code",
   "execution_count": 8,
   "metadata": {},
   "outputs": [
    {
     "name": "stderr",
     "output_type": "stream",
     "text": [
      "The following columns in the training set  don't have a corresponding argument in `MPNetForSequenceClassification.forward` and have been ignored: text.\n",
      "***** Running training *****\n",
      "  Num examples = 11104\n",
      "  Num Epochs = 5\n",
      "  Instantaneous batch size per device = 32\n",
      "  Total train batch size (w. parallel, distributed & accumulation) = 32\n",
      "  Gradient Accumulation steps = 1\n",
      "  Total optimization steps = 1735\n"
     ]
    },
    {
     "data": {
      "text/html": [
       "\n",
       "    <div>\n",
       "      \n",
       "      <progress value='1735' max='1735' style='width:300px; height:20px; vertical-align: middle;'></progress>\n",
       "      [1735/1735 15:32, Epoch 5/5]\n",
       "    </div>\n",
       "    <table border=\"1\" class=\"dataframe\">\n",
       "  <thead>\n",
       "    <tr style=\"text-align: left;\">\n",
       "      <th>Epoch</th>\n",
       "      <th>Training Loss</th>\n",
       "      <th>Validation Loss</th>\n",
       "      <th>Accuracy</th>\n",
       "    </tr>\n",
       "  </thead>\n",
       "  <tbody>\n",
       "    <tr>\n",
       "      <td>1</td>\n",
       "      <td>No log</td>\n",
       "      <td>0.643839</td>\n",
       "      <td>0.649012</td>\n",
       "    </tr>\n",
       "    <tr>\n",
       "      <td>2</td>\n",
       "      <td>0.636700</td>\n",
       "      <td>0.631518</td>\n",
       "      <td>0.642287</td>\n",
       "    </tr>\n",
       "    <tr>\n",
       "      <td>3</td>\n",
       "      <td>0.618300</td>\n",
       "      <td>0.629670</td>\n",
       "      <td>0.641446</td>\n",
       "    </tr>\n",
       "    <tr>\n",
       "      <td>4</td>\n",
       "      <td>0.618300</td>\n",
       "      <td>0.639837</td>\n",
       "      <td>0.643968</td>\n",
       "    </tr>\n",
       "    <tr>\n",
       "      <td>5</td>\n",
       "      <td>0.608800</td>\n",
       "      <td>0.627962</td>\n",
       "      <td>0.644809</td>\n",
       "    </tr>\n",
       "  </tbody>\n",
       "</table><p>"
      ],
      "text/plain": [
       "<IPython.core.display.HTML object>"
      ]
     },
     "metadata": {},
     "output_type": "display_data"
    },
    {
     "name": "stderr",
     "output_type": "stream",
     "text": [
      "The following columns in the evaluation set  don't have a corresponding argument in `MPNetForSequenceClassification.forward` and have been ignored: text.\n",
      "***** Running Evaluation *****\n",
      "  Num examples = 2379\n",
      "  Batch size = 32\n",
      "Saving model checkpoint to mpnet-genre-valence-finetuned-frozen-energy/checkpoint-347\n",
      "Configuration saved in mpnet-genre-valence-finetuned-frozen-energy/checkpoint-347/config.json\n",
      "Model weights saved in mpnet-genre-valence-finetuned-frozen-energy/checkpoint-347/pytorch_model.bin\n",
      "tokenizer config file saved in mpnet-genre-valence-finetuned-frozen-energy/checkpoint-347/tokenizer_config.json\n",
      "Special tokens file saved in mpnet-genre-valence-finetuned-frozen-energy/checkpoint-347/special_tokens_map.json\n",
      "The following columns in the evaluation set  don't have a corresponding argument in `MPNetForSequenceClassification.forward` and have been ignored: text.\n",
      "***** Running Evaluation *****\n",
      "  Num examples = 2379\n",
      "  Batch size = 32\n",
      "Saving model checkpoint to mpnet-genre-valence-finetuned-frozen-energy/checkpoint-694\n",
      "Configuration saved in mpnet-genre-valence-finetuned-frozen-energy/checkpoint-694/config.json\n",
      "Model weights saved in mpnet-genre-valence-finetuned-frozen-energy/checkpoint-694/pytorch_model.bin\n",
      "tokenizer config file saved in mpnet-genre-valence-finetuned-frozen-energy/checkpoint-694/tokenizer_config.json\n",
      "Special tokens file saved in mpnet-genre-valence-finetuned-frozen-energy/checkpoint-694/special_tokens_map.json\n",
      "The following columns in the evaluation set  don't have a corresponding argument in `MPNetForSequenceClassification.forward` and have been ignored: text.\n",
      "***** Running Evaluation *****\n",
      "  Num examples = 2379\n",
      "  Batch size = 32\n",
      "Saving model checkpoint to mpnet-genre-valence-finetuned-frozen-energy/checkpoint-1041\n",
      "Configuration saved in mpnet-genre-valence-finetuned-frozen-energy/checkpoint-1041/config.json\n",
      "Model weights saved in mpnet-genre-valence-finetuned-frozen-energy/checkpoint-1041/pytorch_model.bin\n",
      "tokenizer config file saved in mpnet-genre-valence-finetuned-frozen-energy/checkpoint-1041/tokenizer_config.json\n",
      "Special tokens file saved in mpnet-genre-valence-finetuned-frozen-energy/checkpoint-1041/special_tokens_map.json\n",
      "The following columns in the evaluation set  don't have a corresponding argument in `MPNetForSequenceClassification.forward` and have been ignored: text.\n",
      "***** Running Evaluation *****\n",
      "  Num examples = 2379\n",
      "  Batch size = 32\n",
      "Saving model checkpoint to mpnet-genre-valence-finetuned-frozen-energy/checkpoint-1388\n",
      "Configuration saved in mpnet-genre-valence-finetuned-frozen-energy/checkpoint-1388/config.json\n",
      "Model weights saved in mpnet-genre-valence-finetuned-frozen-energy/checkpoint-1388/pytorch_model.bin\n",
      "tokenizer config file saved in mpnet-genre-valence-finetuned-frozen-energy/checkpoint-1388/tokenizer_config.json\n",
      "Special tokens file saved in mpnet-genre-valence-finetuned-frozen-energy/checkpoint-1388/special_tokens_map.json\n",
      "The following columns in the evaluation set  don't have a corresponding argument in `MPNetForSequenceClassification.forward` and have been ignored: text.\n",
      "***** Running Evaluation *****\n",
      "  Num examples = 2379\n",
      "  Batch size = 32\n",
      "Saving model checkpoint to mpnet-genre-valence-finetuned-frozen-energy/checkpoint-1735\n",
      "Configuration saved in mpnet-genre-valence-finetuned-frozen-energy/checkpoint-1735/config.json\n",
      "Model weights saved in mpnet-genre-valence-finetuned-frozen-energy/checkpoint-1735/pytorch_model.bin\n",
      "tokenizer config file saved in mpnet-genre-valence-finetuned-frozen-energy/checkpoint-1735/tokenizer_config.json\n",
      "Special tokens file saved in mpnet-genre-valence-finetuned-frozen-energy/checkpoint-1735/special_tokens_map.json\n",
      "\n",
      "\n",
      "Training completed. Do not forget to share your model on huggingface.co/models =)\n",
      "\n",
      "\n",
      "Loading best model from mpnet-genre-valence-finetuned-frozen-energy/checkpoint-347 (score: 0.6490121899957966).\n"
     ]
    },
    {
     "data": {
      "text/plain": [
       "TrainOutput(global_step=1735, training_loss=0.6192437251637923, metrics={'train_runtime': 933.474, 'train_samples_per_second': 59.477, 'train_steps_per_second': 1.859, 'total_flos': 1.46079257935872e+16, 'train_loss': 0.6192437251637923, 'epoch': 5.0})"
      ]
     },
     "execution_count": 8,
     "metadata": {},
     "output_type": "execute_result"
    }
   ],
   "source": [
    "trainer.train()"
   ]
  },
  {
   "cell_type": "code",
   "execution_count": 9,
   "metadata": {},
   "outputs": [
    {
     "name": "stderr",
     "output_type": "stream",
     "text": [
      "The following columns in the test set  don't have a corresponding argument in `MPNetForSequenceClassification.forward` and have been ignored: text.\n",
      "***** Running Prediction *****\n",
      "  Num examples = 2380\n",
      "  Batch size = 32\n"
     ]
    },
    {
     "data": {
      "text/html": [
       "\n",
       "    <div>\n",
       "      \n",
       "      <progress value='75' max='75' style='width:300px; height:20px; vertical-align: middle;'></progress>\n",
       "      [75/75 00:28]\n",
       "    </div>\n",
       "    "
      ],
      "text/plain": [
       "<IPython.core.display.HTML object>"
      ]
     },
     "metadata": {},
     "output_type": "display_data"
    }
   ],
   "source": [
    "h = trainer.predict(test_dataset)"
   ]
  },
  {
   "cell_type": "code",
   "execution_count": 10,
   "metadata": {},
   "outputs": [
    {
     "data": {
      "image/png": "[encoded data removed]",
      "text/plain": [
       "<Figure size 576x360 with 2 Axes>"
      ]
     },
     "metadata": {
      "needs_background": "light"
     },
     "output_type": "display_data"
    }
   ],
   "source": [
    "plot_confusion(predictions=np.argmax(h.predictions, axis=-1), true_vals=h.label_ids, normalize=True)"
   ]
  },
  {
   "cell_type": "markdown",
   "metadata": {},
   "source": [
    "### now unfreeze base layers and train with small learning rate"
   ]
  },
  {
   "cell_type": "code",
   "execution_count": 7,
   "metadata": {},
   "outputs": [
    {
     "data": {
      "application/vnd.jupyter.widget-view+json": {
       "model_id": "fe73ca288ff949fe982011cd7f484b29",
       "version_major": 2,
       "version_minor": 0
      },
      "text/plain": [
       "  0%|          | 0/12 [00:00<?, ?ba/s]"
      ]
     },
     "metadata": {},
     "output_type": "display_data"
    },
    {
     "data": {
      "application/vnd.jupyter.widget-view+json": {
       "model_id": "adc4433746834944bb6d2da68196d699",
       "version_major": 2,
       "version_minor": 0
      },
      "text/plain": [
       "  0%|          | 0/3 [00:00<?, ?ba/s]"
      ]
     },
     "metadata": {},
     "output_type": "display_data"
    },
    {
     "data": {
      "application/vnd.jupyter.widget-view+json": {
       "model_id": "8a07ca6b4ee34037b341a78d8f761ac8",
       "version_major": 2,
       "version_minor": 0
      },
      "text/plain": [
       "  0%|          | 0/3 [00:00<?, ?ba/s]"
      ]
     },
     "metadata": {},
     "output_type": "display_data"
    },
    {
     "name": "stdout",
     "output_type": "stream",
     "text": [
      "tokenized lyrics DatasetDict({\n",
      "    train: Dataset({\n",
      "        features: ['attention_mask', 'input_ids', 'text'],\n",
      "        num_rows: 11104\n",
      "    })\n",
      "    validation: Dataset({\n",
      "        features: ['attention_mask', 'input_ids', 'text'],\n",
      "        num_rows: 2379\n",
      "    })\n",
      "    test: Dataset({\n",
      "        features: ['attention_mask', 'input_ids', 'text'],\n",
      "        num_rows: 2380\n",
      "    })\n",
      "})\n",
      "[0.0223 0.656  1.    ]\n",
      "{'train': Dataset({\n",
      "    features: ['attention_mask', 'input_ids', 'text', 'labels'],\n",
      "    num_rows: 11104\n",
      "}), 'validation': Dataset({\n",
      "    features: ['attention_mask', 'input_ids', 'text', 'labels'],\n",
      "    num_rows: 2379\n",
      "}), 'test': Dataset({\n",
      "    features: ['attention_mask', 'input_ids', 'text', 'labels'],\n",
      "    num_rows: 2380\n",
      "})}\n",
      "Dataset({\n",
      "    features: ['attention_mask', 'input_ids', 'text', 'labels'],\n",
      "    num_rows: 11104\n",
      "})\n",
      "Dataset({\n",
      "    features: ['attention_mask', 'input_ids', 'text', 'labels'],\n",
      "    num_rows: 2379\n",
      "})\n",
      "Dataset({\n",
      "    features: ['attention_mask', 'input_ids', 'text', 'labels'],\n",
      "    num_rows: 2380\n",
      "})\n",
      "LOADING MODEL\n",
      "2e-06\n",
      "mpnet-genre-valence-energy-finetuned\n"
     ]
    }
   ],
   "source": [
    "trainer, train_dataset, val_dataset, test_dataset = create_trainer(\n",
    "    model_str=\"mpnet-genre-valence-finetuned-frozen-energy/checkpoint-1735\",   # smaller train and val loss\n",
    "    lyrics=lyrics, \n",
    "    freeze_base_model=False, \n",
    "    feature=\"energy\", \n",
    "    batch_size=32, \n",
    "    n_epochs=3,\n",
    "    n_class=2,\n",
    "    learning_rate=2e-6,\n",
    "    output_dir=\"mpnet-genre-valence-energy-finetuned\",\n",
    ")"
   ]
  },
  {
   "cell_type": "code",
   "execution_count": 8,
   "metadata": {},
   "outputs": [
    {
     "name": "stderr",
     "output_type": "stream",
     "text": [
      "The following columns in the training set  don't have a corresponding argument in `MPNetForSequenceClassification.forward` and have been ignored: text.\n",
      "***** Running training *****\n",
      "  Num examples = 11104\n",
      "  Num Epochs = 3\n",
      "  Instantaneous batch size per device = 32\n",
      "  Total train batch size (w. parallel, distributed & accumulation) = 32\n",
      "  Gradient Accumulation steps = 1\n",
      "  Total optimization steps = 1041\n"
     ]
    },
    {
     "data": {
      "text/html": [
       "\n",
       "    <div>\n",
       "      \n",
       "      <progress value='1041' max='1041' style='width:300px; height:20px; vertical-align: middle;'></progress>\n",
       "      [1041/1041 21:10, Epoch 3/3]\n",
       "    </div>\n",
       "    <table border=\"1\" class=\"dataframe\">\n",
       "  <thead>\n",
       "    <tr style=\"text-align: left;\">\n",
       "      <th>Epoch</th>\n",
       "      <th>Training Loss</th>\n",
       "      <th>Validation Loss</th>\n",
       "      <th>Accuracy</th>\n",
       "    </tr>\n",
       "  </thead>\n",
       "  <tbody>\n",
       "    <tr>\n",
       "      <td>1</td>\n",
       "      <td>No log</td>\n",
       "      <td>0.622570</td>\n",
       "      <td>0.656578</td>\n",
       "    </tr>\n",
       "    <tr>\n",
       "      <td>2</td>\n",
       "      <td>0.583500</td>\n",
       "      <td>0.624678</td>\n",
       "      <td>0.659521</td>\n",
       "    </tr>\n",
       "    <tr>\n",
       "      <td>3</td>\n",
       "      <td>0.566200</td>\n",
       "      <td>0.624571</td>\n",
       "      <td>0.653636</td>\n",
       "    </tr>\n",
       "  </tbody>\n",
       "</table><p>"
      ],
      "text/plain": [
       "<IPython.core.display.HTML object>"
      ]
     },
     "metadata": {},
     "output_type": "display_data"
    },
    {
     "name": "stderr",
     "output_type": "stream",
     "text": [
      "The following columns in the evaluation set  don't have a corresponding argument in `MPNetForSequenceClassification.forward` and have been ignored: text.\n",
      "***** Running Evaluation *****\n",
      "  Num examples = 2379\n",
      "  Batch size = 32\n",
      "Saving model checkpoint to mpnet-genre-valence-energy-finetuned/checkpoint-347\n",
      "Configuration saved in mpnet-genre-valence-energy-finetuned/checkpoint-347/config.json\n",
      "Model weights saved in mpnet-genre-valence-energy-finetuned/checkpoint-347/pytorch_model.bin\n",
      "tokenizer config file saved in mpnet-genre-valence-energy-finetuned/checkpoint-347/tokenizer_config.json\n",
      "Special tokens file saved in mpnet-genre-valence-energy-finetuned/checkpoint-347/special_tokens_map.json\n",
      "The following columns in the evaluation set  don't have a corresponding argument in `MPNetForSequenceClassification.forward` and have been ignored: text.\n",
      "***** Running Evaluation *****\n",
      "  Num examples = 2379\n",
      "  Batch size = 32\n",
      "Saving model checkpoint to mpnet-genre-valence-energy-finetuned/checkpoint-694\n",
      "Configuration saved in mpnet-genre-valence-energy-finetuned/checkpoint-694/config.json\n",
      "Model weights saved in mpnet-genre-valence-energy-finetuned/checkpoint-694/pytorch_model.bin\n",
      "tokenizer config file saved in mpnet-genre-valence-energy-finetuned/checkpoint-694/tokenizer_config.json\n",
      "Special tokens file saved in mpnet-genre-valence-energy-finetuned/checkpoint-694/special_tokens_map.json\n",
      "The following columns in the evaluation set  don't have a corresponding argument in `MPNetForSequenceClassification.forward` and have been ignored: text.\n",
      "***** Running Evaluation *****\n",
      "  Num examples = 2379\n",
      "  Batch size = 32\n",
      "Saving model checkpoint to mpnet-genre-valence-energy-finetuned/checkpoint-1041\n",
      "Configuration saved in mpnet-genre-valence-energy-finetuned/checkpoint-1041/config.json\n",
      "Model weights saved in mpnet-genre-valence-energy-finetuned/checkpoint-1041/pytorch_model.bin\n",
      "tokenizer config file saved in mpnet-genre-valence-energy-finetuned/checkpoint-1041/tokenizer_config.json\n",
      "Special tokens file saved in mpnet-genre-valence-energy-finetuned/checkpoint-1041/special_tokens_map.json\n",
      "\n",
      "\n",
      "Training completed. Do not forget to share your model on huggingface.co/models =)\n",
      "\n",
      "\n",
      "Loading best model from mpnet-genre-valence-energy-finetuned/checkpoint-694 (score: 0.6595208070617906).\n"
     ]
    },
    {
     "data": {
      "text/plain": [
       "TrainOutput(global_step=1041, training_loss=0.5747574926224268, metrics={'train_runtime': 1271.494, 'train_samples_per_second': 26.199, 'train_steps_per_second': 0.819, 'total_flos': 8764755476152320.0, 'train_loss': 0.5747574926224268, 'epoch': 3.0})"
      ]
     },
     "execution_count": 8,
     "metadata": {},
     "output_type": "execute_result"
    }
   ],
   "source": [
    "trainer.train()"
   ]
  },
  {
   "cell_type": "code",
   "execution_count": 9,
   "metadata": {},
   "outputs": [
    {
     "name": "stderr",
     "output_type": "stream",
     "text": [
      "The following columns in the test set  don't have a corresponding argument in `MPNetForSequenceClassification.forward` and have been ignored: text.\n",
      "***** Running Prediction *****\n",
      "  Num examples = 2380\n",
      "  Batch size = 32\n"
     ]
    },
    {
     "data": {
      "text/html": [
       "\n",
       "    <div>\n",
       "      \n",
       "      <progress value='75' max='75' style='width:300px; height:20px; vertical-align: middle;'></progress>\n",
       "      [75/75 00:33]\n",
       "    </div>\n",
       "    "
      ],
      "text/plain": [
       "<IPython.core.display.HTML object>"
      ]
     },
     "metadata": {},
     "output_type": "display_data"
    }
   ],
   "source": [
    "h = trainer.predict(test_dataset)"
   ]
  },
  {
   "cell_type": "code",
   "execution_count": 10,
   "metadata": {},
   "outputs": [
    {
     "data": {
      "image/png": "[encoded data removed]",
      "text/plain": [
       "<Figure size 576x360 with 2 Axes>"
      ]
     },
     "metadata": {
      "needs_background": "light"
     },
     "output_type": "display_data"
    }
   ],
   "source": [
    "plot_confusion(predictions=np.argmax(h.predictions, axis=-1), true_vals=h.label_ids, normalize=True)"
   ]
  },
  {
   "cell_type": "markdown",
   "metadata": {},
   "source": [
    "# 4) Fine-tune on danceability"
   ]
  },
  {
   "cell_type": "code",
   "execution_count": 8,
   "metadata": {},
   "outputs": [
    {
     "name": "stderr",
     "output_type": "stream",
     "text": [
      "Didn't find file mpnet-genre-valence-energy-finetuned/checkpoint-694/added_tokens.json. We won't load it.\n",
      "loading file mpnet-genre-valence-energy-finetuned/checkpoint-694/vocab.txt\n",
      "loading file mpnet-genre-valence-energy-finetuned/checkpoint-694/tokenizer.json\n",
      "loading file None\n",
      "loading file mpnet-genre-valence-energy-finetuned/checkpoint-694/special_tokens_map.json\n",
      "loading file mpnet-genre-valence-energy-finetuned/checkpoint-694/tokenizer_config.json\n"
     ]
    },
    {
     "data": {
      "application/vnd.jupyter.widget-view+json": {
       "model_id": "729539fe783344d9922b847a2e2f3c2b",
       "version_major": 2,
       "version_minor": 0
      },
      "text/plain": [
       "  0%|          | 0/12 [00:00<?, ?ba/s]"
      ]
     },
     "metadata": {},
     "output_type": "display_data"
    },
    {
     "data": {
      "application/vnd.jupyter.widget-view+json": {
       "model_id": "b1d86cc1e4c947c4bcec321c2c2e8378",
       "version_major": 2,
       "version_minor": 0
      },
      "text/plain": [
       "  0%|          | 0/3 [00:00<?, ?ba/s]"
      ]
     },
     "metadata": {},
     "output_type": "display_data"
    },
    {
     "data": {
      "application/vnd.jupyter.widget-view+json": {
       "model_id": "6025c572046e41d7971b571aeb88b72c",
       "version_major": 2,
       "version_minor": 0
      },
      "text/plain": [
       "  0%|          | 0/3 [00:00<?, ?ba/s]"
      ]
     },
     "metadata": {},
     "output_type": "display_data"
    },
    {
     "name": "stderr",
     "output_type": "stream",
     "text": [
      "loading configuration file mpnet-genre-valence-energy-finetuned/checkpoint-694/config.json\n",
      "Model config MPNetConfig {\n",
      "  \"_name_or_path\": \"mpnet-genre-valence-finetuned-frozen-energy/checkpoint-1735\",\n",
      "  \"architectures\": [\n",
      "    \"MPNetForSequenceClassification\"\n",
      "  ],\n",
      "  \"attention_probs_dropout_prob\": 0.1,\n",
      "  \"bos_token_id\": 0,\n",
      "  \"eos_token_id\": 2,\n",
      "  \"hidden_act\": \"gelu\",\n",
      "  \"hidden_dropout_prob\": 0.1,\n",
      "  \"hidden_size\": 768,\n",
      "  \"initializer_range\": 0.02,\n",
      "  \"intermediate_size\": 3072,\n",
      "  \"layer_norm_eps\": 1e-05,\n",
      "  \"max_position_embeddings\": 514,\n",
      "  \"model_type\": \"mpnet\",\n",
      "  \"num_attention_heads\": 12,\n",
      "  \"num_hidden_layers\": 12,\n",
      "  \"pad_token_id\": 1,\n",
      "  \"relative_attention_num_buckets\": 32,\n",
      "  \"torch_dtype\": \"float32\",\n",
      "  \"transformers_version\": \"4.12.5\",\n",
      "  \"vocab_size\": 30527\n",
      "}\n",
      "\n",
      "loading weights file mpnet-genre-valence-energy-finetuned/checkpoint-694/pytorch_model.bin\n"
     ]
    },
    {
     "name": "stdout",
     "output_type": "stream",
     "text": [
      "tokenized lyrics DatasetDict({\n",
      "    train: Dataset({\n",
      "        features: ['attention_mask', 'input_ids', 'text'],\n",
      "        num_rows: 11104\n",
      "    })\n",
      "    validation: Dataset({\n",
      "        features: ['attention_mask', 'input_ids', 'text'],\n",
      "        num_rows: 2379\n",
      "    })\n",
      "    test: Dataset({\n",
      "        features: ['attention_mask', 'input_ids', 'text'],\n",
      "        num_rows: 2380\n",
      "    })\n",
      "})\n",
      "[0.103 0.603 1.   ]\n",
      "{'train': Dataset({\n",
      "    features: ['attention_mask', 'input_ids', 'text', 'labels'],\n",
      "    num_rows: 11104\n",
      "}), 'validation': Dataset({\n",
      "    features: ['attention_mask', 'input_ids', 'text', 'labels'],\n",
      "    num_rows: 2379\n",
      "}), 'test': Dataset({\n",
      "    features: ['attention_mask', 'input_ids', 'text', 'labels'],\n",
      "    num_rows: 2380\n",
      "})}\n",
      "Dataset({\n",
      "    features: ['attention_mask', 'input_ids', 'text', 'labels'],\n",
      "    num_rows: 11104\n",
      "})\n",
      "Dataset({\n",
      "    features: ['attention_mask', 'input_ids', 'text', 'labels'],\n",
      "    num_rows: 2379\n",
      "})\n",
      "Dataset({\n",
      "    features: ['attention_mask', 'input_ids', 'text', 'labels'],\n",
      "    num_rows: 2380\n",
      "})\n",
      "LOADING MODEL\n"
     ]
    },
    {
     "name": "stderr",
     "output_type": "stream",
     "text": [
      "All model checkpoint weights were used when initializing MPNetForSequenceClassification.\n",
      "\n",
      "All the weights of MPNetForSequenceClassification were initialized from the model checkpoint at mpnet-genre-valence-energy-finetuned/checkpoint-694.\n",
      "If your task is similar to the task the model of the checkpoint was trained on, you can already use MPNetForSequenceClassification for predictions without further training.\n",
      "PyTorch: setting up devices\n",
      "The default value for the training argument `--report_to` will change in v5 (from all installed integrations to none). In v5, you will need to use `--report_to all` to get the same behavior as now. You should start updating your code and make this info disappear :-).\n"
     ]
    },
    {
     "name": "stdout",
     "output_type": "stream",
     "text": [
      "0.002\n",
      "mpnet-genre-valence-energy-finetuned-frozen-danceability\n"
     ]
    }
   ],
   "source": [
    "trainer, train_dataset, val_dataset, test_dataset = create_trainer(\n",
    "    model_str=\"mpnet-genre-valence-energy-finetuned/checkpoint-694\",\n",
    "    lyrics=lyrics, \n",
    "    freeze_base_model=True, \n",
    "    feature=\"danceability\", \n",
    "    batch_size=32, \n",
    "    n_epochs=5,\n",
    "    n_class=2,\n",
    "    output_dir=\"mpnet-genre-valence-energy-finetuned-frozen-danceability\"\n",
    ")"
   ]
  },
  {
   "cell_type": "code",
   "execution_count": 9,
   "metadata": {},
   "outputs": [
    {
     "name": "stderr",
     "output_type": "stream",
     "text": [
      "The following columns in the training set  don't have a corresponding argument in `MPNetForSequenceClassification.forward` and have been ignored: text.\n",
      "***** Running training *****\n",
      "  Num examples = 11104\n",
      "  Num Epochs = 5\n",
      "  Instantaneous batch size per device = 32\n",
      "  Total train batch size (w. parallel, distributed & accumulation) = 32\n",
      "  Gradient Accumulation steps = 1\n",
      "  Total optimization steps = 1735\n"
     ]
    },
    {
     "data": {
      "text/html": [
       "\n",
       "    <div>\n",
       "      \n",
       "      <progress value='1735' max='1735' style='width:300px; height:20px; vertical-align: middle;'></progress>\n",
       "      [1735/1735 16:24, Epoch 5/5]\n",
       "    </div>\n",
       "    <table border=\"1\" class=\"dataframe\">\n",
       "  <thead>\n",
       "    <tr style=\"text-align: left;\">\n",
       "      <th>Epoch</th>\n",
       "      <th>Training Loss</th>\n",
       "      <th>Validation Loss</th>\n",
       "      <th>Accuracy</th>\n",
       "    </tr>\n",
       "  </thead>\n",
       "  <tbody>\n",
       "    <tr>\n",
       "      <td>1</td>\n",
       "      <td>No log</td>\n",
       "      <td>0.632715</td>\n",
       "      <td>0.643968</td>\n",
       "    </tr>\n",
       "    <tr>\n",
       "      <td>2</td>\n",
       "      <td>0.617000</td>\n",
       "      <td>0.627307</td>\n",
       "      <td>0.646910</td>\n",
       "    </tr>\n",
       "    <tr>\n",
       "      <td>3</td>\n",
       "      <td>0.602100</td>\n",
       "      <td>0.609413</td>\n",
       "      <td>0.659941</td>\n",
       "    </tr>\n",
       "    <tr>\n",
       "      <td>4</td>\n",
       "      <td>0.602100</td>\n",
       "      <td>0.608051</td>\n",
       "      <td>0.654477</td>\n",
       "    </tr>\n",
       "    <tr>\n",
       "      <td>5</td>\n",
       "      <td>0.591000</td>\n",
       "      <td>0.602312</td>\n",
       "      <td>0.662463</td>\n",
       "    </tr>\n",
       "  </tbody>\n",
       "</table><p>"
      ],
      "text/plain": [
       "<IPython.core.display.HTML object>"
      ]
     },
     "metadata": {},
     "output_type": "display_data"
    },
    {
     "name": "stderr",
     "output_type": "stream",
     "text": [
      "The following columns in the evaluation set  don't have a corresponding argument in `MPNetForSequenceClassification.forward` and have been ignored: text.\n",
      "***** Running Evaluation *****\n",
      "  Num examples = 2379\n",
      "  Batch size = 32\n",
      "Saving model checkpoint to mpnet-genre-valence-energy-finetuned-frozen-danceability/checkpoint-347\n",
      "Configuration saved in mpnet-genre-valence-energy-finetuned-frozen-danceability/checkpoint-347/config.json\n",
      "Model weights saved in mpnet-genre-valence-energy-finetuned-frozen-danceability/checkpoint-347/pytorch_model.bin\n",
      "tokenizer config file saved in mpnet-genre-valence-energy-finetuned-frozen-danceability/checkpoint-347/tokenizer_config.json\n",
      "Special tokens file saved in mpnet-genre-valence-energy-finetuned-frozen-danceability/checkpoint-347/special_tokens_map.json\n",
      "The following columns in the evaluation set  don't have a corresponding argument in `MPNetForSequenceClassification.forward` and have been ignored: text.\n",
      "***** Running Evaluation *****\n",
      "  Num examples = 2379\n",
      "  Batch size = 32\n",
      "Saving model checkpoint to mpnet-genre-valence-energy-finetuned-frozen-danceability/checkpoint-694\n",
      "Configuration saved in mpnet-genre-valence-energy-finetuned-frozen-danceability/checkpoint-694/config.json\n",
      "Model weights saved in mpnet-genre-valence-energy-finetuned-frozen-danceability/checkpoint-694/pytorch_model.bin\n",
      "tokenizer config file saved in mpnet-genre-valence-energy-finetuned-frozen-danceability/checkpoint-694/tokenizer_config.json\n",
      "Special tokens file saved in mpnet-genre-valence-energy-finetuned-frozen-danceability/checkpoint-694/special_tokens_map.json\n",
      "The following columns in the evaluation set  don't have a corresponding argument in `MPNetForSequenceClassification.forward` and have been ignored: text.\n",
      "***** Running Evaluation *****\n",
      "  Num examples = 2379\n",
      "  Batch size = 32\n",
      "Saving model checkpoint to mpnet-genre-valence-energy-finetuned-frozen-danceability/checkpoint-1041\n",
      "Configuration saved in mpnet-genre-valence-energy-finetuned-frozen-danceability/checkpoint-1041/config.json\n",
      "Model weights saved in mpnet-genre-valence-energy-finetuned-frozen-danceability/checkpoint-1041/pytorch_model.bin\n",
      "tokenizer config file saved in mpnet-genre-valence-energy-finetuned-frozen-danceability/checkpoint-1041/tokenizer_config.json\n",
      "Special tokens file saved in mpnet-genre-valence-energy-finetuned-frozen-danceability/checkpoint-1041/special_tokens_map.json\n",
      "The following columns in the evaluation set  don't have a corresponding argument in `MPNetForSequenceClassification.forward` and have been ignored: text.\n",
      "***** Running Evaluation *****\n",
      "  Num examples = 2379\n",
      "  Batch size = 32\n",
      "Saving model checkpoint to mpnet-genre-valence-energy-finetuned-frozen-danceability/checkpoint-1388\n",
      "Configuration saved in mpnet-genre-valence-energy-finetuned-frozen-danceability/checkpoint-1388/config.json\n",
      "Model weights saved in mpnet-genre-valence-energy-finetuned-frozen-danceability/checkpoint-1388/pytorch_model.bin\n",
      "tokenizer config file saved in mpnet-genre-valence-energy-finetuned-frozen-danceability/checkpoint-1388/tokenizer_config.json\n",
      "Special tokens file saved in mpnet-genre-valence-energy-finetuned-frozen-danceability/checkpoint-1388/special_tokens_map.json\n",
      "The following columns in the evaluation set  don't have a corresponding argument in `MPNetForSequenceClassification.forward` and have been ignored: text.\n",
      "***** Running Evaluation *****\n",
      "  Num examples = 2379\n",
      "  Batch size = 32\n",
      "Saving model checkpoint to mpnet-genre-valence-energy-finetuned-frozen-danceability/checkpoint-1735\n",
      "Configuration saved in mpnet-genre-valence-energy-finetuned-frozen-danceability/checkpoint-1735/config.json\n",
      "Model weights saved in mpnet-genre-valence-energy-finetuned-frozen-danceability/checkpoint-1735/pytorch_model.bin\n",
      "tokenizer config file saved in mpnet-genre-valence-energy-finetuned-frozen-danceability/checkpoint-1735/tokenizer_config.json\n",
      "Special tokens file saved in mpnet-genre-valence-energy-finetuned-frozen-danceability/checkpoint-1735/special_tokens_map.json\n",
      "\n",
      "\n",
      "Training completed. Do not forget to share your model on huggingface.co/models =)\n",
      "\n",
      "\n",
      "Loading best model from mpnet-genre-valence-energy-finetuned-frozen-danceability/checkpoint-1735 (score: 0.662463219840269).\n"
     ]
    },
    {
     "data": {
      "text/plain": [
       "TrainOutput(global_step=1735, training_loss=0.6012583092241535, metrics={'train_runtime': 986.1005, 'train_samples_per_second': 56.303, 'train_steps_per_second': 1.759, 'total_flos': 1.46079257935872e+16, 'train_loss': 0.6012583092241535, 'epoch': 5.0})"
      ]
     },
     "execution_count": 9,
     "metadata": {},
     "output_type": "execute_result"
    }
   ],
   "source": [
    "trainer.train()\n",
    "# trainer.train(resume_from_checkpoint=True)"
   ]
  },
  {
   "cell_type": "code",
   "execution_count": 10,
   "metadata": {},
   "outputs": [
    {
     "name": "stderr",
     "output_type": "stream",
     "text": [
      "The following columns in the test set  don't have a corresponding argument in `MPNetForSequenceClassification.forward` and have been ignored: text.\n",
      "***** Running Prediction *****\n",
      "  Num examples = 2380\n",
      "  Batch size = 32\n"
     ]
    },
    {
     "data": {
      "text/html": [
       "\n",
       "    <div>\n",
       "      \n",
       "      <progress value='75' max='75' style='width:300px; height:20px; vertical-align: middle;'></progress>\n",
       "      [75/75 00:31]\n",
       "    </div>\n",
       "    "
      ],
      "text/plain": [
       "<IPython.core.display.HTML object>"
      ]
     },
     "metadata": {},
     "output_type": "display_data"
    }
   ],
   "source": [
    "h = trainer.predict(test_dataset)"
   ]
  },
  {
   "cell_type": "code",
   "execution_count": 11,
   "metadata": {},
   "outputs": [
    {
     "data": {
      "image/png": "[encoded data removed]",
      "text/plain": [
       "<Figure size 576x360 with 2 Axes>"
      ]
     },
     "metadata": {
      "needs_background": "light"
     },
     "output_type": "display_data"
    }
   ],
   "source": [
    "plot_confusion(predictions=np.argmax(h.predictions, axis=-1), true_vals=h.label_ids, normalize=True)"
   ]
  },
  {
   "cell_type": "markdown",
   "metadata": {},
   "source": [
    "### now unfreeze base layers and train with small learning rate"
   ]
  },
  {
   "cell_type": "code",
   "execution_count": 8,
   "metadata": {},
   "outputs": [
    {
     "data": {
      "application/vnd.jupyter.widget-view+json": {
       "model_id": "fb203a5a34fa4a97898ad66c97310141",
       "version_major": 2,
       "version_minor": 0
      },
      "text/plain": [
       "  0%|          | 0/12 [00:00<?, ?ba/s]"
      ]
     },
     "metadata": {},
     "output_type": "display_data"
    },
    {
     "data": {
      "application/vnd.jupyter.widget-view+json": {
       "model_id": "c420efaf5eb54fb2a56b79c552720cc6",
       "version_major": 2,
       "version_minor": 0
      },
      "text/plain": [
       "  0%|          | 0/3 [00:00<?, ?ba/s]"
      ]
     },
     "metadata": {},
     "output_type": "display_data"
    },
    {
     "data": {
      "application/vnd.jupyter.widget-view+json": {
       "model_id": "6ed129ecd4da4a1e93238f16a51baf37",
       "version_major": 2,
       "version_minor": 0
      },
      "text/plain": [
       "  0%|          | 0/3 [00:00<?, ?ba/s]"
      ]
     },
     "metadata": {},
     "output_type": "display_data"
    },
    {
     "name": "stdout",
     "output_type": "stream",
     "text": [
      "tokenized lyrics DatasetDict({\n",
      "    train: Dataset({\n",
      "        features: ['attention_mask', 'input_ids', 'text'],\n",
      "        num_rows: 11104\n",
      "    })\n",
      "    validation: Dataset({\n",
      "        features: ['attention_mask', 'input_ids', 'text'],\n",
      "        num_rows: 2379\n",
      "    })\n",
      "    test: Dataset({\n",
      "        features: ['attention_mask', 'input_ids', 'text'],\n",
      "        num_rows: 2380\n",
      "    })\n",
      "})\n",
      "[0.103 0.603 1.   ]\n",
      "{'train': Dataset({\n",
      "    features: ['attention_mask', 'input_ids', 'text', 'labels'],\n",
      "    num_rows: 11104\n",
      "}), 'validation': Dataset({\n",
      "    features: ['attention_mask', 'input_ids', 'text', 'labels'],\n",
      "    num_rows: 2379\n",
      "}), 'test': Dataset({\n",
      "    features: ['attention_mask', 'input_ids', 'text', 'labels'],\n",
      "    num_rows: 2380\n",
      "})}\n",
      "Dataset({\n",
      "    features: ['attention_mask', 'input_ids', 'text', 'labels'],\n",
      "    num_rows: 11104\n",
      "})\n",
      "Dataset({\n",
      "    features: ['attention_mask', 'input_ids', 'text', 'labels'],\n",
      "    num_rows: 2379\n",
      "})\n",
      "Dataset({\n",
      "    features: ['attention_mask', 'input_ids', 'text', 'labels'],\n",
      "    num_rows: 2380\n",
      "})\n",
      "LOADING MODEL\n",
      "2e-06\n",
      "mpnet-genre-valence-energy-danceability-finetuned\n"
     ]
    }
   ],
   "source": [
    "trainer, train_dataset, val_dataset, test_dataset = create_trainer(\n",
    "    model_str=\"mpnet-genre-valence-energy-finetuned-frozen-danceability/checkpoint-1735\",\n",
    "    lyrics=lyrics, \n",
    "    freeze_base_model=False, \n",
    "    feature=\"danceability\", \n",
    "    batch_size=32, \n",
    "    n_epochs=3,\n",
    "    n_class=2,\n",
    "    learning_rate=2e-6,\n",
    "    output_dir=\"mpnet-genre-valence-energy-danceability-finetuned\",\n",
    ")"
   ]
  },
  {
   "cell_type": "code",
   "execution_count": 10,
   "metadata": {},
   "outputs": [
    {
     "name": "stderr",
     "output_type": "stream",
     "text": [
      "Loading model from mpnet-genre-valence-energy-danceability-finetuned/checkpoint-694).\n",
      "The following columns in the training set  don't have a corresponding argument in `MPNetForSequenceClassification.forward` and have been ignored: text.\n",
      "***** Running training *****\n",
      "  Num examples = 11104\n",
      "  Num Epochs = 3\n",
      "  Instantaneous batch size per device = 32\n",
      "  Total train batch size (w. parallel, distributed & accumulation) = 32\n",
      "  Gradient Accumulation steps = 1\n",
      "  Total optimization steps = 1041\n",
      "  Continuing training from checkpoint, will skip to saved global_step\n",
      "  Continuing training from epoch 2\n",
      "  Continuing training from global step 694\n",
      "  Will skip the first 2 epochs then the first 0 batches in the first epoch. If this takes a lot of time, you can add the `--ignore_data_skip` flag to your launch command, but you will resume the training on data already seen by your model.\n"
     ]
    },
    {
     "data": {
      "application/vnd.jupyter.widget-view+json": {
       "model_id": "cd00cd1644c942e48f85aa7c8ee47cef",
       "version_major": 2,
       "version_minor": 0
      },
      "text/plain": [
       "0it [00:00, ?it/s]"
      ]
     },
     "metadata": {},
     "output_type": "display_data"
    },
    {
     "data": {
      "text/html": [
       "\n",
       "    <div>\n",
       "      \n",
       "      <progress value='1041' max='1041' style='width:300px; height:20px; vertical-align: middle;'></progress>\n",
       "      [1041/1041 07:22, Epoch 3/3]\n",
       "    </div>\n",
       "    <table border=\"1\" class=\"dataframe\">\n",
       "  <thead>\n",
       "    <tr style=\"text-align: left;\">\n",
       "      <th>Epoch</th>\n",
       "      <th>Training Loss</th>\n",
       "      <th>Validation Loss</th>\n",
       "      <th>Accuracy</th>\n",
       "    </tr>\n",
       "  </thead>\n",
       "  <tbody>\n",
       "    <tr>\n",
       "      <td>3</td>\n",
       "      <td>0.560800</td>\n",
       "      <td>0.603077</td>\n",
       "      <td>0.666246</td>\n",
       "    </tr>\n",
       "  </tbody>\n",
       "</table><p>"
      ],
      "text/plain": [
       "<IPython.core.display.HTML object>"
      ]
     },
     "metadata": {},
     "output_type": "display_data"
    },
    {
     "name": "stderr",
     "output_type": "stream",
     "text": [
      "The following columns in the evaluation set  don't have a corresponding argument in `MPNetForSequenceClassification.forward` and have been ignored: text.\n",
      "***** Running Evaluation *****\n",
      "  Num examples = 2379\n",
      "  Batch size = 32\n",
      "Saving model checkpoint to mpnet-genre-valence-energy-danceability-finetuned/checkpoint-1041\n",
      "Configuration saved in mpnet-genre-valence-energy-danceability-finetuned/checkpoint-1041/config.json\n",
      "Model weights saved in mpnet-genre-valence-energy-danceability-finetuned/checkpoint-1041/pytorch_model.bin\n",
      "tokenizer config file saved in mpnet-genre-valence-energy-danceability-finetuned/checkpoint-1041/tokenizer_config.json\n",
      "Special tokens file saved in mpnet-genre-valence-energy-danceability-finetuned/checkpoint-1041/special_tokens_map.json\n",
      "\n",
      "\n",
      "Training completed. Do not forget to share your model on huggingface.co/models =)\n",
      "\n",
      "\n",
      "Loading best model from mpnet-genre-valence-energy-danceability-finetuned/checkpoint-1041 (score: 0.6662463219840269).\n"
     ]
    },
    {
     "data": {
      "text/plain": [
       "TrainOutput(global_step=1041, training_loss=0.18682862427461389, metrics={'train_runtime': 444.1242, 'train_samples_per_second': 75.006, 'train_steps_per_second': 2.344, 'total_flos': 9640389068390400.0, 'train_loss': 0.18682862427461389, 'epoch': 3.0})"
      ]
     },
     "execution_count": 10,
     "metadata": {},
     "output_type": "execute_result"
    }
   ],
   "source": [
    "# trainer.train()\n",
    "trainer.train(resume_from_checkpoint=\"mpnet-genre-valence-energy-danceability-finetuned/checkpoint-694\")"
   ]
  },
  {
   "cell_type": "code",
   "execution_count": 11,
   "metadata": {},
   "outputs": [
    {
     "name": "stderr",
     "output_type": "stream",
     "text": [
      "The following columns in the test set  don't have a corresponding argument in `MPNetForSequenceClassification.forward` and have been ignored: text.\n",
      "***** Running Prediction *****\n",
      "  Num examples = 2380\n",
      "  Batch size = 32\n"
     ]
    },
    {
     "data": {
      "text/html": [
       "\n",
       "    <div>\n",
       "      \n",
       "      <progress value='75' max='75' style='width:300px; height:20px; vertical-align: middle;'></progress>\n",
       "      [75/75 00:33]\n",
       "    </div>\n",
       "    "
      ],
      "text/plain": [
       "<IPython.core.display.HTML object>"
      ]
     },
     "metadata": {},
     "output_type": "display_data"
    }
   ],
   "source": [
    "h = trainer.predict(test_dataset)"
   ]
  },
  {
   "cell_type": "code",
   "execution_count": 12,
   "metadata": {},
   "outputs": [
    {
     "data": {
      "image/png": "[encoded data removed]",
      "text/plain": [
       "<Figure size 576x360 with 2 Axes>"
      ]
     },
     "metadata": {
      "needs_background": "light"
     },
     "output_type": "display_data"
    }
   ],
   "source": [
    "plot_confusion(predictions=np.argmax(h.predictions, axis=-1), true_vals=h.label_ids, normalize=True)"
   ]
  },
  {
   "cell_type": "markdown",
   "metadata": {},
   "source": [
    "# 5) Fine-tune again on genre\n",
    "\n",
    "to not get stuck on two classes / clusters"
   ]
  },
  {
   "cell_type": "code",
   "execution_count": 7,
   "metadata": {},
   "outputs": [
    {
     "data": {
      "application/vnd.jupyter.widget-view+json": {
       "model_id": "90426dc3d4604107938b45af6799ce94",
       "version_major": 2,
       "version_minor": 0
      },
      "text/plain": [
       "  0%|          | 0/12 [00:00<?, ?ba/s]"
      ]
     },
     "metadata": {},
     "output_type": "display_data"
    },
    {
     "data": {
      "application/vnd.jupyter.widget-view+json": {
       "model_id": "5d1bc29ce5a14db5afe17972a74108f4",
       "version_major": 2,
       "version_minor": 0
      },
      "text/plain": [
       "  0%|          | 0/3 [00:00<?, ?ba/s]"
      ]
     },
     "metadata": {},
     "output_type": "display_data"
    },
    {
     "data": {
      "application/vnd.jupyter.widget-view+json": {
       "model_id": "7178e317911543aca322ccfc2e523f10",
       "version_major": 2,
       "version_minor": 0
      },
      "text/plain": [
       "  0%|          | 0/3 [00:00<?, ?ba/s]"
      ]
     },
     "metadata": {},
     "output_type": "display_data"
    },
    {
     "name": "stdout",
     "output_type": "stream",
     "text": [
      "tokenized lyrics DatasetDict({\n",
      "    train: Dataset({\n",
      "        features: ['attention_mask', 'input_ids', 'text'],\n",
      "        num_rows: 11104\n",
      "    })\n",
      "    validation: Dataset({\n",
      "        features: ['attention_mask', 'input_ids', 'text'],\n",
      "        num_rows: 2379\n",
      "    })\n",
      "    test: Dataset({\n",
      "        features: ['attention_mask', 'input_ids', 'text'],\n",
      "        num_rows: 2380\n",
      "    })\n",
      "})\n"
     ]
    },
    {
     "data": {
      "application/vnd.jupyter.widget-view+json": {
       "model_id": "e7feb233c1304ab1a0eb934efb653cee",
       "version_major": 2,
       "version_minor": 0
      },
      "text/plain": [
       "Casting the dataset:   0%|          | 0/2 [00:00<?, ?ba/s]"
      ]
     },
     "metadata": {},
     "output_type": "display_data"
    },
    {
     "data": {
      "application/vnd.jupyter.widget-view+json": {
       "model_id": "94fa57419b7d45358691220903ec98e9",
       "version_major": 2,
       "version_minor": 0
      },
      "text/plain": [
       "Casting the dataset:   0%|          | 0/1 [00:00<?, ?ba/s]"
      ]
     },
     "metadata": {},
     "output_type": "display_data"
    },
    {
     "data": {
      "application/vnd.jupyter.widget-view+json": {
       "model_id": "18d7cfe4b37d4ab49bc3ecf87b051f60",
       "version_major": 2,
       "version_minor": 0
      },
      "text/plain": [
       "Casting the dataset:   0%|          | 0/1 [00:00<?, ?ba/s]"
      ]
     },
     "metadata": {},
     "output_type": "display_data"
    },
    {
     "name": "stdout",
     "output_type": "stream",
     "text": [
      "{'train': Dataset({\n",
      "    features: ['attention_mask', 'input_ids', 'text', 'labels'],\n",
      "    num_rows: 11104\n",
      "}), 'validation': Dataset({\n",
      "    features: ['attention_mask', 'input_ids', 'text', 'labels'],\n",
      "    num_rows: 2379\n",
      "}), 'test': Dataset({\n",
      "    features: ['attention_mask', 'input_ids', 'text', 'labels'],\n",
      "    num_rows: 2380\n",
      "})}\n",
      "Dataset({\n",
      "    features: ['attention_mask', 'input_ids', 'text', 'labels'],\n",
      "    num_rows: 11104\n",
      "})\n",
      "Dataset({\n",
      "    features: ['attention_mask', 'input_ids', 'text', 'labels'],\n",
      "    num_rows: 2379\n",
      "})\n",
      "Dataset({\n",
      "    features: ['attention_mask', 'input_ids', 'text', 'labels'],\n",
      "    num_rows: 2380\n",
      "})\n",
      "LOADING MODEL\n",
      "0.002\n",
      "mpnet-genre-valence-energy-danceability-finetuned-frozen-genre\n"
     ]
    }
   ],
   "source": [
    "trainer, train_dataset, val_dataset, test_dataset = create_trainer(\n",
    "#     model_str=\"sentence-transformers/all-mpnet-base-v2\",\n",
    "    model_str=\"all-mpnet-base-v2-finetuned-genre_unfrozen_base-checkpoint-1735/checkpoint-1735\",\n",
    "    lyrics=lyrics, \n",
    "    feature=\"genre\", \n",
    "    batch_size=32, \n",
    "    n_epochs=5,\n",
    "    freeze_base_model=True,\n",
    "    output_dir=\"mpnet-genre-valence-energy-danceability-finetuned-frozen-genre\",\n",
    "    base_model_str=\"mpnet-genre-valence-energy-danceability-finetuned/checkpoint-1041\"\n",
    ")"
   ]
  },
  {
   "cell_type": "code",
   "execution_count": 8,
   "metadata": {},
   "outputs": [
    {
     "name": "stderr",
     "output_type": "stream",
     "text": [
      "The following columns in the training set  don't have a corresponding argument in `MPNetForSequenceClassification.forward` and have been ignored: text.\n",
      "***** Running training *****\n",
      "  Num examples = 11104\n",
      "  Num Epochs = 5\n",
      "  Instantaneous batch size per device = 32\n",
      "  Total train batch size (w. parallel, distributed & accumulation) = 32\n",
      "  Gradient Accumulation steps = 1\n",
      "  Total optimization steps = 1735\n"
     ]
    },
    {
     "data": {
      "text/html": [
       "\n",
       "    <div>\n",
       "      \n",
       "      <progress value='1735' max='1735' style='width:300px; height:20px; vertical-align: middle;'></progress>\n",
       "      [1735/1735 15:33, Epoch 5/5]\n",
       "    </div>\n",
       "    <table border=\"1\" class=\"dataframe\">\n",
       "  <thead>\n",
       "    <tr style=\"text-align: left;\">\n",
       "      <th>Epoch</th>\n",
       "      <th>Training Loss</th>\n",
       "      <th>Validation Loss</th>\n",
       "      <th>Accuracy</th>\n",
       "    </tr>\n",
       "  </thead>\n",
       "  <tbody>\n",
       "    <tr>\n",
       "      <td>1</td>\n",
       "      <td>No log</td>\n",
       "      <td>1.975945</td>\n",
       "      <td>0.456915</td>\n",
       "    </tr>\n",
       "    <tr>\n",
       "      <td>2</td>\n",
       "      <td>0.651100</td>\n",
       "      <td>2.061285</td>\n",
       "      <td>0.454813</td>\n",
       "    </tr>\n",
       "    <tr>\n",
       "      <td>3</td>\n",
       "      <td>0.594600</td>\n",
       "      <td>2.116096</td>\n",
       "      <td>0.454813</td>\n",
       "    </tr>\n",
       "    <tr>\n",
       "      <td>4</td>\n",
       "      <td>0.594600</td>\n",
       "      <td>2.055464</td>\n",
       "      <td>0.460698</td>\n",
       "    </tr>\n",
       "    <tr>\n",
       "      <td>5</td>\n",
       "      <td>0.595000</td>\n",
       "      <td>2.018153</td>\n",
       "      <td>0.461538</td>\n",
       "    </tr>\n",
       "  </tbody>\n",
       "</table><p>"
      ],
      "text/plain": [
       "<IPython.core.display.HTML object>"
      ]
     },
     "metadata": {},
     "output_type": "display_data"
    },
    {
     "name": "stderr",
     "output_type": "stream",
     "text": [
      "The following columns in the evaluation set  don't have a corresponding argument in `MPNetForSequenceClassification.forward` and have been ignored: text.\n",
      "***** Running Evaluation *****\n",
      "  Num examples = 2379\n",
      "  Batch size = 32\n",
      "Saving model checkpoint to mpnet-genre-valence-energy-danceability-finetuned-frozen-genre/checkpoint-347\n",
      "Configuration saved in mpnet-genre-valence-energy-danceability-finetuned-frozen-genre/checkpoint-347/config.json\n",
      "Model weights saved in mpnet-genre-valence-energy-danceability-finetuned-frozen-genre/checkpoint-347/pytorch_model.bin\n",
      "tokenizer config file saved in mpnet-genre-valence-energy-danceability-finetuned-frozen-genre/checkpoint-347/tokenizer_config.json\n",
      "Special tokens file saved in mpnet-genre-valence-energy-danceability-finetuned-frozen-genre/checkpoint-347/special_tokens_map.json\n",
      "The following columns in the evaluation set  don't have a corresponding argument in `MPNetForSequenceClassification.forward` and have been ignored: text.\n",
      "***** Running Evaluation *****\n",
      "  Num examples = 2379\n",
      "  Batch size = 32\n",
      "Saving model checkpoint to mpnet-genre-valence-energy-danceability-finetuned-frozen-genre/checkpoint-694\n",
      "Configuration saved in mpnet-genre-valence-energy-danceability-finetuned-frozen-genre/checkpoint-694/config.json\n",
      "Model weights saved in mpnet-genre-valence-energy-danceability-finetuned-frozen-genre/checkpoint-694/pytorch_model.bin\n",
      "tokenizer config file saved in mpnet-genre-valence-energy-danceability-finetuned-frozen-genre/checkpoint-694/tokenizer_config.json\n",
      "Special tokens file saved in mpnet-genre-valence-energy-danceability-finetuned-frozen-genre/checkpoint-694/special_tokens_map.json\n",
      "The following columns in the evaluation set  don't have a corresponding argument in `MPNetForSequenceClassification.forward` and have been ignored: text.\n",
      "***** Running Evaluation *****\n",
      "  Num examples = 2379\n",
      "  Batch size = 32\n",
      "Saving model checkpoint to mpnet-genre-valence-energy-danceability-finetuned-frozen-genre/checkpoint-1041\n",
      "Configuration saved in mpnet-genre-valence-energy-danceability-finetuned-frozen-genre/checkpoint-1041/config.json\n",
      "Model weights saved in mpnet-genre-valence-energy-danceability-finetuned-frozen-genre/checkpoint-1041/pytorch_model.bin\n",
      "tokenizer config file saved in mpnet-genre-valence-energy-danceability-finetuned-frozen-genre/checkpoint-1041/tokenizer_config.json\n",
      "Special tokens file saved in mpnet-genre-valence-energy-danceability-finetuned-frozen-genre/checkpoint-1041/special_tokens_map.json\n",
      "The following columns in the evaluation set  don't have a corresponding argument in `MPNetForSequenceClassification.forward` and have been ignored: text.\n",
      "***** Running Evaluation *****\n",
      "  Num examples = 2379\n",
      "  Batch size = 32\n",
      "Saving model checkpoint to mpnet-genre-valence-energy-danceability-finetuned-frozen-genre/checkpoint-1388\n",
      "Configuration saved in mpnet-genre-valence-energy-danceability-finetuned-frozen-genre/checkpoint-1388/config.json\n",
      "Model weights saved in mpnet-genre-valence-energy-danceability-finetuned-frozen-genre/checkpoint-1388/pytorch_model.bin\n",
      "tokenizer config file saved in mpnet-genre-valence-energy-danceability-finetuned-frozen-genre/checkpoint-1388/tokenizer_config.json\n",
      "Special tokens file saved in mpnet-genre-valence-energy-danceability-finetuned-frozen-genre/checkpoint-1388/special_tokens_map.json\n",
      "The following columns in the evaluation set  don't have a corresponding argument in `MPNetForSequenceClassification.forward` and have been ignored: text.\n",
      "***** Running Evaluation *****\n",
      "  Num examples = 2379\n",
      "  Batch size = 32\n",
      "Saving model checkpoint to mpnet-genre-valence-energy-danceability-finetuned-frozen-genre/checkpoint-1735\n",
      "Configuration saved in mpnet-genre-valence-energy-danceability-finetuned-frozen-genre/checkpoint-1735/config.json\n",
      "Model weights saved in mpnet-genre-valence-energy-danceability-finetuned-frozen-genre/checkpoint-1735/pytorch_model.bin\n",
      "tokenizer config file saved in mpnet-genre-valence-energy-danceability-finetuned-frozen-genre/checkpoint-1735/tokenizer_config.json\n",
      "Special tokens file saved in mpnet-genre-valence-energy-danceability-finetuned-frozen-genre/checkpoint-1735/special_tokens_map.json\n",
      "\n",
      "\n",
      "Training completed. Do not forget to share your model on huggingface.co/models =)\n",
      "\n",
      "\n",
      "Loading best model from mpnet-genre-valence-energy-danceability-finetuned-frozen-genre/checkpoint-1735 (score: 0.46153846153846156).\n"
     ]
    },
    {
     "data": {
      "text/plain": [
       "TrainOutput(global_step=1735, training_loss=0.6241518487847848, metrics={'train_runtime': 934.2346, 'train_samples_per_second': 59.428, 'train_steps_per_second': 1.857, 'total_flos': 1.460871274561536e+16, 'train_loss': 0.6241518487847848, 'epoch': 5.0})"
      ]
     },
     "execution_count": 8,
     "metadata": {},
     "output_type": "execute_result"
    }
   ],
   "source": [
    "trainer.train()"
   ]
  },
  {
   "cell_type": "code",
   "execution_count": 9,
   "metadata": {},
   "outputs": [
    {
     "name": "stderr",
     "output_type": "stream",
     "text": [
      "The following columns in the test set  don't have a corresponding argument in `MPNetForSequenceClassification.forward` and have been ignored: text.\n",
      "***** Running Prediction *****\n",
      "  Num examples = 2380\n",
      "  Batch size = 32\n"
     ]
    },
    {
     "data": {
      "text/html": [
       "\n",
       "    <div>\n",
       "      \n",
       "      <progress value='75' max='75' style='width:300px; height:20px; vertical-align: middle;'></progress>\n",
       "      [75/75 00:29]\n",
       "    </div>\n",
       "    "
      ],
      "text/plain": [
       "<IPython.core.display.HTML object>"
      ]
     },
     "metadata": {},
     "output_type": "display_data"
    }
   ],
   "source": [
    "h = trainer.predict(test_dataset)"
   ]
  },
  {
   "cell_type": "code",
   "execution_count": 10,
   "metadata": {},
   "outputs": [
    {
     "data": {
      "image/png": "[encoded data removed]",
      "text/plain": [
       "<Figure size 576x360 with 2 Axes>"
      ]
     },
     "metadata": {
      "needs_background": "light"
     },
     "output_type": "display_data"
    }
   ],
   "source": [
    "plot_confusion(predictions=np.argmax(h.predictions, axis=-1), true_vals=h.label_ids, normalize=True)"
   ]
  },
  {
   "cell_type": "markdown",
   "metadata": {},
   "source": [
    "### now unfreeze base layers and train with small learning rate"
   ]
  },
  {
   "cell_type": "code",
   "execution_count": 7,
   "metadata": {},
   "outputs": [
    {
     "data": {
      "application/vnd.jupyter.widget-view+json": {
       "model_id": "4d141494169b43898479b8fac8236519",
       "version_major": 2,
       "version_minor": 0
      },
      "text/plain": [
       "  0%|          | 0/12 [00:00<?, ?ba/s]"
      ]
     },
     "metadata": {},
     "output_type": "display_data"
    },
    {
     "data": {
      "application/vnd.jupyter.widget-view+json": {
       "model_id": "29480af4926a4152bb7ee0e5db7cbd0c",
       "version_major": 2,
       "version_minor": 0
      },
      "text/plain": [
       "  0%|          | 0/3 [00:00<?, ?ba/s]"
      ]
     },
     "metadata": {},
     "output_type": "display_data"
    },
    {
     "data": {
      "application/vnd.jupyter.widget-view+json": {
       "model_id": "dc4af6f389b94ee58ef9b3d18320e818",
       "version_major": 2,
       "version_minor": 0
      },
      "text/plain": [
       "  0%|          | 0/3 [00:00<?, ?ba/s]"
      ]
     },
     "metadata": {},
     "output_type": "display_data"
    },
    {
     "name": "stdout",
     "output_type": "stream",
     "text": [
      "tokenized lyrics DatasetDict({\n",
      "    train: Dataset({\n",
      "        features: ['attention_mask', 'input_ids', 'text'],\n",
      "        num_rows: 11104\n",
      "    })\n",
      "    validation: Dataset({\n",
      "        features: ['attention_mask', 'input_ids', 'text'],\n",
      "        num_rows: 2379\n",
      "    })\n",
      "    test: Dataset({\n",
      "        features: ['attention_mask', 'input_ids', 'text'],\n",
      "        num_rows: 2380\n",
      "    })\n",
      "})\n"
     ]
    },
    {
     "data": {
      "application/vnd.jupyter.widget-view+json": {
       "model_id": "4b2f099ddf1b4f5181d43266776d257e",
       "version_major": 2,
       "version_minor": 0
      },
      "text/plain": [
       "Casting the dataset:   0%|          | 0/2 [00:00<?, ?ba/s]"
      ]
     },
     "metadata": {},
     "output_type": "display_data"
    },
    {
     "data": {
      "application/vnd.jupyter.widget-view+json": {
       "model_id": "897f5849a0cf4d31bbdd96acc0b8ea61",
       "version_major": 2,
       "version_minor": 0
      },
      "text/plain": [
       "Casting the dataset:   0%|          | 0/1 [00:00<?, ?ba/s]"
      ]
     },
     "metadata": {},
     "output_type": "display_data"
    },
    {
     "data": {
      "application/vnd.jupyter.widget-view+json": {
       "model_id": "4b243dd3287e4ecda2e8f40e24c51019",
       "version_major": 2,
       "version_minor": 0
      },
      "text/plain": [
       "Casting the dataset:   0%|          | 0/1 [00:00<?, ?ba/s]"
      ]
     },
     "metadata": {},
     "output_type": "display_data"
    },
    {
     "name": "stdout",
     "output_type": "stream",
     "text": [
      "{'train': Dataset({\n",
      "    features: ['attention_mask', 'input_ids', 'text', 'labels'],\n",
      "    num_rows: 11104\n",
      "}), 'validation': Dataset({\n",
      "    features: ['attention_mask', 'input_ids', 'text', 'labels'],\n",
      "    num_rows: 2379\n",
      "}), 'test': Dataset({\n",
      "    features: ['attention_mask', 'input_ids', 'text', 'labels'],\n",
      "    num_rows: 2380\n",
      "})}\n",
      "Dataset({\n",
      "    features: ['attention_mask', 'input_ids', 'text', 'labels'],\n",
      "    num_rows: 11104\n",
      "})\n",
      "Dataset({\n",
      "    features: ['attention_mask', 'input_ids', 'text', 'labels'],\n",
      "    num_rows: 2379\n",
      "})\n",
      "Dataset({\n",
      "    features: ['attention_mask', 'input_ids', 'text', 'labels'],\n",
      "    num_rows: 2380\n",
      "})\n",
      "LOADING MODEL\n",
      "2e-06\n",
      "mpnet-genre-valence-energy-danceability-genre-finetuned\n"
     ]
    }
   ],
   "source": [
    "trainer, train_dataset, val_dataset, test_dataset = create_trainer(\n",
    "    model_str=\"mpnet-genre-valence-energy-danceability-finetuned-frozen-genre/checkpoint-1735\",\n",
    "    lyrics=lyrics, \n",
    "    freeze_base_model=False, \n",
    "    feature=\"genre\", \n",
    "    batch_size=32, \n",
    "    n_epochs=3,\n",
    "    learning_rate=2e-6,\n",
    "    output_dir=\"mpnet-genre-valence-energy-danceability-genre-finetuned\",\n",
    ")"
   ]
  },
  {
   "cell_type": "code",
   "execution_count": 8,
   "metadata": {},
   "outputs": [
    {
     "name": "stderr",
     "output_type": "stream",
     "text": [
      "The following columns in the training set  don't have a corresponding argument in `MPNetForSequenceClassification.forward` and have been ignored: text.\n",
      "***** Running training *****\n",
      "  Num examples = 11104\n",
      "  Num Epochs = 3\n",
      "  Instantaneous batch size per device = 32\n",
      "  Total train batch size (w. parallel, distributed & accumulation) = 32\n",
      "  Gradient Accumulation steps = 1\n",
      "  Total optimization steps = 1041\n"
     ]
    },
    {
     "data": {
      "text/html": [
       "\n",
       "    <div>\n",
       "      \n",
       "      <progress value='1041' max='1041' style='width:300px; height:20px; vertical-align: middle;'></progress>\n",
       "      [1041/1041 21:10, Epoch 3/3]\n",
       "    </div>\n",
       "    <table border=\"1\" class=\"dataframe\">\n",
       "  <thead>\n",
       "    <tr style=\"text-align: left;\">\n",
       "      <th>Epoch</th>\n",
       "      <th>Training Loss</th>\n",
       "      <th>Validation Loss</th>\n",
       "      <th>Accuracy</th>\n",
       "    </tr>\n",
       "  </thead>\n",
       "  <tbody>\n",
       "    <tr>\n",
       "      <td>1</td>\n",
       "      <td>No log</td>\n",
       "      <td>2.046608</td>\n",
       "      <td>0.452291</td>\n",
       "    </tr>\n",
       "    <tr>\n",
       "      <td>2</td>\n",
       "      <td>0.421000</td>\n",
       "      <td>2.073892</td>\n",
       "      <td>0.454393</td>\n",
       "    </tr>\n",
       "    <tr>\n",
       "      <td>3</td>\n",
       "      <td>0.370300</td>\n",
       "      <td>2.057786</td>\n",
       "      <td>0.456915</td>\n",
       "    </tr>\n",
       "  </tbody>\n",
       "</table><p>"
      ],
      "text/plain": [
       "<IPython.core.display.HTML object>"
      ]
     },
     "metadata": {},
     "output_type": "display_data"
    },
    {
     "name": "stderr",
     "output_type": "stream",
     "text": [
      "The following columns in the evaluation set  don't have a corresponding argument in `MPNetForSequenceClassification.forward` and have been ignored: text.\n",
      "***** Running Evaluation *****\n",
      "  Num examples = 2379\n",
      "  Batch size = 32\n",
      "Saving model checkpoint to mpnet-genre-valence-energy-danceability-genre-finetuned/checkpoint-347\n",
      "Configuration saved in mpnet-genre-valence-energy-danceability-genre-finetuned/checkpoint-347/config.json\n",
      "Model weights saved in mpnet-genre-valence-energy-danceability-genre-finetuned/checkpoint-347/pytorch_model.bin\n",
      "tokenizer config file saved in mpnet-genre-valence-energy-danceability-genre-finetuned/checkpoint-347/tokenizer_config.json\n",
      "Special tokens file saved in mpnet-genre-valence-energy-danceability-genre-finetuned/checkpoint-347/special_tokens_map.json\n",
      "The following columns in the evaluation set  don't have a corresponding argument in `MPNetForSequenceClassification.forward` and have been ignored: text.\n",
      "***** Running Evaluation *****\n",
      "  Num examples = 2379\n",
      "  Batch size = 32\n",
      "Saving model checkpoint to mpnet-genre-valence-energy-danceability-genre-finetuned/checkpoint-694\n",
      "Configuration saved in mpnet-genre-valence-energy-danceability-genre-finetuned/checkpoint-694/config.json\n",
      "Model weights saved in mpnet-genre-valence-energy-danceability-genre-finetuned/checkpoint-694/pytorch_model.bin\n",
      "tokenizer config file saved in mpnet-genre-valence-energy-danceability-genre-finetuned/checkpoint-694/tokenizer_config.json\n",
      "Special tokens file saved in mpnet-genre-valence-energy-danceability-genre-finetuned/checkpoint-694/special_tokens_map.json\n",
      "The following columns in the evaluation set  don't have a corresponding argument in `MPNetForSequenceClassification.forward` and have been ignored: text.\n",
      "***** Running Evaluation *****\n",
      "  Num examples = 2379\n",
      "  Batch size = 32\n",
      "Saving model checkpoint to mpnet-genre-valence-energy-danceability-genre-finetuned/checkpoint-1041\n",
      "Configuration saved in mpnet-genre-valence-energy-danceability-genre-finetuned/checkpoint-1041/config.json\n",
      "Model weights saved in mpnet-genre-valence-energy-danceability-genre-finetuned/checkpoint-1041/pytorch_model.bin\n",
      "tokenizer config file saved in mpnet-genre-valence-energy-danceability-genre-finetuned/checkpoint-1041/tokenizer_config.json\n",
      "Special tokens file saved in mpnet-genre-valence-energy-danceability-genre-finetuned/checkpoint-1041/special_tokens_map.json\n",
      "\n",
      "\n",
      "Training completed. Do not forget to share your model on huggingface.co/models =)\n",
      "\n",
      "\n",
      "Loading best model from mpnet-genre-valence-energy-danceability-genre-finetuned/checkpoint-1041 (score: 0.45691467002942415).\n"
     ]
    },
    {
     "data": {
      "text/plain": [
       "TrainOutput(global_step=1041, training_loss=0.39435597455467203, metrics={'train_runtime': 1271.8128, 'train_samples_per_second': 26.193, 'train_steps_per_second': 0.819, 'total_flos': 8765227647369216.0, 'train_loss': 0.39435597455467203, 'epoch': 3.0})"
      ]
     },
     "execution_count": 8,
     "metadata": {},
     "output_type": "execute_result"
    }
   ],
   "source": [
    "trainer.train()"
   ]
  },
  {
   "cell_type": "code",
   "execution_count": 9,
   "metadata": {},
   "outputs": [
    {
     "name": "stderr",
     "output_type": "stream",
     "text": [
      "The following columns in the test set  don't have a corresponding argument in `MPNetForSequenceClassification.forward` and have been ignored: text.\n",
      "***** Running Prediction *****\n",
      "  Num examples = 2380\n",
      "  Batch size = 32\n"
     ]
    },
    {
     "data": {
      "text/html": [
       "\n",
       "    <div>\n",
       "      \n",
       "      <progress value='75' max='75' style='width:300px; height:20px; vertical-align: middle;'></progress>\n",
       "      [75/75 00:26]\n",
       "    </div>\n",
       "    "
      ],
      "text/plain": [
       "<IPython.core.display.HTML object>"
      ]
     },
     "metadata": {},
     "output_type": "display_data"
    }
   ],
   "source": [
    "h = trainer.predict(test_dataset)"
   ]
  },
  {
   "cell_type": "code",
   "execution_count": 10,
   "metadata": {},
   "outputs": [
    {
     "data": {
      "image/png": "[encoded data removed]",
      "text/plain": [
       "<Figure size 576x360 with 2 Axes>"
      ]
     },
     "metadata": {
      "needs_background": "light"
     },
     "output_type": "display_data"
    }
   ],
   "source": [
    "plot_confusion(predictions=np.argmax(h.predictions, axis=-1), true_vals=h.label_ids, normalize=True)"
   ]
  },
  {
   "cell_type": "code",
   "execution_count": null,
   "metadata": {},
   "outputs": [],
   "source": []
  }
 ],
 "metadata": {
  "kernelspec": {
   "display_name": "Python 3",
   "language": "python",
   "name": "python3"
  },
  "language_info": {
   "codemirror_mode": {
    "name": "ipython",
    "version": 3
   },
   "file_extension": ".py",
   "mimetype": "text/x-python",
   "name": "python",
   "nbconvert_exporter": "python",
   "pygments_lexer": "ipython3",
   "version": "3.6.9"
  }
 },
 "nbformat": 4,
 "nbformat_minor": 4
}
