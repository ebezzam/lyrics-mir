{
 "cells": [
  {
   "cell_type": "code",
   "execution_count": 2,
   "metadata": {},
   "outputs": [],
   "source": [
    "import pandas as pd\n",
    "import re\n",
    "import numpy as np\n",
    "import matplotlib.pyplot as plt\n",
    "import itertools\n",
    "import ast"
   ]
  },
  {
   "cell_type": "code",
   "execution_count": 13,
   "metadata": {},
   "outputs": [],
   "source": [
    "from torch.utils.data import DataLoader\n",
    "from sentence_transformers import SentenceTransformer, InputExample, losses\n",
    "\n",
    "import torch \n",
    "import torch.nn as nn\n",
    "import torch.nn.functional as F\n",
    "from tqdm import tqdm\n",
    "\n",
    "from transformers import AutoModel, BertTokenizerFast, RobertaTokenizer\n"
   ]
  },
  {
   "cell_type": "code",
   "execution_count": 4,
   "metadata": {},
   "outputs": [],
   "source": [
    "df_clean = pd.read_pickle(\"df_clean_v3_13122021_py35.pkl\")"
   ]
  },
  {
   "cell_type": "markdown",
   "metadata": {},
   "source": [
    "#### Create the training dataset"
   ]
  },
  {
   "cell_type": "code",
   "execution_count": 5,
   "metadata": {},
   "outputs": [],
   "source": [
    "def get_lyrs_data(genre,attributes):\n",
    "    all_lyrs=[]\n",
    "    all_attrs=torch.tensor([])\n",
    "    genre_labels = []\n",
    "    for i,g in enumerate(genre):\n",
    "        lyrsd = df_clean[df_clean[\"genre\"] == g]\n",
    "        lyrs = list(lyrsd[\"lyrics\"][:].values)\n",
    "        genre_labels += [i]*len(lyrs)\n",
    "        all_lyrs += lyrs\n",
    "        \n",
    "        attrs = []\n",
    "        for a in attributes:\n",
    "            attrs.append(lyrsd[a].to_list())\n",
    "        attrs = torch.cat([torch.tensor(t).reshape(-1,1) for t in attrs],1)\n",
    "        all_attrs = torch.cat([all_attrs,attrs],0)\n",
    "    return all_lyrs,all_attrs,genre_labels"
   ]
  },
  {
   "cell_type": "code",
   "execution_count": 6,
   "metadata": {},
   "outputs": [],
   "source": [
    "def get_splitlyrs_data(genre,attributes):\n",
    "    all_first_lyrs=[]\n",
    "    all_sec_lyrs=[]\n",
    "    all_attrs=torch.tensor([])\n",
    "    genre_labels = []\n",
    "    for i,g in enumerate(genre):\n",
    "        lyrsd = df_clean[df_clean[\"genre\"] == g]\n",
    "        lyrs = list(lyrsd[\"lyrics\"][:].values)\n",
    "        genre_labels += [i]*len(lyrs)\n",
    "        for lyr in lyrs:\n",
    "            lyrlen = len(lyr)//2\n",
    "            first_half = lyr[:lyrlen]\n",
    "            sec_half = lyr[lyrlen:]\n",
    "            \n",
    "            all_first_lyrs += [first_half]\n",
    "            all_sec_lyrs += [sec_half]\n",
    "        \n",
    "        attrs = []\n",
    "        for a in attributes:\n",
    "            attrs.append(lyrsd[a].to_list())\n",
    "        attrs = torch.cat([torch.tensor(t).reshape(-1,1) for t in attrs],1)\n",
    "        all_attrs = torch.cat([all_attrs,attrs],0)\n",
    "    return all_first_lyrs,all_sec_lyrs,all_attrs,genre_labels"
   ]
  },
  {
   "cell_type": "code",
   "execution_count": 7,
   "metadata": {},
   "outputs": [
    {
     "name": "stdout",
     "output_type": "stream",
     "text": [
      "15916 15916 torch.Size([15916, 1])\n"
     ]
    }
   ],
   "source": [
    "genres = df_clean[\"genre\"].unique()\n",
    "# attr = ['danceability','energy','valence']\n",
    "attr = ['valence']\n",
    "Xf,Xs,y,g_l = get_splitlyrs_data(genres,attr)\n",
    "print(len(Xf),len(Xs),y.shape)"
   ]
  },
  {
   "cell_type": "code",
   "execution_count": 7,
   "metadata": {},
   "outputs": [
    {
     "data": {
      "text/plain": [
       "\"Thought I'd end up with Sean. But he wasn't a match. Wrote some songs about Ricky. Now I listen and laugh. Even almost got married. And for Pete, I'm so thankful. Wish I could say, Thank you to Malcolm. 'Cause he was an angel. One taught me love. One taught me patience. And one taught me pain. Now, I'm so amazing. Say I've loved and I've lost. But that's not what I see. So, look what I got. Look what you taught me. And for that, I say. Thank you, next (Next). Thank you, next (Next). Thank you, next. I'm so fuckin' grateful for my ex. Thank you, next (Next). Thank you, next (Next). Thank you, next (Next). I'm so fuckin'—. Spend more time with my friends. I ain't worried 'bout nothin'. Plus, I met someone else. We havin' better discussions. I know they say I move on too fast. But this one gon' last. 'Cause her name is Ari. And I'm so good with that (So good with that). She taught me love (Love). She taught me patience (Patience). How she handles pain (Pain). That shit's amazing (Yeah, she's amazing). I've loved and I've lost (Yeah, yeah). But that's not what I see (Yeah, yeah). 'Cause look what I've found (Yeah, yeah). Ain't no need for searching, and for that, I say. Thank you, next (Thank you, next). Thank you, nex\""
      ]
     },
     "execution_count": 7,
     "metadata": {},
     "output_type": "execute_result"
    }
   ],
   "source": [
    "Xf[0]"
   ]
  },
  {
   "cell_type": "code",
   "execution_count": 8,
   "metadata": {},
   "outputs": [
    {
     "data": {
      "text/plain": [
       "\"t (Thank you, next). Thank you, next (Thank you). I'm so fuckin' grateful for my ex. Thank you, next (Thank you, next). Thank you, next (Said thank you, next). Thank you, next (Next). I'm so fuckin' grateful for my ex. Thank you, next. Thank you, next. Thank you, next. I'm so fuckin'—. One day I'll walk down the aisle. Holding hands with my mama. I'll be thanking my dad. 'Cause she grew from the drama. Only wanna do it once, real bad. Gon' make that shit last. God forbid something happens. Least this song is a smash (Song is a smash). I've got so much love (Love). Got so much patience (Patience). I've learned from the pain (Pain). I turned out amazing (Turned out amazing). Say I've loved and I've lost (Yeah, yeah). But that's not what I see (Yeah, yeah). 'Cause look what I've found (Yeah, yeah). Ain't no need for searching. And for that, I say. Thank you, next (Thank you, next). Thank you, next (Thank you, next). Thank you, next. I'm so fuckin' grateful for my ex. Thank you, next (Thank you, next). Thank you, next (Said thank you, next). Thank you, next (Next). I'm so fuckin' grateful for my ex. Thank you, next. Thank you, next. Thank you, next. Yeah, yee. Thank you, next. Thank you, next. Thank you, next. Yeah, yee\""
      ]
     },
     "execution_count": 8,
     "metadata": {},
     "output_type": "execute_result"
    }
   ],
   "source": [
    "Xs[0]"
   ]
  },
  {
   "cell_type": "markdown",
   "metadata": {},
   "source": [
    "### Define Arch"
   ]
  },
  {
   "cell_type": "code",
   "execution_count": 9,
   "metadata": {},
   "outputs": [],
   "source": [
    "class BertModelBase(nn.Module):\n",
    "    def __init__(self,base_model):\n",
    "        super(BertModelBase,self).__init__()\n",
    "        \n",
    "        self.base_model = base_model\n",
    "#         self.freeze_params(self.base_model)\n",
    "        # dropout layer\n",
    "        self.dropout = nn.Dropout(0.1)\n",
    "\n",
    "        # relu activation function\n",
    "        self.relu =  nn.ReLU()\n",
    "\n",
    "        # dense layer 1\n",
    "        self.fc1 = nn.Linear(768,512)\n",
    "\n",
    "        # dense layer 2 (Output layer)\n",
    "        self.fc2 = nn.Linear(512,512)\n",
    "        \n",
    "      \n",
    "    def freeze_params(self,net):\n",
    "        for p in net.parameters():\n",
    "            p.require_grads = False\n",
    "    \n",
    "    def D(self,p, z, version='simplified'):\n",
    "\n",
    "        return - F.cosine_similarity(p, z.detach(), dim=-1).mean()\n",
    "\n",
    "    def forward(self,sent_id1,mask1,sent_id2,mask2):\n",
    "        baseout1 = self.base_model(sent_id1, attention_mask=mask1)['pooler_output']\n",
    "        baseout2 = self.base_model(sent_id2, attention_mask=mask2)['pooler_output']\n",
    "\n",
    "        z1 = self.fc1(baseout1)\n",
    "        z1 = self.relu(z1)\n",
    "\n",
    "        z2 = self.fc1(baseout2)\n",
    "        z2 = self.relu(z2)\n",
    "        \n",
    "\n",
    "        # output layer\n",
    "        p1 = self.fc2(z1)\n",
    "        p1 = self.relu(p1)\n",
    "        \n",
    "        p2 = self.fc2(z2)\n",
    "        p2 = self.relu(p2)\n",
    "        \n",
    "        L = self.D(p1, z2) / 2 + self.D(p2, z1) / 2\n",
    "\n",
    "        return L"
   ]
  },
  {
   "cell_type": "code",
   "execution_count": 14,
   "metadata": {},
   "outputs": [],
   "source": [
    "# bert = AutoModel.from_pretrained('bert-base-uncased')\n",
    "# tokenizer = BertTokenizerFast.from_pretrained('bert-base-uncased')\n",
    "# model = BertModelBase(bert)\n",
    "# model = BertModelAttributes(mpnet_base,1)\n",
    "# tokenizer = model.tokenizer\n",
    "\n",
    "bert = AutoModel.from_pretrained('sentence-transformers/all-distilroberta-v1')\n",
    "tokenizer = RobertaTokenizer.from_pretrained('sentence-transformers/all-distilroberta-v1')\n",
    "model = BertModelBase(bert)\n"
   ]
  },
  {
   "cell_type": "code",
   "execution_count": 15,
   "metadata": {},
   "outputs": [],
   "source": [
    "tokens_train_firsthalf = tokenizer.batch_encode_plus(\n",
    "    Xf,\n",
    "    max_length = 512,\n",
    "    padding=True,\n",
    "    truncation=True\n",
    ")\n",
    "tokens_train_sechalf = tokenizer.batch_encode_plus(\n",
    "    Xs,\n",
    "    max_length = 512,\n",
    "    padding=True,\n",
    "    truncation=True\n",
    ")\n"
   ]
  },
  {
   "cell_type": "code",
   "execution_count": 16,
   "metadata": {},
   "outputs": [],
   "source": [
    "train_seq_first = torch.tensor(tokens_train_firsthalf['input_ids'])\n",
    "train_mask_first = torch.tensor(tokens_train_firsthalf['attention_mask'])\n",
    "\n",
    "train_seq_sec = torch.tensor(tokens_train_sechalf['input_ids'])\n",
    "train_mask_sec = torch.tensor(tokens_train_sechalf['attention_mask'])\n",
    "\n",
    "train_y = y\n",
    "# train_y = torch.tensor(g_l)"
   ]
  },
  {
   "cell_type": "markdown",
   "metadata": {},
   "source": [
    "#### Dataloader and optimizer"
   ]
  },
  {
   "cell_type": "code",
   "execution_count": 17,
   "metadata": {},
   "outputs": [],
   "source": [
    "from torch.utils.data import TensorDataset, DataLoader, RandomSampler, SequentialSampler\n",
    "\n",
    "#define a batch size\n",
    "batch_size = 16\n",
    "\n",
    "# wrap tensors\n",
    "train_data = TensorDataset(train_seq_first, train_mask_first, train_seq_sec,train_mask_sec)\n",
    "\n",
    "# sampler for sampling the data during training\n",
    "train_sampler = RandomSampler(train_data)\n",
    "\n",
    "# dataLoader for train set\n",
    "train_dataloader = DataLoader(train_data, sampler=train_sampler, batch_size=batch_size)\n",
    "\n",
    "notrain_dataloader = DataLoader(train_data, batch_size=batch_size)"
   ]
  },
  {
   "cell_type": "code",
   "execution_count": 18,
   "metadata": {},
   "outputs": [],
   "source": [
    "# optimizer from hugging face transformers\n",
    "from transformers import AdamW\n",
    "\n",
    "# define the optimizer\n",
    "optimizer = AdamW(model.parameters(),lr = 1e-3)          # learning rate\n",
    "\n",
    "celoss = nn.CrossEntropyLoss()"
   ]
  },
  {
   "cell_type": "markdown",
   "metadata": {},
   "source": [
    "#### Single Train epoch"
   ]
  },
  {
   "cell_type": "code",
   "execution_count": 19,
   "metadata": {},
   "outputs": [],
   "source": [
    "def train():\n",
    "    model.cuda()\n",
    "    model.train()\n",
    "    total_loss, total_accuracy = 0, 0\n",
    "  \n",
    "    all_loss = []\n",
    "  \n",
    "    # iterate over batches\n",
    "    for step,batch in enumerate(tqdm(train_dataloader)):\n",
    "\n",
    "        # push the batch to gpu\n",
    "        batch = [r.to('cuda') for r in batch]\n",
    "\n",
    "        sent_id1, mask1, sent_id2, mask2 = batch\n",
    "\n",
    "        # clear previously calculated gradients \n",
    "        model.zero_grad()        \n",
    "\n",
    "        # get model predictions for the current batch\n",
    "        loss = model(sent_id1, mask1,sent_id2, mask2 )\n",
    "#         print(preds, labels)\n",
    "\n",
    "\n",
    "        all_loss.append(loss.item())\n",
    "\n",
    "\n",
    "        # backward pass to calculate the gradients\n",
    "        loss.backward()\n",
    "\n",
    "        # clip the the gradients to 1.0. It helps in preventing the exploding gradient problem\n",
    "#         torch.nn.utils.clip_grad_norm_(model.parameters(), 1.0)\n",
    "\n",
    "        # update parameters\n",
    "        optimizer.step()\n",
    "\n",
    "    return all_loss"
   ]
  },
  {
   "cell_type": "code",
   "execution_count": 20,
   "metadata": {},
   "outputs": [
    {
     "name": "stderr",
     "output_type": "stream",
     "text": [
      "100%|██████████| 995/995 [08:01<00:00,  2.07it/s]\n",
      "100%|██████████| 995/995 [08:01<00:00,  2.06it/s]\n"
     ]
    }
   ],
   "source": [
    "lossoverepoch = []\n",
    "for i in range(2):\n",
    "    lossoverepoch += train()"
   ]
  },
  {
   "cell_type": "code",
   "execution_count": 22,
   "metadata": {},
   "outputs": [
    {
     "data": {
      "text/plain": [
       "[<matplotlib.lines.Line2D at 0x7f9f12491198>]"
      ]
     },
     "execution_count": 22,
     "metadata": {},
     "output_type": "execute_result"
    },
    {
     "data": {
      "image/png": "[encoded data removed]",
      "text/plain": [
       "<Figure size 432x288 with 1 Axes>"
      ]
     },
     "metadata": {
      "needs_background": "light"
     },
     "output_type": "display_data"
    }
   ],
   "source": [
    "import matplotlib.pyplot as plt\n",
    "ll=[]\n",
    "for l in lossoverepoch:\n",
    "    if l<1:\n",
    "        ll.append(l)\n",
    "plt.plot(ll)"
   ]
  }
 ],
 "metadata": {
  "kernelspec": {
   "display_name": "Python 3",
   "language": "python",
   "name": "python3"
  },
  "language_info": {
   "codemirror_mode": {
    "name": "ipython",
    "version": 3
   },
   "file_extension": ".py",
   "mimetype": "text/x-python",
   "name": "python",
   "nbconvert_exporter": "python",
   "pygments_lexer": "ipython3",
   "version": "3.6.9"
  }
 },
 "nbformat": 4,
 "nbformat_minor": 5
}
